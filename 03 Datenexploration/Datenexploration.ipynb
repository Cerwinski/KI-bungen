{
 "cells": [
  {
   "cell_type": "markdown",
   "id": "88504c11",
   "metadata": {},
   "source": [
    "<img src=\"../img/htw-logo.png\" width=150>\n",
    "\n",
    "\n",
    "**I758 Wissens- und KI-basierte Systeme**\n",
    "\n",
    "# Explorative Datenanalyse: Verteilungen und Zusammenhänge\n",
    "(c) Ricardo Knauer, Raphael Wallsberger, Christina Kratsch"
   ]
  },
  {
   "cell_type": "markdown",
   "id": "442d883d",
   "metadata": {},
   "source": [
    "<font color=\"green\"><b>KLAUSURTAUGLICH.</b></font>\n",
    "Dieses Notebook gehört zu den fünf Notebooks, die Sie für die Klausur einreichen können. Bei vollständiger und korrekter Bearbeitung **erhalten Sie Punkte für die Abgabe, die zu Ihrer Klausur addiert werden.**\n"
   ]
  },
  {
   "cell_type": "markdown",
   "id": "2dc431ed",
   "metadata": {},
   "source": [
    "Willkommen bei der ersten praktischen Übung zum Thema explorative Datenanalyse! Wir haben uns während der Vorlesung bereits mit einigen Verfahren beschäftigt, mit denen man einen Datensatz erkunden kann. Im Folgenden wollen wir diese Verfahren auch praktisch anwenden. Zum Glück ist die explorative Analyse von Daten so weit verbreitet, dass es bereits eine Vielzahl an Bibliotheken für genau diesen Zweck gibt. Wir werden für unsere Analyse eine der bekanntesten Bibliotheken verwenden, um interaktive Diagramme zu erstellen: Plotly. Plotly verfügt über Schnittstellen zu einer ganzen Reihe an Programmiersprachen, darunter auch [Python](https://plotly.com/python/). Mit der ersten praktischen Übung verfolgen wir folgende Lernziele:\n",
    "\n",
    "- Sie sollen lernen, wie Sie Daten mithilfe von Säulen- oder Balkendiagrammen, Histogrammen, Streudiagrammen und Heatmaps in Plotly visualisieren können.\n",
    "- Sie sollen den Wert von Funktionsargumenten zur Visualisierung sach- und zweckorientiert anpassen können.\n",
    "- Sie sollen lernen, wie man eigene Hypothesen über einen Datensatz aufstellen und diese im Rahmen einer explorativen Analyse testen kann.\n",
    "\n",
    "Voraussichtlich werden Sie für diese Übung maximal 2h benötigen."
   ]
  },
  {
   "cell_type": "markdown",
   "id": "74448a5a",
   "metadata": {},
   "source": [
    "## Der Datensatz"
   ]
  },
  {
   "cell_type": "markdown",
   "id": "c1c5752e",
   "metadata": {},
   "source": [
    "Für die explorative Analyse von Daten braucht man als Ausgangspunkt erst einmal eins: Daten. Für unsere praktischen Übungen werden wir einen Datensatz verwenden, der uns freundlicherweise von [Prof. Dr. Stephan Matzka](https://www.htw-berlin.de/hochschule/personen/person/?eid=11248) zur Verfügung gestellt wurde. Der Datensatz befasst sich mit einer Fertigungszelle, in der drei Maschinen Produkte herstellen. Werfen Sie einen kurzen Blick auf die [Dokumentation](../data_sets/mechatronic_systems/docs.pdf), um einen Überblick über die verschienden Merkmale in diesem Datensatz zu erhalten. Unser Datensatz ```data.csv``` liegt im sogenannten csv-Format vor (englisch für _comma-separated values_). Das ist ein gängiges Format zum Speichern strukturierter Daten, bei dem einzelne Werte durch Kommas oder andere Trennzeichen separiert sind. Wenn wir uns die Datei [data.csv](../data_sets/mechatronic_systems/data.csv) anschauen, erkennen wir, dass die Trennzeichen in unserem Fall Semikolons sind und dass Floats ein Komma anstelle eines Punktes als Dezimaltrennzeichen aufweisen. Um den Datensatz einzulesen, nutzen wir die [pandas](https://pandas.pydata.org/)-Bibliothek - die erste Wahl bei der Arbeit mit tabellarischen Daten in Python. Eine kleine Anmerkung: Unter diesem Textabschnitt finden Sie einen Codeblock. Codeblöcke wie diesen können Sie ausführen, indem Sie auf den Block klicken und danach gleichzeitig SHIFT und ENTER auf der Tastatur drücken. Die entsprechende Ausgabe erscheint gegebenenfalls unter dem Block. Codeblöcke, die Sie zwischen den Texten in dieser Übung sehen, sollten Sie in der vorgegebenen Reihenfolge ausführen. Bei leeren Codeblöcken müssen Sie zuvor noch Ihren eigenen Code ergänzen."
   ]
  },
  {
   "cell_type": "code",
   "execution_count": 1,
   "id": "f326048e",
   "metadata": {},
   "outputs": [],
   "source": [
    "import pandas as pd\n",
    "\n",
    "df = pd.read_csv(\"data/machine_data.csv\", delimiter=\";\", decimal=\",\")"
   ]
  },
  {
   "cell_type": "markdown",
   "id": "eaa72f47",
   "metadata": {},
   "source": [
    "Sie sehen, dass wir zuerst die pandas-Bibliothek importieren. Um bei Funktionsaufrufen aus dieser Bibliothek nicht jedes Mal ```pandas``` ausschreiben zu müssen, lassen wir Python wissen, dass wir das Kürzel ```pd``` anstelle von ```pandas``` benutzen möchten. Unseren csv-Datensatz können wir einlesen, indem wir einfach den Befehl ```pd.read_csv()``` ausführen. Dabei müssen wir der Funktion natürlich mitteilen, wo sich unsere Daten befinden und dass wir ```;``` als Trennzeichen sowie ```,``` als Dezimaltrennzeichen verwenden möchten. Der Datensatz wird abschließend in der Variable ```df``` in Form einer Tabelle gespeichert. Schauen wir uns die ersten paar Zeilen dieser Tabelle an. Dazu benutzen wir pandas' ```head()```-Funktion:"
   ]
  },
  {
   "cell_type": "code",
   "execution_count": 2,
   "id": "01eb3677",
   "metadata": {},
   "outputs": [
    {
     "data": {
      "text/html": [
       "<div>\n",
       "<style scoped>\n",
       "    .dataframe tbody tr th:only-of-type {\n",
       "        vertical-align: middle;\n",
       "    }\n",
       "\n",
       "    .dataframe tbody tr th {\n",
       "        vertical-align: top;\n",
       "    }\n",
       "\n",
       "    .dataframe thead th {\n",
       "        text-align: right;\n",
       "    }\n",
       "</style>\n",
       "<table border=\"1\" class=\"dataframe\">\n",
       "  <thead>\n",
       "    <tr style=\"text-align: right;\">\n",
       "      <th></th>\n",
       "      <th>Maschine</th>\n",
       "      <th>Mode</th>\n",
       "      <th>Produkt</th>\n",
       "      <th>Strom / A</th>\n",
       "      <th>Drehmoment / Nm</th>\n",
       "      <th>Drehzahl / 1/min</th>\n",
       "      <th>Temp Umgebung / degC</th>\n",
       "      <th>Temp Umrichter / degC</th>\n",
       "      <th>Temp Werkzeug / degC</th>\n",
       "      <th>Bearbeitungszeit / s</th>\n",
       "    </tr>\n",
       "  </thead>\n",
       "  <tbody>\n",
       "    <tr>\n",
       "      <th>0</th>\n",
       "      <td>A</td>\n",
       "      <td>2.0</td>\n",
       "      <td>Y</td>\n",
       "      <td>22.782</td>\n",
       "      <td>51.79</td>\n",
       "      <td>1461</td>\n",
       "      <td>18.7</td>\n",
       "      <td>23.1</td>\n",
       "      <td>98.7</td>\n",
       "      <td>23.8</td>\n",
       "    </tr>\n",
       "    <tr>\n",
       "      <th>1</th>\n",
       "      <td>A</td>\n",
       "      <td>1.0</td>\n",
       "      <td>Y</td>\n",
       "      <td>19.793</td>\n",
       "      <td>45.03</td>\n",
       "      <td>1460</td>\n",
       "      <td>21.0</td>\n",
       "      <td>21.5</td>\n",
       "      <td>87.5</td>\n",
       "      <td>25.3</td>\n",
       "    </tr>\n",
       "    <tr>\n",
       "      <th>2</th>\n",
       "      <td>C</td>\n",
       "      <td>3.0</td>\n",
       "      <td>X</td>\n",
       "      <td>25.581</td>\n",
       "      <td>52.00</td>\n",
       "      <td>1463</td>\n",
       "      <td>19.9</td>\n",
       "      <td>21.8</td>\n",
       "      <td>98.1</td>\n",
       "      <td>19.9</td>\n",
       "    </tr>\n",
       "    <tr>\n",
       "      <th>3</th>\n",
       "      <td>C</td>\n",
       "      <td>3.0</td>\n",
       "      <td>Y</td>\n",
       "      <td>28.145</td>\n",
       "      <td>57.30</td>\n",
       "      <td>1461</td>\n",
       "      <td>20.7</td>\n",
       "      <td>25.4</td>\n",
       "      <td>109.7</td>\n",
       "      <td>22.3</td>\n",
       "    </tr>\n",
       "    <tr>\n",
       "      <th>4</th>\n",
       "      <td>C</td>\n",
       "      <td>2.0</td>\n",
       "      <td>Y</td>\n",
       "      <td>25.544</td>\n",
       "      <td>51.84</td>\n",
       "      <td>1466</td>\n",
       "      <td>19.0</td>\n",
       "      <td>24.1</td>\n",
       "      <td>100.8</td>\n",
       "      <td>23.8</td>\n",
       "    </tr>\n",
       "    <tr>\n",
       "      <th>5</th>\n",
       "      <td>A</td>\n",
       "      <td>2.0</td>\n",
       "      <td>X</td>\n",
       "      <td>21.426</td>\n",
       "      <td>48.64</td>\n",
       "      <td>1463</td>\n",
       "      <td>21.5</td>\n",
       "      <td>23.3</td>\n",
       "      <td>95.1</td>\n",
       "      <td>21.4</td>\n",
       "    </tr>\n",
       "    <tr>\n",
       "      <th>6</th>\n",
       "      <td>B</td>\n",
       "      <td>2.0</td>\n",
       "      <td>Y</td>\n",
       "      <td>22.786</td>\n",
       "      <td>50.92</td>\n",
       "      <td>1462</td>\n",
       "      <td>20.9</td>\n",
       "      <td>22.8</td>\n",
       "      <td>98.2</td>\n",
       "      <td>24.8</td>\n",
       "    </tr>\n",
       "    <tr>\n",
       "      <th>7</th>\n",
       "      <td>C</td>\n",
       "      <td>2.0</td>\n",
       "      <td>X</td>\n",
       "      <td>23.021</td>\n",
       "      <td>46.85</td>\n",
       "      <td>1462</td>\n",
       "      <td>21.3</td>\n",
       "      <td>23.8</td>\n",
       "      <td>93.1</td>\n",
       "      <td>21.4</td>\n",
       "    </tr>\n",
       "    <tr>\n",
       "      <th>8</th>\n",
       "      <td>B</td>\n",
       "      <td>2.0</td>\n",
       "      <td>Y</td>\n",
       "      <td>22.255</td>\n",
       "      <td>49.69</td>\n",
       "      <td>1463</td>\n",
       "      <td>21.5</td>\n",
       "      <td>24.4</td>\n",
       "      <td>97.7</td>\n",
       "      <td>24.8</td>\n",
       "    </tr>\n",
       "    <tr>\n",
       "      <th>9</th>\n",
       "      <td>C</td>\n",
       "      <td>3.0</td>\n",
       "      <td>X</td>\n",
       "      <td>26.195</td>\n",
       "      <td>53.29</td>\n",
       "      <td>1462</td>\n",
       "      <td>21.9</td>\n",
       "      <td>25.3</td>\n",
       "      <td>104.1</td>\n",
       "      <td>19.9</td>\n",
       "    </tr>\n",
       "  </tbody>\n",
       "</table>\n",
       "</div>"
      ],
      "text/plain": [
       "  Maschine  Mode Produkt  Strom / A  Drehmoment / Nm  Drehzahl / 1/min  \\\n",
       "0        A   2.0       Y     22.782            51.79              1461   \n",
       "1        A   1.0       Y     19.793            45.03              1460   \n",
       "2        C   3.0       X     25.581            52.00              1463   \n",
       "3        C   3.0       Y     28.145            57.30              1461   \n",
       "4        C   2.0       Y     25.544            51.84              1466   \n",
       "5        A   2.0       X     21.426            48.64              1463   \n",
       "6        B   2.0       Y     22.786            50.92              1462   \n",
       "7        C   2.0       X     23.021            46.85              1462   \n",
       "8        B   2.0       Y     22.255            49.69              1463   \n",
       "9        C   3.0       X     26.195            53.29              1462   \n",
       "\n",
       "   Temp Umgebung / degC  Temp Umrichter / degC  Temp Werkzeug / degC  \\\n",
       "0                  18.7                   23.1                  98.7   \n",
       "1                  21.0                   21.5                  87.5   \n",
       "2                  19.9                   21.8                  98.1   \n",
       "3                  20.7                   25.4                 109.7   \n",
       "4                  19.0                   24.1                 100.8   \n",
       "5                  21.5                   23.3                  95.1   \n",
       "6                  20.9                   22.8                  98.2   \n",
       "7                  21.3                   23.8                  93.1   \n",
       "8                  21.5                   24.4                  97.7   \n",
       "9                  21.9                   25.3                 104.1   \n",
       "\n",
       "   Bearbeitungszeit / s  \n",
       "0                  23.8  \n",
       "1                  25.3  \n",
       "2                  19.9  \n",
       "3                  22.3  \n",
       "4                  23.8  \n",
       "5                  21.4  \n",
       "6                  24.8  \n",
       "7                  21.4  \n",
       "8                  24.8  \n",
       "9                  19.9  "
      ]
     },
     "execution_count": 2,
     "metadata": {},
     "output_type": "execute_result"
    }
   ],
   "source": [
    "df.head(10)"
   ]
  },
  {
   "cell_type": "markdown",
   "id": "717167cb",
   "metadata": {},
   "source": [
    "Die ersten drei Merkmale scheinen in Kategorien eingeteilt zu sein, bei den anderen Merkmalen handelt es sich anscheinend um Floats oder Integers. Wenn wir uns noch einmal die [Dokumentation](../data_sets/mechatronic_systems/docs.pdf) vor Augen halten, so sind ```Maschine``` und ```Produkt``` offensichtlich nominale Merkmale; ```Mode``` ist hingegen ein ordinales Merkmal, da Energiesparbetrieb (```1.0```), Normalbetrieb (```2.0```) und Hochleistungsbetrieb (```3.0```) eine Rangordnung aufweisen. pandas verfügt natürlich nicht über diese Information aus der Dokumentation, daher müssen wir den ersten drei Merkmalen noch den passenden Datentyp zuweisen. Hierzu nutzen wir pandas' ```Categorical()```-Funktion:"
   ]
  },
  {
   "cell_type": "code",
   "execution_count": 3,
   "id": "70e04251",
   "metadata": {},
   "outputs": [],
   "source": [
    "df[\"Maschine\"] = pd.Categorical(df[\"Maschine\"])\n",
    "df[\"Produkt\"] = pd.Categorical(df[\"Produkt\"])\n",
    "df[\"Mode\"] = pd.Categorical(df[\"Mode\"], ordered=True)"
   ]
  },
  {
   "cell_type": "markdown",
   "id": "a4144d79",
   "metadata": {},
   "source": [
    "Wie man in dem oberen Codeblock erkennen kann, kann man auf Spalten der Tabelle zugreifen, indem man den Namen der Spalte (als String) zwischen zwei eckige Klammern schreibt. Um pandas mitzuteilen, ob es sich bei einem Merkmal um ein nominales oder um ein ordinales Merkmal handelt, benutzt man in der ```Categorical()```-Funktion das Argument ```ordered```. Das Argument ist standardmäßig auf ```False``` gesetzt. Bei ordinalen Merkmalen muss man der Funktion daher explizit den Wert ```True``` mitgeben. Nachdem wir unseren Merkmalen in der Tabelle also nun die richtigen Datentypen zugewiesen haben, können wir uns endlich den Visualisierungen zuwenden."
   ]
  },
  {
   "cell_type": "markdown",
   "id": "0e7a0c67",
   "metadata": {},
   "source": [
    "<h5>Ein Merkmal, ein Diagramm, viele Kenngrößen</h5>"
   ]
  },
  {
   "cell_type": "markdown",
   "id": "26425961",
   "metadata": {},
   "source": [
    "Sie haben in der Vorlesung bereits erfahren, dass es bei der explorativen Analyse zuerst meist sinnvoll ist, sich anzuschauen, wie oft die verschiedenen Werte in jedem Merkmal vorkommen. Bei nominalen und ordinalen Merkmalen bieten sich Säulen- oder Balkendiagramme zur Visualisierung an, bei metrischen Merkmalen Histogramme. Um interaktive Diagramme zu erstellen, können wir pandas ganz einfach mit Plotly kombinieren. Dazu setzen wir das sogenannte Backend zur Darstellung von Diagrammen auf ```\"plotly\"```:"
   ]
  },
  {
   "cell_type": "code",
   "execution_count": 4,
   "id": "2630f91c",
   "metadata": {},
   "outputs": [],
   "source": [
    "pd.options.plotting.backend = \"plotly\""
   ]
  },
  {
   "cell_type": "markdown",
   "id": "90302cdd",
   "metadata": {},
   "source": [
    "Ein [Säulendiagramm](https://plotly.github.io/plotly.py-docs/generated/plotly.express.bar.html) können wir darstellen, indem wir die Anzahl der Werte pro Kategorie mit der ```value_counts()```-Funktion zählen und danach ```plot(kind=\"bar\")``` aufrufen. Für das nominale Merkmal ```Maschine``` sähe das wie folgt aus:"
   ]
  },
  {
   "cell_type": "code",
   "execution_count": 5,
   "id": "a29e5b03",
   "metadata": {},
   "outputs": [
    {
     "data": {
      "application/vnd.plotly.v1+json": {
       "config": {
        "plotlyServerURL": "https://plot.ly"
       },
       "data": [
        {
         "alignmentgroup": "True",
         "hovertemplate": "variable=count<br>Maschine=%{x}<br>value=%{y}<extra></extra>",
         "legendgroup": "count",
         "marker": {
          "color": "#636efa",
          "pattern": {
           "shape": ""
          }
         },
         "name": "count",
         "offsetgroup": "count",
         "orientation": "v",
         "showlegend": true,
         "textposition": "auto",
         "type": "bar",
         "x": [
          "C",
          "A",
          "B"
         ],
         "xaxis": "x",
         "y": [
          416,
          401,
          183
         ],
         "yaxis": "y"
        }
       ],
       "layout": {
        "barmode": "relative",
        "legend": {
         "title": {
          "text": "variable"
         },
         "tracegroupgap": 0
        },
        "margin": {
         "t": 60
        },
        "template": {
         "data": {
          "bar": [
           {
            "error_x": {
             "color": "#2a3f5f"
            },
            "error_y": {
             "color": "#2a3f5f"
            },
            "marker": {
             "line": {
              "color": "#E5ECF6",
              "width": 0.5
             },
             "pattern": {
              "fillmode": "overlay",
              "size": 10,
              "solidity": 0.2
             }
            },
            "type": "bar"
           }
          ],
          "barpolar": [
           {
            "marker": {
             "line": {
              "color": "#E5ECF6",
              "width": 0.5
             },
             "pattern": {
              "fillmode": "overlay",
              "size": 10,
              "solidity": 0.2
             }
            },
            "type": "barpolar"
           }
          ],
          "carpet": [
           {
            "aaxis": {
             "endlinecolor": "#2a3f5f",
             "gridcolor": "white",
             "linecolor": "white",
             "minorgridcolor": "white",
             "startlinecolor": "#2a3f5f"
            },
            "baxis": {
             "endlinecolor": "#2a3f5f",
             "gridcolor": "white",
             "linecolor": "white",
             "minorgridcolor": "white",
             "startlinecolor": "#2a3f5f"
            },
            "type": "carpet"
           }
          ],
          "choropleth": [
           {
            "colorbar": {
             "outlinewidth": 0,
             "ticks": ""
            },
            "type": "choropleth"
           }
          ],
          "contour": [
           {
            "colorbar": {
             "outlinewidth": 0,
             "ticks": ""
            },
            "colorscale": [
             [
              0,
              "#0d0887"
             ],
             [
              0.1111111111111111,
              "#46039f"
             ],
             [
              0.2222222222222222,
              "#7201a8"
             ],
             [
              0.3333333333333333,
              "#9c179e"
             ],
             [
              0.4444444444444444,
              "#bd3786"
             ],
             [
              0.5555555555555556,
              "#d8576b"
             ],
             [
              0.6666666666666666,
              "#ed7953"
             ],
             [
              0.7777777777777778,
              "#fb9f3a"
             ],
             [
              0.8888888888888888,
              "#fdca26"
             ],
             [
              1,
              "#f0f921"
             ]
            ],
            "type": "contour"
           }
          ],
          "contourcarpet": [
           {
            "colorbar": {
             "outlinewidth": 0,
             "ticks": ""
            },
            "type": "contourcarpet"
           }
          ],
          "heatmap": [
           {
            "colorbar": {
             "outlinewidth": 0,
             "ticks": ""
            },
            "colorscale": [
             [
              0,
              "#0d0887"
             ],
             [
              0.1111111111111111,
              "#46039f"
             ],
             [
              0.2222222222222222,
              "#7201a8"
             ],
             [
              0.3333333333333333,
              "#9c179e"
             ],
             [
              0.4444444444444444,
              "#bd3786"
             ],
             [
              0.5555555555555556,
              "#d8576b"
             ],
             [
              0.6666666666666666,
              "#ed7953"
             ],
             [
              0.7777777777777778,
              "#fb9f3a"
             ],
             [
              0.8888888888888888,
              "#fdca26"
             ],
             [
              1,
              "#f0f921"
             ]
            ],
            "type": "heatmap"
           }
          ],
          "heatmapgl": [
           {
            "colorbar": {
             "outlinewidth": 0,
             "ticks": ""
            },
            "colorscale": [
             [
              0,
              "#0d0887"
             ],
             [
              0.1111111111111111,
              "#46039f"
             ],
             [
              0.2222222222222222,
              "#7201a8"
             ],
             [
              0.3333333333333333,
              "#9c179e"
             ],
             [
              0.4444444444444444,
              "#bd3786"
             ],
             [
              0.5555555555555556,
              "#d8576b"
             ],
             [
              0.6666666666666666,
              "#ed7953"
             ],
             [
              0.7777777777777778,
              "#fb9f3a"
             ],
             [
              0.8888888888888888,
              "#fdca26"
             ],
             [
              1,
              "#f0f921"
             ]
            ],
            "type": "heatmapgl"
           }
          ],
          "histogram": [
           {
            "marker": {
             "pattern": {
              "fillmode": "overlay",
              "size": 10,
              "solidity": 0.2
             }
            },
            "type": "histogram"
           }
          ],
          "histogram2d": [
           {
            "colorbar": {
             "outlinewidth": 0,
             "ticks": ""
            },
            "colorscale": [
             [
              0,
              "#0d0887"
             ],
             [
              0.1111111111111111,
              "#46039f"
             ],
             [
              0.2222222222222222,
              "#7201a8"
             ],
             [
              0.3333333333333333,
              "#9c179e"
             ],
             [
              0.4444444444444444,
              "#bd3786"
             ],
             [
              0.5555555555555556,
              "#d8576b"
             ],
             [
              0.6666666666666666,
              "#ed7953"
             ],
             [
              0.7777777777777778,
              "#fb9f3a"
             ],
             [
              0.8888888888888888,
              "#fdca26"
             ],
             [
              1,
              "#f0f921"
             ]
            ],
            "type": "histogram2d"
           }
          ],
          "histogram2dcontour": [
           {
            "colorbar": {
             "outlinewidth": 0,
             "ticks": ""
            },
            "colorscale": [
             [
              0,
              "#0d0887"
             ],
             [
              0.1111111111111111,
              "#46039f"
             ],
             [
              0.2222222222222222,
              "#7201a8"
             ],
             [
              0.3333333333333333,
              "#9c179e"
             ],
             [
              0.4444444444444444,
              "#bd3786"
             ],
             [
              0.5555555555555556,
              "#d8576b"
             ],
             [
              0.6666666666666666,
              "#ed7953"
             ],
             [
              0.7777777777777778,
              "#fb9f3a"
             ],
             [
              0.8888888888888888,
              "#fdca26"
             ],
             [
              1,
              "#f0f921"
             ]
            ],
            "type": "histogram2dcontour"
           }
          ],
          "mesh3d": [
           {
            "colorbar": {
             "outlinewidth": 0,
             "ticks": ""
            },
            "type": "mesh3d"
           }
          ],
          "parcoords": [
           {
            "line": {
             "colorbar": {
              "outlinewidth": 0,
              "ticks": ""
             }
            },
            "type": "parcoords"
           }
          ],
          "pie": [
           {
            "automargin": true,
            "type": "pie"
           }
          ],
          "scatter": [
           {
            "fillpattern": {
             "fillmode": "overlay",
             "size": 10,
             "solidity": 0.2
            },
            "type": "scatter"
           }
          ],
          "scatter3d": [
           {
            "line": {
             "colorbar": {
              "outlinewidth": 0,
              "ticks": ""
             }
            },
            "marker": {
             "colorbar": {
              "outlinewidth": 0,
              "ticks": ""
             }
            },
            "type": "scatter3d"
           }
          ],
          "scattercarpet": [
           {
            "marker": {
             "colorbar": {
              "outlinewidth": 0,
              "ticks": ""
             }
            },
            "type": "scattercarpet"
           }
          ],
          "scattergeo": [
           {
            "marker": {
             "colorbar": {
              "outlinewidth": 0,
              "ticks": ""
             }
            },
            "type": "scattergeo"
           }
          ],
          "scattergl": [
           {
            "marker": {
             "colorbar": {
              "outlinewidth": 0,
              "ticks": ""
             }
            },
            "type": "scattergl"
           }
          ],
          "scattermapbox": [
           {
            "marker": {
             "colorbar": {
              "outlinewidth": 0,
              "ticks": ""
             }
            },
            "type": "scattermapbox"
           }
          ],
          "scatterpolar": [
           {
            "marker": {
             "colorbar": {
              "outlinewidth": 0,
              "ticks": ""
             }
            },
            "type": "scatterpolar"
           }
          ],
          "scatterpolargl": [
           {
            "marker": {
             "colorbar": {
              "outlinewidth": 0,
              "ticks": ""
             }
            },
            "type": "scatterpolargl"
           }
          ],
          "scatterternary": [
           {
            "marker": {
             "colorbar": {
              "outlinewidth": 0,
              "ticks": ""
             }
            },
            "type": "scatterternary"
           }
          ],
          "surface": [
           {
            "colorbar": {
             "outlinewidth": 0,
             "ticks": ""
            },
            "colorscale": [
             [
              0,
              "#0d0887"
             ],
             [
              0.1111111111111111,
              "#46039f"
             ],
             [
              0.2222222222222222,
              "#7201a8"
             ],
             [
              0.3333333333333333,
              "#9c179e"
             ],
             [
              0.4444444444444444,
              "#bd3786"
             ],
             [
              0.5555555555555556,
              "#d8576b"
             ],
             [
              0.6666666666666666,
              "#ed7953"
             ],
             [
              0.7777777777777778,
              "#fb9f3a"
             ],
             [
              0.8888888888888888,
              "#fdca26"
             ],
             [
              1,
              "#f0f921"
             ]
            ],
            "type": "surface"
           }
          ],
          "table": [
           {
            "cells": {
             "fill": {
              "color": "#EBF0F8"
             },
             "line": {
              "color": "white"
             }
            },
            "header": {
             "fill": {
              "color": "#C8D4E3"
             },
             "line": {
              "color": "white"
             }
            },
            "type": "table"
           }
          ]
         },
         "layout": {
          "annotationdefaults": {
           "arrowcolor": "#2a3f5f",
           "arrowhead": 0,
           "arrowwidth": 1
          },
          "autotypenumbers": "strict",
          "coloraxis": {
           "colorbar": {
            "outlinewidth": 0,
            "ticks": ""
           }
          },
          "colorscale": {
           "diverging": [
            [
             0,
             "#8e0152"
            ],
            [
             0.1,
             "#c51b7d"
            ],
            [
             0.2,
             "#de77ae"
            ],
            [
             0.3,
             "#f1b6da"
            ],
            [
             0.4,
             "#fde0ef"
            ],
            [
             0.5,
             "#f7f7f7"
            ],
            [
             0.6,
             "#e6f5d0"
            ],
            [
             0.7,
             "#b8e186"
            ],
            [
             0.8,
             "#7fbc41"
            ],
            [
             0.9,
             "#4d9221"
            ],
            [
             1,
             "#276419"
            ]
           ],
           "sequential": [
            [
             0,
             "#0d0887"
            ],
            [
             0.1111111111111111,
             "#46039f"
            ],
            [
             0.2222222222222222,
             "#7201a8"
            ],
            [
             0.3333333333333333,
             "#9c179e"
            ],
            [
             0.4444444444444444,
             "#bd3786"
            ],
            [
             0.5555555555555556,
             "#d8576b"
            ],
            [
             0.6666666666666666,
             "#ed7953"
            ],
            [
             0.7777777777777778,
             "#fb9f3a"
            ],
            [
             0.8888888888888888,
             "#fdca26"
            ],
            [
             1,
             "#f0f921"
            ]
           ],
           "sequentialminus": [
            [
             0,
             "#0d0887"
            ],
            [
             0.1111111111111111,
             "#46039f"
            ],
            [
             0.2222222222222222,
             "#7201a8"
            ],
            [
             0.3333333333333333,
             "#9c179e"
            ],
            [
             0.4444444444444444,
             "#bd3786"
            ],
            [
             0.5555555555555556,
             "#d8576b"
            ],
            [
             0.6666666666666666,
             "#ed7953"
            ],
            [
             0.7777777777777778,
             "#fb9f3a"
            ],
            [
             0.8888888888888888,
             "#fdca26"
            ],
            [
             1,
             "#f0f921"
            ]
           ]
          },
          "colorway": [
           "#636efa",
           "#EF553B",
           "#00cc96",
           "#ab63fa",
           "#FFA15A",
           "#19d3f3",
           "#FF6692",
           "#B6E880",
           "#FF97FF",
           "#FECB52"
          ],
          "font": {
           "color": "#2a3f5f"
          },
          "geo": {
           "bgcolor": "white",
           "lakecolor": "white",
           "landcolor": "#E5ECF6",
           "showlakes": true,
           "showland": true,
           "subunitcolor": "white"
          },
          "hoverlabel": {
           "align": "left"
          },
          "hovermode": "closest",
          "mapbox": {
           "style": "light"
          },
          "paper_bgcolor": "white",
          "plot_bgcolor": "#E5ECF6",
          "polar": {
           "angularaxis": {
            "gridcolor": "white",
            "linecolor": "white",
            "ticks": ""
           },
           "bgcolor": "#E5ECF6",
           "radialaxis": {
            "gridcolor": "white",
            "linecolor": "white",
            "ticks": ""
           }
          },
          "scene": {
           "xaxis": {
            "backgroundcolor": "#E5ECF6",
            "gridcolor": "white",
            "gridwidth": 2,
            "linecolor": "white",
            "showbackground": true,
            "ticks": "",
            "zerolinecolor": "white"
           },
           "yaxis": {
            "backgroundcolor": "#E5ECF6",
            "gridcolor": "white",
            "gridwidth": 2,
            "linecolor": "white",
            "showbackground": true,
            "ticks": "",
            "zerolinecolor": "white"
           },
           "zaxis": {
            "backgroundcolor": "#E5ECF6",
            "gridcolor": "white",
            "gridwidth": 2,
            "linecolor": "white",
            "showbackground": true,
            "ticks": "",
            "zerolinecolor": "white"
           }
          },
          "shapedefaults": {
           "line": {
            "color": "#2a3f5f"
           }
          },
          "ternary": {
           "aaxis": {
            "gridcolor": "white",
            "linecolor": "white",
            "ticks": ""
           },
           "baxis": {
            "gridcolor": "white",
            "linecolor": "white",
            "ticks": ""
           },
           "bgcolor": "#E5ECF6",
           "caxis": {
            "gridcolor": "white",
            "linecolor": "white",
            "ticks": ""
           }
          },
          "title": {
           "x": 0.05
          },
          "xaxis": {
           "automargin": true,
           "gridcolor": "white",
           "linecolor": "white",
           "ticks": "",
           "title": {
            "standoff": 15
           },
           "zerolinecolor": "white",
           "zerolinewidth": 2
          },
          "yaxis": {
           "automargin": true,
           "gridcolor": "white",
           "linecolor": "white",
           "ticks": "",
           "title": {
            "standoff": 15
           },
           "zerolinecolor": "white",
           "zerolinewidth": 2
          }
         }
        },
        "xaxis": {
         "anchor": "y",
         "domain": [
          0,
          1
         ],
         "title": {
          "text": "Maschine"
         }
        },
        "yaxis": {
         "anchor": "x",
         "domain": [
          0,
          1
         ],
         "title": {
          "text": "value"
         }
        }
       }
      }
     },
     "metadata": {},
     "output_type": "display_data"
    }
   ],
   "source": [
    "df[\"Maschine\"].value_counts().plot(kind=\"bar\")"
   ]
  },
  {
   "cell_type": "markdown",
   "id": "3169bcd7",
   "metadata": {},
   "source": [
    "Das entsprechende [Balkendiagramm](https://plotly.github.io/plotly.py-docs/generated/plotly.express.bar.html) sähe so aus:"
   ]
  },
  {
   "cell_type": "code",
   "execution_count": 6,
   "id": "c5d57da4",
   "metadata": {},
   "outputs": [
    {
     "data": {
      "application/vnd.plotly.v1+json": {
       "config": {
        "plotlyServerURL": "https://plot.ly"
       },
       "data": [
        {
         "alignmentgroup": "True",
         "hovertemplate": "variable=count<br>value=%{x}<br>Maschine=%{y}<extra></extra>",
         "legendgroup": "count",
         "marker": {
          "color": "#636efa",
          "pattern": {
           "shape": ""
          }
         },
         "name": "count",
         "offsetgroup": "count",
         "orientation": "h",
         "showlegend": true,
         "textposition": "auto",
         "type": "bar",
         "x": [
          416,
          401,
          183
         ],
         "xaxis": "x",
         "y": [
          "C",
          "A",
          "B"
         ],
         "yaxis": "y"
        }
       ],
       "layout": {
        "barmode": "relative",
        "legend": {
         "title": {
          "text": "variable"
         },
         "tracegroupgap": 0
        },
        "margin": {
         "t": 60
        },
        "template": {
         "data": {
          "bar": [
           {
            "error_x": {
             "color": "#2a3f5f"
            },
            "error_y": {
             "color": "#2a3f5f"
            },
            "marker": {
             "line": {
              "color": "#E5ECF6",
              "width": 0.5
             },
             "pattern": {
              "fillmode": "overlay",
              "size": 10,
              "solidity": 0.2
             }
            },
            "type": "bar"
           }
          ],
          "barpolar": [
           {
            "marker": {
             "line": {
              "color": "#E5ECF6",
              "width": 0.5
             },
             "pattern": {
              "fillmode": "overlay",
              "size": 10,
              "solidity": 0.2
             }
            },
            "type": "barpolar"
           }
          ],
          "carpet": [
           {
            "aaxis": {
             "endlinecolor": "#2a3f5f",
             "gridcolor": "white",
             "linecolor": "white",
             "minorgridcolor": "white",
             "startlinecolor": "#2a3f5f"
            },
            "baxis": {
             "endlinecolor": "#2a3f5f",
             "gridcolor": "white",
             "linecolor": "white",
             "minorgridcolor": "white",
             "startlinecolor": "#2a3f5f"
            },
            "type": "carpet"
           }
          ],
          "choropleth": [
           {
            "colorbar": {
             "outlinewidth": 0,
             "ticks": ""
            },
            "type": "choropleth"
           }
          ],
          "contour": [
           {
            "colorbar": {
             "outlinewidth": 0,
             "ticks": ""
            },
            "colorscale": [
             [
              0,
              "#0d0887"
             ],
             [
              0.1111111111111111,
              "#46039f"
             ],
             [
              0.2222222222222222,
              "#7201a8"
             ],
             [
              0.3333333333333333,
              "#9c179e"
             ],
             [
              0.4444444444444444,
              "#bd3786"
             ],
             [
              0.5555555555555556,
              "#d8576b"
             ],
             [
              0.6666666666666666,
              "#ed7953"
             ],
             [
              0.7777777777777778,
              "#fb9f3a"
             ],
             [
              0.8888888888888888,
              "#fdca26"
             ],
             [
              1,
              "#f0f921"
             ]
            ],
            "type": "contour"
           }
          ],
          "contourcarpet": [
           {
            "colorbar": {
             "outlinewidth": 0,
             "ticks": ""
            },
            "type": "contourcarpet"
           }
          ],
          "heatmap": [
           {
            "colorbar": {
             "outlinewidth": 0,
             "ticks": ""
            },
            "colorscale": [
             [
              0,
              "#0d0887"
             ],
             [
              0.1111111111111111,
              "#46039f"
             ],
             [
              0.2222222222222222,
              "#7201a8"
             ],
             [
              0.3333333333333333,
              "#9c179e"
             ],
             [
              0.4444444444444444,
              "#bd3786"
             ],
             [
              0.5555555555555556,
              "#d8576b"
             ],
             [
              0.6666666666666666,
              "#ed7953"
             ],
             [
              0.7777777777777778,
              "#fb9f3a"
             ],
             [
              0.8888888888888888,
              "#fdca26"
             ],
             [
              1,
              "#f0f921"
             ]
            ],
            "type": "heatmap"
           }
          ],
          "heatmapgl": [
           {
            "colorbar": {
             "outlinewidth": 0,
             "ticks": ""
            },
            "colorscale": [
             [
              0,
              "#0d0887"
             ],
             [
              0.1111111111111111,
              "#46039f"
             ],
             [
              0.2222222222222222,
              "#7201a8"
             ],
             [
              0.3333333333333333,
              "#9c179e"
             ],
             [
              0.4444444444444444,
              "#bd3786"
             ],
             [
              0.5555555555555556,
              "#d8576b"
             ],
             [
              0.6666666666666666,
              "#ed7953"
             ],
             [
              0.7777777777777778,
              "#fb9f3a"
             ],
             [
              0.8888888888888888,
              "#fdca26"
             ],
             [
              1,
              "#f0f921"
             ]
            ],
            "type": "heatmapgl"
           }
          ],
          "histogram": [
           {
            "marker": {
             "pattern": {
              "fillmode": "overlay",
              "size": 10,
              "solidity": 0.2
             }
            },
            "type": "histogram"
           }
          ],
          "histogram2d": [
           {
            "colorbar": {
             "outlinewidth": 0,
             "ticks": ""
            },
            "colorscale": [
             [
              0,
              "#0d0887"
             ],
             [
              0.1111111111111111,
              "#46039f"
             ],
             [
              0.2222222222222222,
              "#7201a8"
             ],
             [
              0.3333333333333333,
              "#9c179e"
             ],
             [
              0.4444444444444444,
              "#bd3786"
             ],
             [
              0.5555555555555556,
              "#d8576b"
             ],
             [
              0.6666666666666666,
              "#ed7953"
             ],
             [
              0.7777777777777778,
              "#fb9f3a"
             ],
             [
              0.8888888888888888,
              "#fdca26"
             ],
             [
              1,
              "#f0f921"
             ]
            ],
            "type": "histogram2d"
           }
          ],
          "histogram2dcontour": [
           {
            "colorbar": {
             "outlinewidth": 0,
             "ticks": ""
            },
            "colorscale": [
             [
              0,
              "#0d0887"
             ],
             [
              0.1111111111111111,
              "#46039f"
             ],
             [
              0.2222222222222222,
              "#7201a8"
             ],
             [
              0.3333333333333333,
              "#9c179e"
             ],
             [
              0.4444444444444444,
              "#bd3786"
             ],
             [
              0.5555555555555556,
              "#d8576b"
             ],
             [
              0.6666666666666666,
              "#ed7953"
             ],
             [
              0.7777777777777778,
              "#fb9f3a"
             ],
             [
              0.8888888888888888,
              "#fdca26"
             ],
             [
              1,
              "#f0f921"
             ]
            ],
            "type": "histogram2dcontour"
           }
          ],
          "mesh3d": [
           {
            "colorbar": {
             "outlinewidth": 0,
             "ticks": ""
            },
            "type": "mesh3d"
           }
          ],
          "parcoords": [
           {
            "line": {
             "colorbar": {
              "outlinewidth": 0,
              "ticks": ""
             }
            },
            "type": "parcoords"
           }
          ],
          "pie": [
           {
            "automargin": true,
            "type": "pie"
           }
          ],
          "scatter": [
           {
            "fillpattern": {
             "fillmode": "overlay",
             "size": 10,
             "solidity": 0.2
            },
            "type": "scatter"
           }
          ],
          "scatter3d": [
           {
            "line": {
             "colorbar": {
              "outlinewidth": 0,
              "ticks": ""
             }
            },
            "marker": {
             "colorbar": {
              "outlinewidth": 0,
              "ticks": ""
             }
            },
            "type": "scatter3d"
           }
          ],
          "scattercarpet": [
           {
            "marker": {
             "colorbar": {
              "outlinewidth": 0,
              "ticks": ""
             }
            },
            "type": "scattercarpet"
           }
          ],
          "scattergeo": [
           {
            "marker": {
             "colorbar": {
              "outlinewidth": 0,
              "ticks": ""
             }
            },
            "type": "scattergeo"
           }
          ],
          "scattergl": [
           {
            "marker": {
             "colorbar": {
              "outlinewidth": 0,
              "ticks": ""
             }
            },
            "type": "scattergl"
           }
          ],
          "scattermapbox": [
           {
            "marker": {
             "colorbar": {
              "outlinewidth": 0,
              "ticks": ""
             }
            },
            "type": "scattermapbox"
           }
          ],
          "scatterpolar": [
           {
            "marker": {
             "colorbar": {
              "outlinewidth": 0,
              "ticks": ""
             }
            },
            "type": "scatterpolar"
           }
          ],
          "scatterpolargl": [
           {
            "marker": {
             "colorbar": {
              "outlinewidth": 0,
              "ticks": ""
             }
            },
            "type": "scatterpolargl"
           }
          ],
          "scatterternary": [
           {
            "marker": {
             "colorbar": {
              "outlinewidth": 0,
              "ticks": ""
             }
            },
            "type": "scatterternary"
           }
          ],
          "surface": [
           {
            "colorbar": {
             "outlinewidth": 0,
             "ticks": ""
            },
            "colorscale": [
             [
              0,
              "#0d0887"
             ],
             [
              0.1111111111111111,
              "#46039f"
             ],
             [
              0.2222222222222222,
              "#7201a8"
             ],
             [
              0.3333333333333333,
              "#9c179e"
             ],
             [
              0.4444444444444444,
              "#bd3786"
             ],
             [
              0.5555555555555556,
              "#d8576b"
             ],
             [
              0.6666666666666666,
              "#ed7953"
             ],
             [
              0.7777777777777778,
              "#fb9f3a"
             ],
             [
              0.8888888888888888,
              "#fdca26"
             ],
             [
              1,
              "#f0f921"
             ]
            ],
            "type": "surface"
           }
          ],
          "table": [
           {
            "cells": {
             "fill": {
              "color": "#EBF0F8"
             },
             "line": {
              "color": "white"
             }
            },
            "header": {
             "fill": {
              "color": "#C8D4E3"
             },
             "line": {
              "color": "white"
             }
            },
            "type": "table"
           }
          ]
         },
         "layout": {
          "annotationdefaults": {
           "arrowcolor": "#2a3f5f",
           "arrowhead": 0,
           "arrowwidth": 1
          },
          "autotypenumbers": "strict",
          "coloraxis": {
           "colorbar": {
            "outlinewidth": 0,
            "ticks": ""
           }
          },
          "colorscale": {
           "diverging": [
            [
             0,
             "#8e0152"
            ],
            [
             0.1,
             "#c51b7d"
            ],
            [
             0.2,
             "#de77ae"
            ],
            [
             0.3,
             "#f1b6da"
            ],
            [
             0.4,
             "#fde0ef"
            ],
            [
             0.5,
             "#f7f7f7"
            ],
            [
             0.6,
             "#e6f5d0"
            ],
            [
             0.7,
             "#b8e186"
            ],
            [
             0.8,
             "#7fbc41"
            ],
            [
             0.9,
             "#4d9221"
            ],
            [
             1,
             "#276419"
            ]
           ],
           "sequential": [
            [
             0,
             "#0d0887"
            ],
            [
             0.1111111111111111,
             "#46039f"
            ],
            [
             0.2222222222222222,
             "#7201a8"
            ],
            [
             0.3333333333333333,
             "#9c179e"
            ],
            [
             0.4444444444444444,
             "#bd3786"
            ],
            [
             0.5555555555555556,
             "#d8576b"
            ],
            [
             0.6666666666666666,
             "#ed7953"
            ],
            [
             0.7777777777777778,
             "#fb9f3a"
            ],
            [
             0.8888888888888888,
             "#fdca26"
            ],
            [
             1,
             "#f0f921"
            ]
           ],
           "sequentialminus": [
            [
             0,
             "#0d0887"
            ],
            [
             0.1111111111111111,
             "#46039f"
            ],
            [
             0.2222222222222222,
             "#7201a8"
            ],
            [
             0.3333333333333333,
             "#9c179e"
            ],
            [
             0.4444444444444444,
             "#bd3786"
            ],
            [
             0.5555555555555556,
             "#d8576b"
            ],
            [
             0.6666666666666666,
             "#ed7953"
            ],
            [
             0.7777777777777778,
             "#fb9f3a"
            ],
            [
             0.8888888888888888,
             "#fdca26"
            ],
            [
             1,
             "#f0f921"
            ]
           ]
          },
          "colorway": [
           "#636efa",
           "#EF553B",
           "#00cc96",
           "#ab63fa",
           "#FFA15A",
           "#19d3f3",
           "#FF6692",
           "#B6E880",
           "#FF97FF",
           "#FECB52"
          ],
          "font": {
           "color": "#2a3f5f"
          },
          "geo": {
           "bgcolor": "white",
           "lakecolor": "white",
           "landcolor": "#E5ECF6",
           "showlakes": true,
           "showland": true,
           "subunitcolor": "white"
          },
          "hoverlabel": {
           "align": "left"
          },
          "hovermode": "closest",
          "mapbox": {
           "style": "light"
          },
          "paper_bgcolor": "white",
          "plot_bgcolor": "#E5ECF6",
          "polar": {
           "angularaxis": {
            "gridcolor": "white",
            "linecolor": "white",
            "ticks": ""
           },
           "bgcolor": "#E5ECF6",
           "radialaxis": {
            "gridcolor": "white",
            "linecolor": "white",
            "ticks": ""
           }
          },
          "scene": {
           "xaxis": {
            "backgroundcolor": "#E5ECF6",
            "gridcolor": "white",
            "gridwidth": 2,
            "linecolor": "white",
            "showbackground": true,
            "ticks": "",
            "zerolinecolor": "white"
           },
           "yaxis": {
            "backgroundcolor": "#E5ECF6",
            "gridcolor": "white",
            "gridwidth": 2,
            "linecolor": "white",
            "showbackground": true,
            "ticks": "",
            "zerolinecolor": "white"
           },
           "zaxis": {
            "backgroundcolor": "#E5ECF6",
            "gridcolor": "white",
            "gridwidth": 2,
            "linecolor": "white",
            "showbackground": true,
            "ticks": "",
            "zerolinecolor": "white"
           }
          },
          "shapedefaults": {
           "line": {
            "color": "#2a3f5f"
           }
          },
          "ternary": {
           "aaxis": {
            "gridcolor": "white",
            "linecolor": "white",
            "ticks": ""
           },
           "baxis": {
            "gridcolor": "white",
            "linecolor": "white",
            "ticks": ""
           },
           "bgcolor": "#E5ECF6",
           "caxis": {
            "gridcolor": "white",
            "linecolor": "white",
            "ticks": ""
           }
          },
          "title": {
           "x": 0.05
          },
          "xaxis": {
           "automargin": true,
           "gridcolor": "white",
           "linecolor": "white",
           "ticks": "",
           "title": {
            "standoff": 15
           },
           "zerolinecolor": "white",
           "zerolinewidth": 2
          },
          "yaxis": {
           "automargin": true,
           "gridcolor": "white",
           "linecolor": "white",
           "ticks": "",
           "title": {
            "standoff": 15
           },
           "zerolinecolor": "white",
           "zerolinewidth": 2
          }
         }
        },
        "xaxis": {
         "anchor": "y",
         "domain": [
          0,
          1
         ],
         "title": {
          "text": "value"
         }
        },
        "yaxis": {
         "anchor": "x",
         "domain": [
          0,
          1
         ],
         "title": {
          "text": "Maschine"
         }
        }
       }
      }
     },
     "metadata": {},
     "output_type": "display_data"
    }
   ],
   "source": [
    "df[\"Maschine\"].value_counts().plot(kind=\"bar\", orientation=\"h\")"
   ]
  },
  {
   "cell_type": "markdown",
   "id": "ba23320c",
   "metadata": {},
   "source": [
    "Stellen Sie selbstständig ein Säulen- oder Balkendiagramm für das nominale Merkmal ```Produkt``` dar. Was fällt Ihnen auf?"
   ]
  },
  {
   "cell_type": "code",
   "execution_count": 7,
   "id": "eb0e4c66",
   "metadata": {
    "scrolled": true
   },
   "outputs": [
    {
     "data": {
      "application/vnd.plotly.v1+json": {
       "config": {
        "plotlyServerURL": "https://plot.ly"
       },
       "data": [
        {
         "alignmentgroup": "True",
         "hovertemplate": "variable=count<br>value=%{x}<br>Produkt=%{y}<extra></extra>",
         "legendgroup": "count",
         "marker": {
          "color": "#636efa",
          "pattern": {
           "shape": ""
          }
         },
         "name": "count",
         "offsetgroup": "count",
         "orientation": "h",
         "showlegend": true,
         "textposition": "auto",
         "type": "bar",
         "x": [
          541,
          458,
          1
         ],
         "xaxis": "x",
         "y": [
          "Y",
          "X",
          "Z"
         ],
         "yaxis": "y"
        }
       ],
       "layout": {
        "barmode": "relative",
        "legend": {
         "title": {
          "text": "variable"
         },
         "tracegroupgap": 0
        },
        "margin": {
         "t": 60
        },
        "template": {
         "data": {
          "bar": [
           {
            "error_x": {
             "color": "#2a3f5f"
            },
            "error_y": {
             "color": "#2a3f5f"
            },
            "marker": {
             "line": {
              "color": "#E5ECF6",
              "width": 0.5
             },
             "pattern": {
              "fillmode": "overlay",
              "size": 10,
              "solidity": 0.2
             }
            },
            "type": "bar"
           }
          ],
          "barpolar": [
           {
            "marker": {
             "line": {
              "color": "#E5ECF6",
              "width": 0.5
             },
             "pattern": {
              "fillmode": "overlay",
              "size": 10,
              "solidity": 0.2
             }
            },
            "type": "barpolar"
           }
          ],
          "carpet": [
           {
            "aaxis": {
             "endlinecolor": "#2a3f5f",
             "gridcolor": "white",
             "linecolor": "white",
             "minorgridcolor": "white",
             "startlinecolor": "#2a3f5f"
            },
            "baxis": {
             "endlinecolor": "#2a3f5f",
             "gridcolor": "white",
             "linecolor": "white",
             "minorgridcolor": "white",
             "startlinecolor": "#2a3f5f"
            },
            "type": "carpet"
           }
          ],
          "choropleth": [
           {
            "colorbar": {
             "outlinewidth": 0,
             "ticks": ""
            },
            "type": "choropleth"
           }
          ],
          "contour": [
           {
            "colorbar": {
             "outlinewidth": 0,
             "ticks": ""
            },
            "colorscale": [
             [
              0,
              "#0d0887"
             ],
             [
              0.1111111111111111,
              "#46039f"
             ],
             [
              0.2222222222222222,
              "#7201a8"
             ],
             [
              0.3333333333333333,
              "#9c179e"
             ],
             [
              0.4444444444444444,
              "#bd3786"
             ],
             [
              0.5555555555555556,
              "#d8576b"
             ],
             [
              0.6666666666666666,
              "#ed7953"
             ],
             [
              0.7777777777777778,
              "#fb9f3a"
             ],
             [
              0.8888888888888888,
              "#fdca26"
             ],
             [
              1,
              "#f0f921"
             ]
            ],
            "type": "contour"
           }
          ],
          "contourcarpet": [
           {
            "colorbar": {
             "outlinewidth": 0,
             "ticks": ""
            },
            "type": "contourcarpet"
           }
          ],
          "heatmap": [
           {
            "colorbar": {
             "outlinewidth": 0,
             "ticks": ""
            },
            "colorscale": [
             [
              0,
              "#0d0887"
             ],
             [
              0.1111111111111111,
              "#46039f"
             ],
             [
              0.2222222222222222,
              "#7201a8"
             ],
             [
              0.3333333333333333,
              "#9c179e"
             ],
             [
              0.4444444444444444,
              "#bd3786"
             ],
             [
              0.5555555555555556,
              "#d8576b"
             ],
             [
              0.6666666666666666,
              "#ed7953"
             ],
             [
              0.7777777777777778,
              "#fb9f3a"
             ],
             [
              0.8888888888888888,
              "#fdca26"
             ],
             [
              1,
              "#f0f921"
             ]
            ],
            "type": "heatmap"
           }
          ],
          "heatmapgl": [
           {
            "colorbar": {
             "outlinewidth": 0,
             "ticks": ""
            },
            "colorscale": [
             [
              0,
              "#0d0887"
             ],
             [
              0.1111111111111111,
              "#46039f"
             ],
             [
              0.2222222222222222,
              "#7201a8"
             ],
             [
              0.3333333333333333,
              "#9c179e"
             ],
             [
              0.4444444444444444,
              "#bd3786"
             ],
             [
              0.5555555555555556,
              "#d8576b"
             ],
             [
              0.6666666666666666,
              "#ed7953"
             ],
             [
              0.7777777777777778,
              "#fb9f3a"
             ],
             [
              0.8888888888888888,
              "#fdca26"
             ],
             [
              1,
              "#f0f921"
             ]
            ],
            "type": "heatmapgl"
           }
          ],
          "histogram": [
           {
            "marker": {
             "pattern": {
              "fillmode": "overlay",
              "size": 10,
              "solidity": 0.2
             }
            },
            "type": "histogram"
           }
          ],
          "histogram2d": [
           {
            "colorbar": {
             "outlinewidth": 0,
             "ticks": ""
            },
            "colorscale": [
             [
              0,
              "#0d0887"
             ],
             [
              0.1111111111111111,
              "#46039f"
             ],
             [
              0.2222222222222222,
              "#7201a8"
             ],
             [
              0.3333333333333333,
              "#9c179e"
             ],
             [
              0.4444444444444444,
              "#bd3786"
             ],
             [
              0.5555555555555556,
              "#d8576b"
             ],
             [
              0.6666666666666666,
              "#ed7953"
             ],
             [
              0.7777777777777778,
              "#fb9f3a"
             ],
             [
              0.8888888888888888,
              "#fdca26"
             ],
             [
              1,
              "#f0f921"
             ]
            ],
            "type": "histogram2d"
           }
          ],
          "histogram2dcontour": [
           {
            "colorbar": {
             "outlinewidth": 0,
             "ticks": ""
            },
            "colorscale": [
             [
              0,
              "#0d0887"
             ],
             [
              0.1111111111111111,
              "#46039f"
             ],
             [
              0.2222222222222222,
              "#7201a8"
             ],
             [
              0.3333333333333333,
              "#9c179e"
             ],
             [
              0.4444444444444444,
              "#bd3786"
             ],
             [
              0.5555555555555556,
              "#d8576b"
             ],
             [
              0.6666666666666666,
              "#ed7953"
             ],
             [
              0.7777777777777778,
              "#fb9f3a"
             ],
             [
              0.8888888888888888,
              "#fdca26"
             ],
             [
              1,
              "#f0f921"
             ]
            ],
            "type": "histogram2dcontour"
           }
          ],
          "mesh3d": [
           {
            "colorbar": {
             "outlinewidth": 0,
             "ticks": ""
            },
            "type": "mesh3d"
           }
          ],
          "parcoords": [
           {
            "line": {
             "colorbar": {
              "outlinewidth": 0,
              "ticks": ""
             }
            },
            "type": "parcoords"
           }
          ],
          "pie": [
           {
            "automargin": true,
            "type": "pie"
           }
          ],
          "scatter": [
           {
            "fillpattern": {
             "fillmode": "overlay",
             "size": 10,
             "solidity": 0.2
            },
            "type": "scatter"
           }
          ],
          "scatter3d": [
           {
            "line": {
             "colorbar": {
              "outlinewidth": 0,
              "ticks": ""
             }
            },
            "marker": {
             "colorbar": {
              "outlinewidth": 0,
              "ticks": ""
             }
            },
            "type": "scatter3d"
           }
          ],
          "scattercarpet": [
           {
            "marker": {
             "colorbar": {
              "outlinewidth": 0,
              "ticks": ""
             }
            },
            "type": "scattercarpet"
           }
          ],
          "scattergeo": [
           {
            "marker": {
             "colorbar": {
              "outlinewidth": 0,
              "ticks": ""
             }
            },
            "type": "scattergeo"
           }
          ],
          "scattergl": [
           {
            "marker": {
             "colorbar": {
              "outlinewidth": 0,
              "ticks": ""
             }
            },
            "type": "scattergl"
           }
          ],
          "scattermapbox": [
           {
            "marker": {
             "colorbar": {
              "outlinewidth": 0,
              "ticks": ""
             }
            },
            "type": "scattermapbox"
           }
          ],
          "scatterpolar": [
           {
            "marker": {
             "colorbar": {
              "outlinewidth": 0,
              "ticks": ""
             }
            },
            "type": "scatterpolar"
           }
          ],
          "scatterpolargl": [
           {
            "marker": {
             "colorbar": {
              "outlinewidth": 0,
              "ticks": ""
             }
            },
            "type": "scatterpolargl"
           }
          ],
          "scatterternary": [
           {
            "marker": {
             "colorbar": {
              "outlinewidth": 0,
              "ticks": ""
             }
            },
            "type": "scatterternary"
           }
          ],
          "surface": [
           {
            "colorbar": {
             "outlinewidth": 0,
             "ticks": ""
            },
            "colorscale": [
             [
              0,
              "#0d0887"
             ],
             [
              0.1111111111111111,
              "#46039f"
             ],
             [
              0.2222222222222222,
              "#7201a8"
             ],
             [
              0.3333333333333333,
              "#9c179e"
             ],
             [
              0.4444444444444444,
              "#bd3786"
             ],
             [
              0.5555555555555556,
              "#d8576b"
             ],
             [
              0.6666666666666666,
              "#ed7953"
             ],
             [
              0.7777777777777778,
              "#fb9f3a"
             ],
             [
              0.8888888888888888,
              "#fdca26"
             ],
             [
              1,
              "#f0f921"
             ]
            ],
            "type": "surface"
           }
          ],
          "table": [
           {
            "cells": {
             "fill": {
              "color": "#EBF0F8"
             },
             "line": {
              "color": "white"
             }
            },
            "header": {
             "fill": {
              "color": "#C8D4E3"
             },
             "line": {
              "color": "white"
             }
            },
            "type": "table"
           }
          ]
         },
         "layout": {
          "annotationdefaults": {
           "arrowcolor": "#2a3f5f",
           "arrowhead": 0,
           "arrowwidth": 1
          },
          "autotypenumbers": "strict",
          "coloraxis": {
           "colorbar": {
            "outlinewidth": 0,
            "ticks": ""
           }
          },
          "colorscale": {
           "diverging": [
            [
             0,
             "#8e0152"
            ],
            [
             0.1,
             "#c51b7d"
            ],
            [
             0.2,
             "#de77ae"
            ],
            [
             0.3,
             "#f1b6da"
            ],
            [
             0.4,
             "#fde0ef"
            ],
            [
             0.5,
             "#f7f7f7"
            ],
            [
             0.6,
             "#e6f5d0"
            ],
            [
             0.7,
             "#b8e186"
            ],
            [
             0.8,
             "#7fbc41"
            ],
            [
             0.9,
             "#4d9221"
            ],
            [
             1,
             "#276419"
            ]
           ],
           "sequential": [
            [
             0,
             "#0d0887"
            ],
            [
             0.1111111111111111,
             "#46039f"
            ],
            [
             0.2222222222222222,
             "#7201a8"
            ],
            [
             0.3333333333333333,
             "#9c179e"
            ],
            [
             0.4444444444444444,
             "#bd3786"
            ],
            [
             0.5555555555555556,
             "#d8576b"
            ],
            [
             0.6666666666666666,
             "#ed7953"
            ],
            [
             0.7777777777777778,
             "#fb9f3a"
            ],
            [
             0.8888888888888888,
             "#fdca26"
            ],
            [
             1,
             "#f0f921"
            ]
           ],
           "sequentialminus": [
            [
             0,
             "#0d0887"
            ],
            [
             0.1111111111111111,
             "#46039f"
            ],
            [
             0.2222222222222222,
             "#7201a8"
            ],
            [
             0.3333333333333333,
             "#9c179e"
            ],
            [
             0.4444444444444444,
             "#bd3786"
            ],
            [
             0.5555555555555556,
             "#d8576b"
            ],
            [
             0.6666666666666666,
             "#ed7953"
            ],
            [
             0.7777777777777778,
             "#fb9f3a"
            ],
            [
             0.8888888888888888,
             "#fdca26"
            ],
            [
             1,
             "#f0f921"
            ]
           ]
          },
          "colorway": [
           "#636efa",
           "#EF553B",
           "#00cc96",
           "#ab63fa",
           "#FFA15A",
           "#19d3f3",
           "#FF6692",
           "#B6E880",
           "#FF97FF",
           "#FECB52"
          ],
          "font": {
           "color": "#2a3f5f"
          },
          "geo": {
           "bgcolor": "white",
           "lakecolor": "white",
           "landcolor": "#E5ECF6",
           "showlakes": true,
           "showland": true,
           "subunitcolor": "white"
          },
          "hoverlabel": {
           "align": "left"
          },
          "hovermode": "closest",
          "mapbox": {
           "style": "light"
          },
          "paper_bgcolor": "white",
          "plot_bgcolor": "#E5ECF6",
          "polar": {
           "angularaxis": {
            "gridcolor": "white",
            "linecolor": "white",
            "ticks": ""
           },
           "bgcolor": "#E5ECF6",
           "radialaxis": {
            "gridcolor": "white",
            "linecolor": "white",
            "ticks": ""
           }
          },
          "scene": {
           "xaxis": {
            "backgroundcolor": "#E5ECF6",
            "gridcolor": "white",
            "gridwidth": 2,
            "linecolor": "white",
            "showbackground": true,
            "ticks": "",
            "zerolinecolor": "white"
           },
           "yaxis": {
            "backgroundcolor": "#E5ECF6",
            "gridcolor": "white",
            "gridwidth": 2,
            "linecolor": "white",
            "showbackground": true,
            "ticks": "",
            "zerolinecolor": "white"
           },
           "zaxis": {
            "backgroundcolor": "#E5ECF6",
            "gridcolor": "white",
            "gridwidth": 2,
            "linecolor": "white",
            "showbackground": true,
            "ticks": "",
            "zerolinecolor": "white"
           }
          },
          "shapedefaults": {
           "line": {
            "color": "#2a3f5f"
           }
          },
          "ternary": {
           "aaxis": {
            "gridcolor": "white",
            "linecolor": "white",
            "ticks": ""
           },
           "baxis": {
            "gridcolor": "white",
            "linecolor": "white",
            "ticks": ""
           },
           "bgcolor": "#E5ECF6",
           "caxis": {
            "gridcolor": "white",
            "linecolor": "white",
            "ticks": ""
           }
          },
          "title": {
           "x": 0.05
          },
          "xaxis": {
           "automargin": true,
           "gridcolor": "white",
           "linecolor": "white",
           "ticks": "",
           "title": {
            "standoff": 15
           },
           "zerolinecolor": "white",
           "zerolinewidth": 2
          },
          "yaxis": {
           "automargin": true,
           "gridcolor": "white",
           "linecolor": "white",
           "ticks": "",
           "title": {
            "standoff": 15
           },
           "zerolinecolor": "white",
           "zerolinewidth": 2
          }
         }
        },
        "xaxis": {
         "anchor": "y",
         "domain": [
          0,
          1
         ],
         "title": {
          "text": "value"
         }
        },
        "yaxis": {
         "anchor": "x",
         "domain": [
          0,
          1
         ],
         "title": {
          "text": "Produkt"
         }
        }
       }
      }
     },
     "metadata": {},
     "output_type": "display_data"
    }
   ],
   "source": [
    "import pandas as pd\n",
    "df = pd.read_csv(\"data/machine_data.csv\", delimiter=\";\", decimal=\",\")\n",
    "df[\"Produkt\"] = pd.Categorical(df[\"Produkt\"])\n",
    "df[\"Produkt\"].value_counts().plot(kind=\"barh\")"
   ]
  },
  {
   "cell_type": "markdown",
   "id": "568fa645",
   "metadata": {},
   "source": [
    "Widmen wir uns als nächstes den metrischen Merkmalen. Metrische Merkmale kann man in Wertebereiche (englisch _bins_) einteilen und in einem [Histogramm](https://plotly.github.io/plotly.py-docs/generated/plotly.express.histogram.html) visualisieren. Ein Histogramm stellt eine Häufigkeitsverteilung dar, die man mit einigen Eigenschaften charakterisieren kann. Eventuell möchten Sie auf Wikipedia kurz nachschauen, was ein Mittelwert, eine Standardabweichung, ein Median sowie Quantile sind."
   ]
  },
  {
   "cell_type": "markdown",
   "id": "699d8cb3",
   "metadata": {},
   "source": [
    "Ein Histogramm lässt sich mit Plotly ganz einfach darstellen, zum Beispiel für die Drehzahl pro Minute:"
   ]
  },
  {
   "cell_type": "code",
   "execution_count": 8,
   "id": "1a72846e",
   "metadata": {},
   "outputs": [
    {
     "data": {
      "application/vnd.plotly.v1+json": {
       "config": {
        "plotlyServerURL": "https://plot.ly"
       },
       "data": [
        {
         "alignmentgroup": "True",
         "bingroup": "x",
         "hovertemplate": "variable=Drehzahl / 1/min<br>value=%{x}<br>count=%{y}<extra></extra>",
         "legendgroup": "Drehzahl / 1/min",
         "marker": {
          "color": "#636efa",
          "pattern": {
           "shape": ""
          }
         },
         "name": "Drehzahl / 1/min",
         "offsetgroup": "Drehzahl / 1/min",
         "orientation": "v",
         "showlegend": true,
         "type": "histogram",
         "x": [
          1461,
          1460,
          1463,
          1461,
          1466,
          1463,
          1462,
          1462,
          1463,
          1462,
          1460,
          1460,
          1459,
          1460,
          1463,
          1462,
          1461,
          1459,
          1461,
          1461,
          1462,
          1460,
          1462,
          1465,
          1461,
          1463,
          1459,
          1464,
          1458,
          1461,
          1458,
          1462,
          1462,
          1461,
          1463,
          1459,
          1463,
          1458,
          1460,
          1462,
          1461,
          1459,
          1464,
          1460,
          1459,
          1459,
          1459,
          1462,
          1460,
          1460,
          1462,
          1464,
          1458,
          1459,
          1462,
          1460,
          1461,
          1459,
          1463,
          1461,
          1460,
          1461,
          1459,
          1462,
          1458,
          1462,
          1462,
          1459,
          1461,
          1458,
          1462,
          1462,
          1461,
          1462,
          1461,
          1462,
          1463,
          1460,
          1462,
          1460,
          1465,
          1463,
          1462,
          1459,
          1459,
          1462,
          1462,
          1458,
          1458,
          1458,
          1461,
          1467,
          1461,
          1461,
          1462,
          1461,
          1464,
          1459,
          1462,
          1461,
          1461,
          1460,
          1462,
          1460,
          1456,
          1464,
          1461,
          1461,
          1458,
          1464,
          1462,
          1460,
          1459,
          1459,
          1463,
          1463,
          1462,
          1462,
          1461,
          1460,
          1457,
          1461,
          1460,
          1463,
          1460,
          1460,
          1459,
          1460,
          1460,
          1462,
          1461,
          1465,
          1460,
          1459,
          1462,
          1461,
          1461,
          1463,
          1460,
          1464,
          1460,
          1458,
          1460,
          1460,
          1459,
          1464,
          1463,
          1461,
          1460,
          1458,
          1459,
          1460,
          1463,
          1458,
          1460,
          1460,
          1461,
          1460,
          1464,
          1460,
          1463,
          1464,
          1460,
          1459,
          1466,
          1461,
          1461,
          1462,
          1460,
          1461,
          1462,
          1464,
          1463,
          1459,
          1464,
          1464,
          1459,
          1461,
          1462,
          1457,
          1460,
          1462,
          1458,
          1462,
          1460,
          1458,
          1459,
          1461,
          1461,
          1461,
          1461,
          1459,
          1460,
          1460,
          1462,
          1465,
          1462,
          1461,
          1461,
          1461,
          1461,
          1463,
          1462,
          1460,
          1461,
          1463,
          1461,
          1461,
          1459,
          1463,
          1462,
          1464,
          1459,
          1460,
          1462,
          1461,
          1463,
          1459,
          1464,
          1460,
          1460,
          1461,
          1462,
          1459,
          1460,
          1464,
          1459,
          1462,
          1460,
          1460,
          1460,
          1462,
          1460,
          1459,
          1460,
          1462,
          1462,
          1463,
          1461,
          1461,
          1460,
          1459,
          1460,
          1461,
          1462,
          1461,
          1459,
          1461,
          1461,
          1457,
          1463,
          1460,
          1463,
          1461,
          1463,
          1462,
          1465,
          1462,
          1462,
          1461,
          1463,
          1460,
          1456,
          1463,
          1459,
          1461,
          1461,
          1462,
          1459,
          1464,
          1461,
          1460,
          1462,
          1459,
          1465,
          1463,
          1459,
          1463,
          1463,
          1460,
          1459,
          1460,
          1463,
          1461,
          1463,
          1461,
          1459,
          1460,
          1462,
          1461,
          1463,
          1463,
          1460,
          1462,
          1460,
          1461,
          1460,
          1461,
          1459,
          1461,
          1460,
          1462,
          1463,
          1459,
          1458,
          1462,
          1459,
          1462,
          1460,
          1459,
          1460,
          1460,
          1464,
          1458,
          1461,
          1466,
          1462,
          1462,
          1462,
          1462,
          1460,
          1461,
          1458,
          1462,
          1463,
          1461,
          1462,
          1462,
          1458,
          1463,
          1459,
          1461,
          1459,
          1461,
          1460,
          1461,
          1462,
          1462,
          1461,
          1463,
          1459,
          1459,
          1461,
          1457,
          1461,
          1462,
          1465,
          1464,
          1465,
          1461,
          1460,
          1461,
          1459,
          1457,
          1460,
          1460,
          1461,
          1459,
          1464,
          1461,
          1460,
          1461,
          1465,
          1461,
          1463,
          1461,
          1461,
          1460,
          1462,
          1457,
          1461,
          1459,
          1463,
          1456,
          1460,
          1462,
          1461,
          1461,
          1462,
          1462,
          1463,
          1461,
          1461,
          1458,
          1463,
          1464,
          1462,
          1461,
          1460,
          1459,
          1464,
          1458,
          1462,
          1459,
          1460,
          1462,
          1462,
          1461,
          1463,
          1463,
          1461,
          1458,
          1462,
          1462,
          1463,
          1462,
          1460,
          1460,
          1461,
          1462,
          1463,
          1464,
          1463,
          1459,
          1462,
          1457,
          1462,
          1461,
          1458,
          1462,
          1462,
          1458,
          1460,
          1462,
          1463,
          1463,
          1460,
          1460,
          1461,
          1462,
          1464,
          1461,
          1457,
          1464,
          1463,
          1458,
          1462,
          1461,
          1457,
          1462,
          1464,
          1462,
          1458,
          1464,
          1458,
          1459,
          1463,
          1461,
          1461,
          1457,
          1459,
          1460,
          1461,
          1462,
          1461,
          1464,
          1462,
          1457,
          1459,
          1465,
          1459,
          1463,
          1459,
          1460,
          1462,
          1463,
          1458,
          1461,
          1462,
          1465,
          1459,
          1458,
          1458,
          1461,
          1463,
          1459,
          1460,
          1458,
          1463,
          1463,
          1463,
          1464,
          1464,
          1460,
          1463,
          1459,
          1459,
          1461,
          1459,
          1462,
          1463,
          1461,
          1463,
          1460,
          1463,
          1464,
          1460,
          1464,
          1463,
          1462,
          1459,
          1461,
          1462,
          1460,
          1459,
          1463,
          1460,
          1458,
          1460,
          1460,
          1460,
          1462,
          1458,
          1464,
          1463,
          1461,
          1460,
          1461,
          1457,
          1461,
          1458,
          1461,
          1460,
          1461,
          1461,
          1459,
          1463,
          1465,
          1462,
          1461,
          1460,
          1464,
          1464,
          1460,
          1462,
          1459,
          1463,
          1460,
          1465,
          1462,
          1460,
          1464,
          1459,
          1461,
          1457,
          1462,
          1460,
          1459,
          1461,
          1461,
          1461,
          1461,
          1458,
          1463,
          1463,
          1464,
          1465,
          1462,
          1461,
          1461,
          1459,
          1460,
          1462,
          1459,
          1462,
          1461,
          1461,
          1464,
          1460,
          1461,
          1458,
          1464,
          1459,
          1459,
          1460,
          1465,
          1461,
          1462,
          1458,
          1461,
          1460,
          1464,
          1460,
          1464,
          1462,
          1458,
          1460,
          1462,
          1459,
          1458,
          1462,
          1460,
          1462,
          1461,
          1459,
          1462,
          1464,
          1462,
          1459,
          1462,
          1459,
          1463,
          1461,
          1460,
          1461,
          1462,
          1461,
          1459,
          1460,
          1461,
          1460,
          1459,
          1462,
          1464,
          1459,
          1464,
          1457,
          1457,
          1457,
          1460,
          1458,
          1460,
          1459,
          1461,
          1460,
          1462,
          1460,
          1462,
          1463,
          1463,
          1461,
          1462,
          1463,
          1460,
          1458,
          1462,
          1460,
          1460,
          1463,
          1464,
          1464,
          1463,
          1464,
          1463,
          1458,
          1459,
          1460,
          1463,
          1463,
          1459,
          1463,
          1459,
          1461,
          1460,
          1460,
          1462,
          1461,
          1458,
          1459,
          1459,
          1462,
          1460,
          1462,
          1462,
          1459,
          1461,
          1461,
          1462,
          1462,
          1461,
          1464,
          1457,
          1463,
          1461,
          1461,
          1463,
          1461,
          1460,
          1460,
          1464,
          1461,
          1458,
          1460,
          1458,
          1462,
          1462,
          1461,
          1460,
          1461,
          1459,
          1461,
          1458,
          1459,
          1462,
          1463,
          1460,
          1459,
          1464,
          1460,
          1461,
          1462,
          1459,
          1463,
          1459,
          1462,
          1461,
          1457,
          1458,
          1464,
          1461,
          1461,
          1464,
          1461,
          1463,
          1457,
          1462,
          1461,
          1458,
          1461,
          1464,
          1462,
          1462,
          1461,
          1460,
          1461,
          1462,
          1459,
          1465,
          1460,
          1458,
          1459,
          1462,
          1465,
          1462,
          1459,
          1457,
          1460,
          1459,
          1459,
          1460,
          1459,
          1466,
          1464,
          1463,
          1461,
          1463,
          1460,
          1460,
          1461,
          1457,
          1460,
          1458,
          1462,
          1460,
          1465,
          1462,
          1459,
          1459,
          1462,
          1461,
          1460,
          1463,
          1460,
          1460,
          1460,
          1464,
          1459,
          1460,
          1463,
          1461,
          1462,
          1460,
          1460,
          1461,
          1461,
          1464,
          1459,
          1459,
          1458,
          1464,
          1459,
          1464,
          1461,
          1462,
          1462,
          1461,
          1467,
          1460,
          1460,
          1460,
          1461,
          1460,
          1463,
          1461,
          1457,
          1460,
          1462,
          1462,
          1460,
          1459,
          1459,
          1461,
          1461,
          1460,
          1460,
          1461,
          1461,
          1461,
          1461,
          1461,
          1460,
          1459,
          1463,
          1460,
          1461,
          1458,
          1461,
          1462,
          1459,
          1458,
          1460,
          1459,
          1461,
          1460,
          1463,
          1460,
          1464,
          1457,
          1461,
          1463,
          1462,
          1463,
          1463,
          1462,
          1462,
          1462,
          1459,
          1465,
          1459,
          1460,
          1462,
          1460,
          1463,
          1463,
          1464,
          1459,
          1461,
          1460,
          1458,
          1460,
          1460,
          1458,
          1462,
          1461,
          1461,
          1462,
          1457,
          1462,
          1458,
          1462,
          1462,
          1463,
          1464,
          1460,
          1462,
          1460,
          1462,
          1460,
          1459,
          1460,
          1463,
          1461,
          1460,
          1462,
          1463,
          1462,
          1461,
          1461,
          1462,
          1463,
          1462,
          1460,
          1458,
          1462,
          1462,
          1462,
          1460,
          1460,
          1460,
          1459,
          1460,
          1460,
          1462,
          1461,
          1460,
          1458,
          1459,
          1457,
          1463,
          1461,
          1458,
          1458,
          1458,
          1458,
          1461,
          1463,
          1460,
          1461,
          1461,
          1458,
          1463,
          1467,
          1463,
          1463,
          1461,
          1459,
          1461,
          1457,
          1461,
          1461,
          1460,
          1461,
          1461,
          1464,
          1465,
          1459,
          1461,
          1459,
          1462,
          1463,
          1461,
          1463,
          1466,
          1461,
          1462,
          1463,
          1461,
          1462,
          1458,
          1460,
          1460,
          1458,
          1457,
          1461,
          1460,
          1460,
          1463,
          1458,
          1458,
          1459,
          1460,
          1465,
          1461,
          1459,
          1466,
          1464,
          1461,
          1459,
          1461,
          1464,
          1462,
          1462,
          1461,
          1461,
          1460,
          1461,
          1460,
          1458,
          1460,
          1459,
          1459,
          1458,
          1461,
          1457,
          1463,
          1461,
          1459,
          1461,
          1463,
          1461,
          1460,
          1461,
          1462,
          1459,
          1463,
          1459,
          1460,
          1461,
          1460,
          1465,
          1456,
          1461,
          1461,
          1463,
          1460,
          1460,
          1460,
          1460,
          1462,
          1461
         ],
         "xaxis": "x",
         "yaxis": "y"
        }
       ],
       "layout": {
        "barmode": "relative",
        "legend": {
         "title": {
          "text": "variable"
         },
         "tracegroupgap": 0
        },
        "margin": {
         "t": 60
        },
        "template": {
         "data": {
          "bar": [
           {
            "error_x": {
             "color": "#2a3f5f"
            },
            "error_y": {
             "color": "#2a3f5f"
            },
            "marker": {
             "line": {
              "color": "#E5ECF6",
              "width": 0.5
             },
             "pattern": {
              "fillmode": "overlay",
              "size": 10,
              "solidity": 0.2
             }
            },
            "type": "bar"
           }
          ],
          "barpolar": [
           {
            "marker": {
             "line": {
              "color": "#E5ECF6",
              "width": 0.5
             },
             "pattern": {
              "fillmode": "overlay",
              "size": 10,
              "solidity": 0.2
             }
            },
            "type": "barpolar"
           }
          ],
          "carpet": [
           {
            "aaxis": {
             "endlinecolor": "#2a3f5f",
             "gridcolor": "white",
             "linecolor": "white",
             "minorgridcolor": "white",
             "startlinecolor": "#2a3f5f"
            },
            "baxis": {
             "endlinecolor": "#2a3f5f",
             "gridcolor": "white",
             "linecolor": "white",
             "minorgridcolor": "white",
             "startlinecolor": "#2a3f5f"
            },
            "type": "carpet"
           }
          ],
          "choropleth": [
           {
            "colorbar": {
             "outlinewidth": 0,
             "ticks": ""
            },
            "type": "choropleth"
           }
          ],
          "contour": [
           {
            "colorbar": {
             "outlinewidth": 0,
             "ticks": ""
            },
            "colorscale": [
             [
              0,
              "#0d0887"
             ],
             [
              0.1111111111111111,
              "#46039f"
             ],
             [
              0.2222222222222222,
              "#7201a8"
             ],
             [
              0.3333333333333333,
              "#9c179e"
             ],
             [
              0.4444444444444444,
              "#bd3786"
             ],
             [
              0.5555555555555556,
              "#d8576b"
             ],
             [
              0.6666666666666666,
              "#ed7953"
             ],
             [
              0.7777777777777778,
              "#fb9f3a"
             ],
             [
              0.8888888888888888,
              "#fdca26"
             ],
             [
              1,
              "#f0f921"
             ]
            ],
            "type": "contour"
           }
          ],
          "contourcarpet": [
           {
            "colorbar": {
             "outlinewidth": 0,
             "ticks": ""
            },
            "type": "contourcarpet"
           }
          ],
          "heatmap": [
           {
            "colorbar": {
             "outlinewidth": 0,
             "ticks": ""
            },
            "colorscale": [
             [
              0,
              "#0d0887"
             ],
             [
              0.1111111111111111,
              "#46039f"
             ],
             [
              0.2222222222222222,
              "#7201a8"
             ],
             [
              0.3333333333333333,
              "#9c179e"
             ],
             [
              0.4444444444444444,
              "#bd3786"
             ],
             [
              0.5555555555555556,
              "#d8576b"
             ],
             [
              0.6666666666666666,
              "#ed7953"
             ],
             [
              0.7777777777777778,
              "#fb9f3a"
             ],
             [
              0.8888888888888888,
              "#fdca26"
             ],
             [
              1,
              "#f0f921"
             ]
            ],
            "type": "heatmap"
           }
          ],
          "heatmapgl": [
           {
            "colorbar": {
             "outlinewidth": 0,
             "ticks": ""
            },
            "colorscale": [
             [
              0,
              "#0d0887"
             ],
             [
              0.1111111111111111,
              "#46039f"
             ],
             [
              0.2222222222222222,
              "#7201a8"
             ],
             [
              0.3333333333333333,
              "#9c179e"
             ],
             [
              0.4444444444444444,
              "#bd3786"
             ],
             [
              0.5555555555555556,
              "#d8576b"
             ],
             [
              0.6666666666666666,
              "#ed7953"
             ],
             [
              0.7777777777777778,
              "#fb9f3a"
             ],
             [
              0.8888888888888888,
              "#fdca26"
             ],
             [
              1,
              "#f0f921"
             ]
            ],
            "type": "heatmapgl"
           }
          ],
          "histogram": [
           {
            "marker": {
             "pattern": {
              "fillmode": "overlay",
              "size": 10,
              "solidity": 0.2
             }
            },
            "type": "histogram"
           }
          ],
          "histogram2d": [
           {
            "colorbar": {
             "outlinewidth": 0,
             "ticks": ""
            },
            "colorscale": [
             [
              0,
              "#0d0887"
             ],
             [
              0.1111111111111111,
              "#46039f"
             ],
             [
              0.2222222222222222,
              "#7201a8"
             ],
             [
              0.3333333333333333,
              "#9c179e"
             ],
             [
              0.4444444444444444,
              "#bd3786"
             ],
             [
              0.5555555555555556,
              "#d8576b"
             ],
             [
              0.6666666666666666,
              "#ed7953"
             ],
             [
              0.7777777777777778,
              "#fb9f3a"
             ],
             [
              0.8888888888888888,
              "#fdca26"
             ],
             [
              1,
              "#f0f921"
             ]
            ],
            "type": "histogram2d"
           }
          ],
          "histogram2dcontour": [
           {
            "colorbar": {
             "outlinewidth": 0,
             "ticks": ""
            },
            "colorscale": [
             [
              0,
              "#0d0887"
             ],
             [
              0.1111111111111111,
              "#46039f"
             ],
             [
              0.2222222222222222,
              "#7201a8"
             ],
             [
              0.3333333333333333,
              "#9c179e"
             ],
             [
              0.4444444444444444,
              "#bd3786"
             ],
             [
              0.5555555555555556,
              "#d8576b"
             ],
             [
              0.6666666666666666,
              "#ed7953"
             ],
             [
              0.7777777777777778,
              "#fb9f3a"
             ],
             [
              0.8888888888888888,
              "#fdca26"
             ],
             [
              1,
              "#f0f921"
             ]
            ],
            "type": "histogram2dcontour"
           }
          ],
          "mesh3d": [
           {
            "colorbar": {
             "outlinewidth": 0,
             "ticks": ""
            },
            "type": "mesh3d"
           }
          ],
          "parcoords": [
           {
            "line": {
             "colorbar": {
              "outlinewidth": 0,
              "ticks": ""
             }
            },
            "type": "parcoords"
           }
          ],
          "pie": [
           {
            "automargin": true,
            "type": "pie"
           }
          ],
          "scatter": [
           {
            "fillpattern": {
             "fillmode": "overlay",
             "size": 10,
             "solidity": 0.2
            },
            "type": "scatter"
           }
          ],
          "scatter3d": [
           {
            "line": {
             "colorbar": {
              "outlinewidth": 0,
              "ticks": ""
             }
            },
            "marker": {
             "colorbar": {
              "outlinewidth": 0,
              "ticks": ""
             }
            },
            "type": "scatter3d"
           }
          ],
          "scattercarpet": [
           {
            "marker": {
             "colorbar": {
              "outlinewidth": 0,
              "ticks": ""
             }
            },
            "type": "scattercarpet"
           }
          ],
          "scattergeo": [
           {
            "marker": {
             "colorbar": {
              "outlinewidth": 0,
              "ticks": ""
             }
            },
            "type": "scattergeo"
           }
          ],
          "scattergl": [
           {
            "marker": {
             "colorbar": {
              "outlinewidth": 0,
              "ticks": ""
             }
            },
            "type": "scattergl"
           }
          ],
          "scattermapbox": [
           {
            "marker": {
             "colorbar": {
              "outlinewidth": 0,
              "ticks": ""
             }
            },
            "type": "scattermapbox"
           }
          ],
          "scatterpolar": [
           {
            "marker": {
             "colorbar": {
              "outlinewidth": 0,
              "ticks": ""
             }
            },
            "type": "scatterpolar"
           }
          ],
          "scatterpolargl": [
           {
            "marker": {
             "colorbar": {
              "outlinewidth": 0,
              "ticks": ""
             }
            },
            "type": "scatterpolargl"
           }
          ],
          "scatterternary": [
           {
            "marker": {
             "colorbar": {
              "outlinewidth": 0,
              "ticks": ""
             }
            },
            "type": "scatterternary"
           }
          ],
          "surface": [
           {
            "colorbar": {
             "outlinewidth": 0,
             "ticks": ""
            },
            "colorscale": [
             [
              0,
              "#0d0887"
             ],
             [
              0.1111111111111111,
              "#46039f"
             ],
             [
              0.2222222222222222,
              "#7201a8"
             ],
             [
              0.3333333333333333,
              "#9c179e"
             ],
             [
              0.4444444444444444,
              "#bd3786"
             ],
             [
              0.5555555555555556,
              "#d8576b"
             ],
             [
              0.6666666666666666,
              "#ed7953"
             ],
             [
              0.7777777777777778,
              "#fb9f3a"
             ],
             [
              0.8888888888888888,
              "#fdca26"
             ],
             [
              1,
              "#f0f921"
             ]
            ],
            "type": "surface"
           }
          ],
          "table": [
           {
            "cells": {
             "fill": {
              "color": "#EBF0F8"
             },
             "line": {
              "color": "white"
             }
            },
            "header": {
             "fill": {
              "color": "#C8D4E3"
             },
             "line": {
              "color": "white"
             }
            },
            "type": "table"
           }
          ]
         },
         "layout": {
          "annotationdefaults": {
           "arrowcolor": "#2a3f5f",
           "arrowhead": 0,
           "arrowwidth": 1
          },
          "autotypenumbers": "strict",
          "coloraxis": {
           "colorbar": {
            "outlinewidth": 0,
            "ticks": ""
           }
          },
          "colorscale": {
           "diverging": [
            [
             0,
             "#8e0152"
            ],
            [
             0.1,
             "#c51b7d"
            ],
            [
             0.2,
             "#de77ae"
            ],
            [
             0.3,
             "#f1b6da"
            ],
            [
             0.4,
             "#fde0ef"
            ],
            [
             0.5,
             "#f7f7f7"
            ],
            [
             0.6,
             "#e6f5d0"
            ],
            [
             0.7,
             "#b8e186"
            ],
            [
             0.8,
             "#7fbc41"
            ],
            [
             0.9,
             "#4d9221"
            ],
            [
             1,
             "#276419"
            ]
           ],
           "sequential": [
            [
             0,
             "#0d0887"
            ],
            [
             0.1111111111111111,
             "#46039f"
            ],
            [
             0.2222222222222222,
             "#7201a8"
            ],
            [
             0.3333333333333333,
             "#9c179e"
            ],
            [
             0.4444444444444444,
             "#bd3786"
            ],
            [
             0.5555555555555556,
             "#d8576b"
            ],
            [
             0.6666666666666666,
             "#ed7953"
            ],
            [
             0.7777777777777778,
             "#fb9f3a"
            ],
            [
             0.8888888888888888,
             "#fdca26"
            ],
            [
             1,
             "#f0f921"
            ]
           ],
           "sequentialminus": [
            [
             0,
             "#0d0887"
            ],
            [
             0.1111111111111111,
             "#46039f"
            ],
            [
             0.2222222222222222,
             "#7201a8"
            ],
            [
             0.3333333333333333,
             "#9c179e"
            ],
            [
             0.4444444444444444,
             "#bd3786"
            ],
            [
             0.5555555555555556,
             "#d8576b"
            ],
            [
             0.6666666666666666,
             "#ed7953"
            ],
            [
             0.7777777777777778,
             "#fb9f3a"
            ],
            [
             0.8888888888888888,
             "#fdca26"
            ],
            [
             1,
             "#f0f921"
            ]
           ]
          },
          "colorway": [
           "#636efa",
           "#EF553B",
           "#00cc96",
           "#ab63fa",
           "#FFA15A",
           "#19d3f3",
           "#FF6692",
           "#B6E880",
           "#FF97FF",
           "#FECB52"
          ],
          "font": {
           "color": "#2a3f5f"
          },
          "geo": {
           "bgcolor": "white",
           "lakecolor": "white",
           "landcolor": "#E5ECF6",
           "showlakes": true,
           "showland": true,
           "subunitcolor": "white"
          },
          "hoverlabel": {
           "align": "left"
          },
          "hovermode": "closest",
          "mapbox": {
           "style": "light"
          },
          "paper_bgcolor": "white",
          "plot_bgcolor": "#E5ECF6",
          "polar": {
           "angularaxis": {
            "gridcolor": "white",
            "linecolor": "white",
            "ticks": ""
           },
           "bgcolor": "#E5ECF6",
           "radialaxis": {
            "gridcolor": "white",
            "linecolor": "white",
            "ticks": ""
           }
          },
          "scene": {
           "xaxis": {
            "backgroundcolor": "#E5ECF6",
            "gridcolor": "white",
            "gridwidth": 2,
            "linecolor": "white",
            "showbackground": true,
            "ticks": "",
            "zerolinecolor": "white"
           },
           "yaxis": {
            "backgroundcolor": "#E5ECF6",
            "gridcolor": "white",
            "gridwidth": 2,
            "linecolor": "white",
            "showbackground": true,
            "ticks": "",
            "zerolinecolor": "white"
           },
           "zaxis": {
            "backgroundcolor": "#E5ECF6",
            "gridcolor": "white",
            "gridwidth": 2,
            "linecolor": "white",
            "showbackground": true,
            "ticks": "",
            "zerolinecolor": "white"
           }
          },
          "shapedefaults": {
           "line": {
            "color": "#2a3f5f"
           }
          },
          "ternary": {
           "aaxis": {
            "gridcolor": "white",
            "linecolor": "white",
            "ticks": ""
           },
           "baxis": {
            "gridcolor": "white",
            "linecolor": "white",
            "ticks": ""
           },
           "bgcolor": "#E5ECF6",
           "caxis": {
            "gridcolor": "white",
            "linecolor": "white",
            "ticks": ""
           }
          },
          "title": {
           "x": 0.05
          },
          "xaxis": {
           "automargin": true,
           "gridcolor": "white",
           "linecolor": "white",
           "ticks": "",
           "title": {
            "standoff": 15
           },
           "zerolinecolor": "white",
           "zerolinewidth": 2
          },
          "yaxis": {
           "automargin": true,
           "gridcolor": "white",
           "linecolor": "white",
           "ticks": "",
           "title": {
            "standoff": 15
           },
           "zerolinecolor": "white",
           "zerolinewidth": 2
          }
         }
        },
        "xaxis": {
         "anchor": "y",
         "domain": [
          0,
          1
         ],
         "title": {
          "text": "value"
         }
        },
        "yaxis": {
         "anchor": "x",
         "domain": [
          0,
          1
         ],
         "title": {
          "text": "count"
         }
        }
       }
      }
     },
     "metadata": {},
     "output_type": "display_data"
    }
   ],
   "source": [
    "df[\"Drehzahl / 1/min\"].plot(kind=\"hist\")"
   ]
  },
  {
   "cell_type": "markdown",
   "id": "3f111abe",
   "metadata": {},
   "source": [
    "Versuchen Sie, mit der Histogramm-Funktion zu spielen: stellen Sie selbständig ein Histogramm von der Stromaufnahme in Ampere dar. Was fällt Ihnen an dieser Verteilung auf?"
   ]
  },
  {
   "cell_type": "code",
   "execution_count": 9,
   "id": "24a76cf1",
   "metadata": {
    "scrolled": true
   },
   "outputs": [
    {
     "data": {
      "application/vnd.plotly.v1+json": {
       "config": {
        "plotlyServerURL": "https://plot.ly"
       },
       "data": [
        {
         "alignmentgroup": "True",
         "bingroup": "x",
         "hovertemplate": "variable=Strom / A<br>value=%{x}<br>count=%{y}<extra></extra>",
         "legendgroup": "Strom / A",
         "marker": {
          "color": "#636efa",
          "pattern": {
           "shape": ""
          }
         },
         "name": "Strom / A",
         "offsetgroup": "Strom / A",
         "orientation": "v",
         "showlegend": true,
         "type": "histogram",
         "x": [
          22.782,
          19.793,
          25.581,
          28.145,
          25.544,
          21.426,
          22.786,
          23.021,
          22.255,
          26.195,
          19.847,
          20.524,
          26.221,
          26.272,
          21.45,
          22.419,
          25.2,
          19.752,
          19.385,
          25.683,
          19.59,
          20.919,
          20.541,
          21.357,
          25.944,
          27.73,
          25.289,
          21.289,
          26.049,
          20.681,
          20.909,
          21.812,
          22.118,
          21.245,
          20.972,
          21.212,
          26.164,
          23.126,
          20.814,
          27.926,
          23.695,
          22.58,
          21.269,
          20.489,
          20.77,
          25.079,
          19.198,
          20.451,
          22.842,
          20.208,
          20.413,
          23.376,
          21.654,
          19.155,
          19.555,
          20.399,
          26.312,
          20.338,
          26.872,
          22.52,
          26.699,
          27.957,
          22.55,
          25.038,
          23.559,
          26.521,
          21.219,
          21.84,
          20.936,
          24.66,
          22.859,
          26.452,
          20.844,
          19.955,
          20.208,
          21.128,
          22.776,
          21.506,
          26.097,
          19,
          25.953,
          23.025,
          22.55,
          24.787,
          19.902,
          19.887,
          19.791,
          23.058,
          19.451,
          25.821,
          19.633,
          21.047,
          22.349,
          22.459,
          21.479,
          19.283,
          22.562,
          27.201,
          19.535,
          22.463,
          21.174,
          26.36,
          18.903,
          20.646,
          22.334,
          19.52,
          25.99,
          22.244,
          19.723,
          22.843,
          20.774,
          24.695,
          20.322,
          19.401,
          23.201,
          22.778,
          25.135,
          19.485,
          20.398,
          20.238,
          23.323,
          26.33,
          22.601,
          19.774,
          25.698,
          20.543,
          22.38,
          27.2,
          22.961,
          21.879,
          21.797,
          22.218,
          25.872,
          21.132,
          23.342,
          22.012,
          22.751,
          26.394,
          24.697,
          29.129,
          20.456,
          25.527,
          20.556,
          25.749,
          19.651,
          19.098,
          23.311,
          22.611,
          20.405,
          19.657,
          22.745,
          22.156,
          21.41,
          20.322,
          28.187,
          25.478,
          19.797,
          21.051,
          21.918,
          20.008,
          28.717,
          26.214,
          20.125,
          21.365,
          22.465,
          22.875,
          21.883,
          28.946,
          20.319,
          25.292,
          25.219,
          27.651,
          25.968,
          24.675,
          18.86,
          20.178,
          21.483,
          21.045,
          21.146,
          25.514,
          20.365,
          19.712,
          23.544,
          23.244,
          21.367,
          19.354,
          18.835,
          23.381,
          22.385,
          20.13,
          22.832,
          20.444,
          24.327,
          26.639,
          25.184,
          25.352,
          20.791,
          20.994,
          21.243,
          20.232,
          21.494,
          20.414,
          19.614,
          26.343,
          19.283,
          19.731,
          21.383,
          22.407,
          26.714,
          21.431,
          25.472,
          19.523,
          21.973,
          26.166,
          26.219,
          21.112,
          23.544,
          23.652,
          23.626,
          25.455,
          21.031,
          23.06,
          22.332,
          22.242,
          19.27,
          19.608,
          25.003,
          20.531,
          20.532,
          19.957,
          19.65,
          19.626,
          21.099,
          20.674,
          26.094,
          23.401,
          19.139,
          20.768,
          25.989,
          28.324,
          24.365,
          23.144,
          19.843,
          19.95,
          22.33,
          19.574,
          23.128,
          21.02,
          22.511,
          19.457,
          21.948,
          20.483,
          18.868,
          20.799,
          20.921,
          21.182,
          22.817,
          22.06,
          25.066,
          19.856,
          22.713,
          21.031,
          22.734,
          24.723,
          25.54,
          null,
          22.443,
          22.946,
          19.28,
          20.087,
          19.613,
          22.892,
          22.699,
          18.889,
          22.125,
          21.269,
          21.483,
          20.462,
          19.853,
          21.377,
          20.462,
          19.587,
          20.394,
          22.778,
          27.671,
          22.133,
          22.117,
          19.319,
          25.649,
          20.628,
          26.524,
          24.908,
          19.794,
          26.349,
          18.714,
          23.13,
          22.553,
          22.522,
          26.643,
          20.074,
          26.72,
          20.743,
          25.468,
          26.142,
          22.933,
          22.684,
          25.415,
          20.859,
          19.948,
          26.209,
          24.942,
          21.2,
          23.023,
          19.888,
          21.884,
          20.875,
          22.379,
          26.223,
          28.789,
          25.844,
          22.409,
          26.441,
          19.655,
          29.53,
          21.169,
          21.124,
          22.791,
          28.184,
          24.273,
          23.229,
          21.058,
          20.613,
          19.341,
          19.733,
          25.388,
          23.012,
          21.144,
          22.207,
          24.927,
          20.251,
          23.239,
          19.983,
          19.245,
          19.314,
          24.963,
          19.5,
          21.051,
          20.114,
          20.75,
          24.825,
          21.875,
          20.765,
          22.842,
          22.616,
          26.475,
          25.842,
          28.426,
          22.718,
          23.907,
          19.942,
          27.689,
          21.129,
          21.187,
          25.043,
          21.15,
          20.443,
          25.286,
          20.314,
          20.47,
          22.982,
          22.731,
          20.519,
          26.185,
          21.128,
          19.951,
          19.809,
          19.9,
          22.749,
          21.567,
          22.624,
          25.388,
          21.057,
          25.216,
          19.723,
          22.257,
          27.81,
          26.048,
          21.948,
          23.513,
          21.42,
          22.208,
          19.347,
          25.798,
          19.417,
          19.539,
          19.381,
          19.802,
          19.443,
          21.28,
          19.789,
          25.375,
          25.762,
          19.322,
          23.093,
          25.892,
          25.485,
          23.122,
          19.828,
          22.925,
          25.769,
          25.409,
          21.949,
          23.153,
          19.896,
          21.827,
          21.327,
          21.983,
          21.518,
          25.25,
          21.802,
          26.209,
          21.563,
          23.359,
          20.723,
          25.261,
          19.642,
          22.696,
          21.058,
          22.349,
          21.913,
          19.772,
          20.935,
          19.41,
          25.61,
          22.905,
          23.014,
          20.94,
          22.24,
          20.005,
          20.331,
          24.741,
          19.623,
          18.774,
          19.033,
          21.862,
          20.991,
          21.276,
          22.284,
          26.167,
          19.644,
          18.712,
          18.805,
          23.173,
          25.937,
          20.64,
          25.753,
          19.308,
          28.583,
          18.909,
          20.691,
          20.325,
          19.304,
          25.985,
          24.038,
          26.063,
          26.208,
          21.087,
          20.939,
          19.623,
          20.976,
          24.278,
          28.675,
          29.079,
          19.64,
          20.674,
          22.391,
          25.406,
          24.499,
          22.398,
          26.033,
          25.896,
          20.371,
          20.296,
          22.341,
          22.587,
          21.968,
          22.406,
          23.796,
          25.915,
          23.498,
          20.773,
          22.939,
          20.107,
          25.759,
          25.59,
          22.298,
          21.779,
          26.32,
          19.329,
          28.278,
          21.164,
          21.337,
          20.385,
          19.525,
          26.069,
          19.348,
          22.443,
          20.719,
          21.69,
          19.598,
          23.048,
          19.666,
          22.911,
          27.614,
          19.356,
          21.221,
          24.575,
          19.336,
          22.008,
          22.453,
          23.171,
          19.328,
          21.104,
          22.785,
          20.139,
          24.944,
          22.622,
          19.829,
          27.975,
          23.944,
          24.573,
          21.299,
          20.16,
          20.357,
          21.824,
          20.935,
          25.98,
          28.311,
          19.889,
          23.194,
          26.04,
          22.363,
          20.514,
          22.523,
          23.513,
          18.932,
          21.225,
          25.546,
          25.85,
          19.756,
          27.749,
          22.63,
          19.159,
          23.117,
          23.121,
          22.404,
          20.726,
          23.181,
          21.587,
          22.215,
          21.593,
          20.253,
          26.265,
          20.621,
          22.512,
          19.7,
          21.084,
          20.21,
          22.677,
          21.107,
          19.23,
          24.119,
          26.177,
          26.214,
          20.131,
          19.898,
          22.632,
          24.832,
          19.955,
          23.491,
          22.514,
          23.636,
          22.037,
          23.624,
          20.642,
          20.841,
          24.875,
          21.378,
          22.213,
          23.615,
          24.902,
          22.336,
          21.39,
          25.544,
          22.599,
          24.402,
          21.877,
          22.102,
          19.517,
          26.334,
          20.59,
          20.081,
          20.592,
          20.336,
          22.607,
          23.001,
          20.58,
          19.276,
          19.888,
          20.315,
          19.371,
          25.817,
          22.961,
          27.938,
          22.398,
          20.856,
          28.625,
          22.078,
          20.823,
          20.815,
          22.897,
          23.281,
          22.347,
          26.03,
          19.089,
          22.372,
          21.687,
          19.63,
          22.444,
          20.486,
          28.754,
          21.55,
          21.531,
          27.056,
          19.565,
          25.728,
          22.696,
          25.918,
          19.084,
          23.369,
          20.992,
          22.299,
          19.517,
          26.005,
          26.258,
          21.041,
          21.445,
          21.117,
          25.969,
          21.87,
          25.422,
          20.43,
          19.221,
          22.931,
          20.371,
          25.895,
          25.831,
          20.286,
          23.836,
          25.553,
          25.7,
          21.557,
          21.114,
          23.532,
          19.591,
          20.474,
          22.077,
          19.943,
          23.159,
          20.466,
          26.044,
          25.614,
          25.372,
          21.22,
          21.031,
          24.898,
          26.442,
          23.192,
          23.257,
          21.537,
          24.395,
          25.649,
          25.515,
          19.831,
          22.371,
          23.311,
          23.279,
          22.667,
          21.294,
          20.413,
          20.821,
          22.053,
          19.174,
          21.502,
          23.053,
          23.333,
          25.561,
          23.306,
          23.63,
          25.261,
          19.878,
          19.844,
          21.742,
          20.009,
          20.464,
          22.735,
          20.516,
          22.138,
          24.829,
          19.46,
          19.296,
          19.523,
          22.59,
          19.402,
          23.347,
          20.956,
          21.151,
          20.441,
          20.879,
          18.728,
          19.625,
          19.93,
          20.021,
          23.782,
          25.87,
          26.221,
          22.048,
          20.634,
          27.742,
          23.436,
          25.823,
          25.014,
          21.172,
          26.333,
          25.506,
          23.232,
          27.927,
          21.265,
          19.09,
          19.67,
          20.198,
          21.452,
          26.105,
          25.953,
          18.979,
          21.539,
          20.825,
          25.344,
          25.143,
          19.12,
          26.164,
          20.66,
          26.118,
          22.831,
          25.586,
          20.957,
          19.691,
          20.82,
          21.659,
          25.976,
          19.771,
          19.703,
          19.818,
          22.597,
          20.408,
          22.75,
          19.639,
          22.326,
          22.729,
          18.793,
          21.625,
          23.29,
          21.952,
          20.814,
          23.428,
          19.377,
          25.882,
          25.54,
          22.211,
          19.577,
          22.537,
          20.605,
          23.146,
          20.109,
          21.03,
          21.894,
          19.723,
          25.693,
          19.632,
          19.888,
          21.476,
          25.627,
          19.825,
          25.599,
          19.507,
          26.193,
          20.884,
          23.832,
          25.798,
          23.333,
          25.085,
          24.529,
          22.534,
          25.985,
          22.857,
          22.111,
          20.283,
          23.275,
          20.744,
          21.798,
          20.915,
          19.739,
          26.973,
          27.154,
          25.911,
          25.668,
          26.334,
          21.268,
          25.147,
          28.302,
          20.237,
          25.469,
          26.044,
          27.885,
          23.554,
          25.728,
          20.452,
          25.852,
          20.921,
          28.313,
          22.671,
          18.768,
          24.996,
          20.381,
          20.988,
          19.747,
          19.447,
          19.903,
          21.65,
          21.015,
          21.969,
          25.414,
          22.046,
          25.92,
          19.18,
          22.065,
          22.355,
          21.348,
          20.741,
          22.614,
          21.231,
          22.733,
          19.442,
          19.886,
          23.364,
          20.371,
          26.469,
          29.114,
          22.018,
          20.87,
          19.656,
          20.468,
          22.06,
          19.458,
          21.845,
          22.777,
          19.858,
          20.242,
          21.585,
          23.365,
          22.168,
          26.21,
          21.621,
          19.714,
          22.029,
          26.185,
          26.535,
          18.703,
          19.94,
          22.437,
          20.811,
          20.05,
          20.706,
          19.492,
          19.379,
          22.569,
          19.238,
          22.288,
          19.722,
          25.672,
          22.605,
          20.877,
          25.745,
          20.684,
          22.746,
          23.455,
          19.131,
          20.819,
          22.562,
          20.079,
          29.328,
          23.233,
          25.59,
          19.917,
          23.027,
          20.191,
          23.507,
          22.727,
          24.976,
          20.378,
          21.199,
          26.393,
          21.807,
          25.795,
          20.57,
          22.801,
          21.116,
          28.085,
          19.884,
          20.514,
          21.546,
          19.941,
          23.12,
          22.587,
          26.122,
          26.582,
          19.685,
          19.367,
          25.797,
          23.041,
          19.568,
          20.809,
          20.079,
          25.727,
          21.753,
          22.963,
          22.434,
          26.914,
          20.649,
          23.21,
          25.016,
          22.719,
          21.887,
          26.46,
          26.513,
          24.719,
          21.911,
          25.316,
          27.259,
          28.395,
          18.221,
          21.415,
          22.339,
          26.686,
          19.262,
          26.574,
          22.775,
          19.124,
          22.553,
          20.708,
          26.365,
          25.129,
          26.021,
          19.577,
          23.182,
          19.465,
          22.79,
          24.661,
          20.171,
          19.776,
          27.527,
          20.22,
          22.592,
          20.368,
          21.115,
          22.388,
          22.689,
          20.194,
          22.176,
          26.479,
          18.909,
          19.475,
          21.009,
          20.463,
          20.66,
          20.102,
          19.615,
          24.514,
          26.335,
          25.549,
          23.02,
          27.104,
          22.472,
          20.123,
          23.154,
          22.347,
          23.761,
          21.879,
          28.423,
          19.404
         ],
         "xaxis": "x",
         "yaxis": "y"
        }
       ],
       "layout": {
        "barmode": "relative",
        "legend": {
         "title": {
          "text": "variable"
         },
         "tracegroupgap": 0
        },
        "margin": {
         "t": 60
        },
        "template": {
         "data": {
          "bar": [
           {
            "error_x": {
             "color": "#2a3f5f"
            },
            "error_y": {
             "color": "#2a3f5f"
            },
            "marker": {
             "line": {
              "color": "#E5ECF6",
              "width": 0.5
             },
             "pattern": {
              "fillmode": "overlay",
              "size": 10,
              "solidity": 0.2
             }
            },
            "type": "bar"
           }
          ],
          "barpolar": [
           {
            "marker": {
             "line": {
              "color": "#E5ECF6",
              "width": 0.5
             },
             "pattern": {
              "fillmode": "overlay",
              "size": 10,
              "solidity": 0.2
             }
            },
            "type": "barpolar"
           }
          ],
          "carpet": [
           {
            "aaxis": {
             "endlinecolor": "#2a3f5f",
             "gridcolor": "white",
             "linecolor": "white",
             "minorgridcolor": "white",
             "startlinecolor": "#2a3f5f"
            },
            "baxis": {
             "endlinecolor": "#2a3f5f",
             "gridcolor": "white",
             "linecolor": "white",
             "minorgridcolor": "white",
             "startlinecolor": "#2a3f5f"
            },
            "type": "carpet"
           }
          ],
          "choropleth": [
           {
            "colorbar": {
             "outlinewidth": 0,
             "ticks": ""
            },
            "type": "choropleth"
           }
          ],
          "contour": [
           {
            "colorbar": {
             "outlinewidth": 0,
             "ticks": ""
            },
            "colorscale": [
             [
              0,
              "#0d0887"
             ],
             [
              0.1111111111111111,
              "#46039f"
             ],
             [
              0.2222222222222222,
              "#7201a8"
             ],
             [
              0.3333333333333333,
              "#9c179e"
             ],
             [
              0.4444444444444444,
              "#bd3786"
             ],
             [
              0.5555555555555556,
              "#d8576b"
             ],
             [
              0.6666666666666666,
              "#ed7953"
             ],
             [
              0.7777777777777778,
              "#fb9f3a"
             ],
             [
              0.8888888888888888,
              "#fdca26"
             ],
             [
              1,
              "#f0f921"
             ]
            ],
            "type": "contour"
           }
          ],
          "contourcarpet": [
           {
            "colorbar": {
             "outlinewidth": 0,
             "ticks": ""
            },
            "type": "contourcarpet"
           }
          ],
          "heatmap": [
           {
            "colorbar": {
             "outlinewidth": 0,
             "ticks": ""
            },
            "colorscale": [
             [
              0,
              "#0d0887"
             ],
             [
              0.1111111111111111,
              "#46039f"
             ],
             [
              0.2222222222222222,
              "#7201a8"
             ],
             [
              0.3333333333333333,
              "#9c179e"
             ],
             [
              0.4444444444444444,
              "#bd3786"
             ],
             [
              0.5555555555555556,
              "#d8576b"
             ],
             [
              0.6666666666666666,
              "#ed7953"
             ],
             [
              0.7777777777777778,
              "#fb9f3a"
             ],
             [
              0.8888888888888888,
              "#fdca26"
             ],
             [
              1,
              "#f0f921"
             ]
            ],
            "type": "heatmap"
           }
          ],
          "heatmapgl": [
           {
            "colorbar": {
             "outlinewidth": 0,
             "ticks": ""
            },
            "colorscale": [
             [
              0,
              "#0d0887"
             ],
             [
              0.1111111111111111,
              "#46039f"
             ],
             [
              0.2222222222222222,
              "#7201a8"
             ],
             [
              0.3333333333333333,
              "#9c179e"
             ],
             [
              0.4444444444444444,
              "#bd3786"
             ],
             [
              0.5555555555555556,
              "#d8576b"
             ],
             [
              0.6666666666666666,
              "#ed7953"
             ],
             [
              0.7777777777777778,
              "#fb9f3a"
             ],
             [
              0.8888888888888888,
              "#fdca26"
             ],
             [
              1,
              "#f0f921"
             ]
            ],
            "type": "heatmapgl"
           }
          ],
          "histogram": [
           {
            "marker": {
             "pattern": {
              "fillmode": "overlay",
              "size": 10,
              "solidity": 0.2
             }
            },
            "type": "histogram"
           }
          ],
          "histogram2d": [
           {
            "colorbar": {
             "outlinewidth": 0,
             "ticks": ""
            },
            "colorscale": [
             [
              0,
              "#0d0887"
             ],
             [
              0.1111111111111111,
              "#46039f"
             ],
             [
              0.2222222222222222,
              "#7201a8"
             ],
             [
              0.3333333333333333,
              "#9c179e"
             ],
             [
              0.4444444444444444,
              "#bd3786"
             ],
             [
              0.5555555555555556,
              "#d8576b"
             ],
             [
              0.6666666666666666,
              "#ed7953"
             ],
             [
              0.7777777777777778,
              "#fb9f3a"
             ],
             [
              0.8888888888888888,
              "#fdca26"
             ],
             [
              1,
              "#f0f921"
             ]
            ],
            "type": "histogram2d"
           }
          ],
          "histogram2dcontour": [
           {
            "colorbar": {
             "outlinewidth": 0,
             "ticks": ""
            },
            "colorscale": [
             [
              0,
              "#0d0887"
             ],
             [
              0.1111111111111111,
              "#46039f"
             ],
             [
              0.2222222222222222,
              "#7201a8"
             ],
             [
              0.3333333333333333,
              "#9c179e"
             ],
             [
              0.4444444444444444,
              "#bd3786"
             ],
             [
              0.5555555555555556,
              "#d8576b"
             ],
             [
              0.6666666666666666,
              "#ed7953"
             ],
             [
              0.7777777777777778,
              "#fb9f3a"
             ],
             [
              0.8888888888888888,
              "#fdca26"
             ],
             [
              1,
              "#f0f921"
             ]
            ],
            "type": "histogram2dcontour"
           }
          ],
          "mesh3d": [
           {
            "colorbar": {
             "outlinewidth": 0,
             "ticks": ""
            },
            "type": "mesh3d"
           }
          ],
          "parcoords": [
           {
            "line": {
             "colorbar": {
              "outlinewidth": 0,
              "ticks": ""
             }
            },
            "type": "parcoords"
           }
          ],
          "pie": [
           {
            "automargin": true,
            "type": "pie"
           }
          ],
          "scatter": [
           {
            "fillpattern": {
             "fillmode": "overlay",
             "size": 10,
             "solidity": 0.2
            },
            "type": "scatter"
           }
          ],
          "scatter3d": [
           {
            "line": {
             "colorbar": {
              "outlinewidth": 0,
              "ticks": ""
             }
            },
            "marker": {
             "colorbar": {
              "outlinewidth": 0,
              "ticks": ""
             }
            },
            "type": "scatter3d"
           }
          ],
          "scattercarpet": [
           {
            "marker": {
             "colorbar": {
              "outlinewidth": 0,
              "ticks": ""
             }
            },
            "type": "scattercarpet"
           }
          ],
          "scattergeo": [
           {
            "marker": {
             "colorbar": {
              "outlinewidth": 0,
              "ticks": ""
             }
            },
            "type": "scattergeo"
           }
          ],
          "scattergl": [
           {
            "marker": {
             "colorbar": {
              "outlinewidth": 0,
              "ticks": ""
             }
            },
            "type": "scattergl"
           }
          ],
          "scattermapbox": [
           {
            "marker": {
             "colorbar": {
              "outlinewidth": 0,
              "ticks": ""
             }
            },
            "type": "scattermapbox"
           }
          ],
          "scatterpolar": [
           {
            "marker": {
             "colorbar": {
              "outlinewidth": 0,
              "ticks": ""
             }
            },
            "type": "scatterpolar"
           }
          ],
          "scatterpolargl": [
           {
            "marker": {
             "colorbar": {
              "outlinewidth": 0,
              "ticks": ""
             }
            },
            "type": "scatterpolargl"
           }
          ],
          "scatterternary": [
           {
            "marker": {
             "colorbar": {
              "outlinewidth": 0,
              "ticks": ""
             }
            },
            "type": "scatterternary"
           }
          ],
          "surface": [
           {
            "colorbar": {
             "outlinewidth": 0,
             "ticks": ""
            },
            "colorscale": [
             [
              0,
              "#0d0887"
             ],
             [
              0.1111111111111111,
              "#46039f"
             ],
             [
              0.2222222222222222,
              "#7201a8"
             ],
             [
              0.3333333333333333,
              "#9c179e"
             ],
             [
              0.4444444444444444,
              "#bd3786"
             ],
             [
              0.5555555555555556,
              "#d8576b"
             ],
             [
              0.6666666666666666,
              "#ed7953"
             ],
             [
              0.7777777777777778,
              "#fb9f3a"
             ],
             [
              0.8888888888888888,
              "#fdca26"
             ],
             [
              1,
              "#f0f921"
             ]
            ],
            "type": "surface"
           }
          ],
          "table": [
           {
            "cells": {
             "fill": {
              "color": "#EBF0F8"
             },
             "line": {
              "color": "white"
             }
            },
            "header": {
             "fill": {
              "color": "#C8D4E3"
             },
             "line": {
              "color": "white"
             }
            },
            "type": "table"
           }
          ]
         },
         "layout": {
          "annotationdefaults": {
           "arrowcolor": "#2a3f5f",
           "arrowhead": 0,
           "arrowwidth": 1
          },
          "autotypenumbers": "strict",
          "coloraxis": {
           "colorbar": {
            "outlinewidth": 0,
            "ticks": ""
           }
          },
          "colorscale": {
           "diverging": [
            [
             0,
             "#8e0152"
            ],
            [
             0.1,
             "#c51b7d"
            ],
            [
             0.2,
             "#de77ae"
            ],
            [
             0.3,
             "#f1b6da"
            ],
            [
             0.4,
             "#fde0ef"
            ],
            [
             0.5,
             "#f7f7f7"
            ],
            [
             0.6,
             "#e6f5d0"
            ],
            [
             0.7,
             "#b8e186"
            ],
            [
             0.8,
             "#7fbc41"
            ],
            [
             0.9,
             "#4d9221"
            ],
            [
             1,
             "#276419"
            ]
           ],
           "sequential": [
            [
             0,
             "#0d0887"
            ],
            [
             0.1111111111111111,
             "#46039f"
            ],
            [
             0.2222222222222222,
             "#7201a8"
            ],
            [
             0.3333333333333333,
             "#9c179e"
            ],
            [
             0.4444444444444444,
             "#bd3786"
            ],
            [
             0.5555555555555556,
             "#d8576b"
            ],
            [
             0.6666666666666666,
             "#ed7953"
            ],
            [
             0.7777777777777778,
             "#fb9f3a"
            ],
            [
             0.8888888888888888,
             "#fdca26"
            ],
            [
             1,
             "#f0f921"
            ]
           ],
           "sequentialminus": [
            [
             0,
             "#0d0887"
            ],
            [
             0.1111111111111111,
             "#46039f"
            ],
            [
             0.2222222222222222,
             "#7201a8"
            ],
            [
             0.3333333333333333,
             "#9c179e"
            ],
            [
             0.4444444444444444,
             "#bd3786"
            ],
            [
             0.5555555555555556,
             "#d8576b"
            ],
            [
             0.6666666666666666,
             "#ed7953"
            ],
            [
             0.7777777777777778,
             "#fb9f3a"
            ],
            [
             0.8888888888888888,
             "#fdca26"
            ],
            [
             1,
             "#f0f921"
            ]
           ]
          },
          "colorway": [
           "#636efa",
           "#EF553B",
           "#00cc96",
           "#ab63fa",
           "#FFA15A",
           "#19d3f3",
           "#FF6692",
           "#B6E880",
           "#FF97FF",
           "#FECB52"
          ],
          "font": {
           "color": "#2a3f5f"
          },
          "geo": {
           "bgcolor": "white",
           "lakecolor": "white",
           "landcolor": "#E5ECF6",
           "showlakes": true,
           "showland": true,
           "subunitcolor": "white"
          },
          "hoverlabel": {
           "align": "left"
          },
          "hovermode": "closest",
          "mapbox": {
           "style": "light"
          },
          "paper_bgcolor": "white",
          "plot_bgcolor": "#E5ECF6",
          "polar": {
           "angularaxis": {
            "gridcolor": "white",
            "linecolor": "white",
            "ticks": ""
           },
           "bgcolor": "#E5ECF6",
           "radialaxis": {
            "gridcolor": "white",
            "linecolor": "white",
            "ticks": ""
           }
          },
          "scene": {
           "xaxis": {
            "backgroundcolor": "#E5ECF6",
            "gridcolor": "white",
            "gridwidth": 2,
            "linecolor": "white",
            "showbackground": true,
            "ticks": "",
            "zerolinecolor": "white"
           },
           "yaxis": {
            "backgroundcolor": "#E5ECF6",
            "gridcolor": "white",
            "gridwidth": 2,
            "linecolor": "white",
            "showbackground": true,
            "ticks": "",
            "zerolinecolor": "white"
           },
           "zaxis": {
            "backgroundcolor": "#E5ECF6",
            "gridcolor": "white",
            "gridwidth": 2,
            "linecolor": "white",
            "showbackground": true,
            "ticks": "",
            "zerolinecolor": "white"
           }
          },
          "shapedefaults": {
           "line": {
            "color": "#2a3f5f"
           }
          },
          "ternary": {
           "aaxis": {
            "gridcolor": "white",
            "linecolor": "white",
            "ticks": ""
           },
           "baxis": {
            "gridcolor": "white",
            "linecolor": "white",
            "ticks": ""
           },
           "bgcolor": "#E5ECF6",
           "caxis": {
            "gridcolor": "white",
            "linecolor": "white",
            "ticks": ""
           }
          },
          "title": {
           "x": 0.05
          },
          "xaxis": {
           "automargin": true,
           "gridcolor": "white",
           "linecolor": "white",
           "ticks": "",
           "title": {
            "standoff": 15
           },
           "zerolinecolor": "white",
           "zerolinewidth": 2
          },
          "yaxis": {
           "automargin": true,
           "gridcolor": "white",
           "linecolor": "white",
           "ticks": "",
           "title": {
            "standoff": 15
           },
           "zerolinecolor": "white",
           "zerolinewidth": 2
          }
         }
        },
        "xaxis": {
         "anchor": "y",
         "domain": [
          0,
          1
         ],
         "title": {
          "text": "value"
         }
        },
        "yaxis": {
         "anchor": "x",
         "domain": [
          0,
          1
         ],
         "title": {
          "text": "count"
         }
        }
       }
      }
     },
     "metadata": {},
     "output_type": "display_data"
    }
   ],
   "source": [
    "import pandas as pd\n",
    "\n",
    "df = pd.read_csv(\"data/machine_data.csv\", delimiter=\";\", decimal=\",\")\n",
    "df[\"Strom / A\"].plot(kind=\"hist\")"
   ]
  },
  {
   "cell_type": "markdown",
   "id": "e6cedb33",
   "metadata": {},
   "source": [
    "Vielleicht ist Ihnen aufgefallen, dass sich die Anzahl der Wertebereiche zwischen den beiden Histogrammen unterscheidet. Im Histogramm zur Drehzahl pro Minute gibt es 12 solcher Bereiche, im Histogramm zur Stromaufname in Ampere 24. In Plotly gibt es einen Algorithmus, der die optimale Anzahl und Breite der Wertebereiche automatisch festlegt. Man kann allerdings über das ```nbins```-Argument zumindest die maximale Anzahl der Wertebereiche bestimmen. Setzen Sie das ```nbins```-Argument auf ```100``` und beobachten Sie, wie sich das Histogramm verändert. Fällt Ihnen bei der Häufigkeitsverteilung etwas auf, das Ihnen bei einer kleineren Anzahl von Wertebereichen vielleicht nicht aufgefallen wäre (Stichwort: Ausreißer)? Lohnt sich das Testen einer größeren Anzahl von Wertebereichen oder genügt die Standardeinstellung?"
   ]
  },
  {
   "cell_type": "code",
   "execution_count": 10,
   "id": "ee5dbb7a",
   "metadata": {},
   "outputs": [
    {
     "data": {
      "application/vnd.plotly.v1+json": {
       "config": {
        "plotlyServerURL": "https://plot.ly"
       },
       "data": [
        {
         "alignmentgroup": "True",
         "bingroup": "x",
         "hovertemplate": "variable=Strom / A<br>value=%{x}<br>count=%{y}<extra></extra>",
         "legendgroup": "Strom / A",
         "marker": {
          "color": "#636efa",
          "pattern": {
           "shape": ""
          }
         },
         "name": "Strom / A",
         "offsetgroup": "Strom / A",
         "orientation": "v",
         "showlegend": true,
         "type": "histogram",
         "x": [
          22.782,
          19.793,
          25.581,
          28.145,
          25.544,
          21.426,
          22.786,
          23.021,
          22.255,
          26.195,
          19.847,
          20.524,
          26.221,
          26.272,
          21.45,
          22.419,
          25.2,
          19.752,
          19.385,
          25.683,
          19.59,
          20.919,
          20.541,
          21.357,
          25.944,
          27.73,
          25.289,
          21.289,
          26.049,
          20.681,
          20.909,
          21.812,
          22.118,
          21.245,
          20.972,
          21.212,
          26.164,
          23.126,
          20.814,
          27.926,
          23.695,
          22.58,
          21.269,
          20.489,
          20.77,
          25.079,
          19.198,
          20.451,
          22.842,
          20.208,
          20.413,
          23.376,
          21.654,
          19.155,
          19.555,
          20.399,
          26.312,
          20.338,
          26.872,
          22.52,
          26.699,
          27.957,
          22.55,
          25.038,
          23.559,
          26.521,
          21.219,
          21.84,
          20.936,
          24.66,
          22.859,
          26.452,
          20.844,
          19.955,
          20.208,
          21.128,
          22.776,
          21.506,
          26.097,
          19,
          25.953,
          23.025,
          22.55,
          24.787,
          19.902,
          19.887,
          19.791,
          23.058,
          19.451,
          25.821,
          19.633,
          21.047,
          22.349,
          22.459,
          21.479,
          19.283,
          22.562,
          27.201,
          19.535,
          22.463,
          21.174,
          26.36,
          18.903,
          20.646,
          22.334,
          19.52,
          25.99,
          22.244,
          19.723,
          22.843,
          20.774,
          24.695,
          20.322,
          19.401,
          23.201,
          22.778,
          25.135,
          19.485,
          20.398,
          20.238,
          23.323,
          26.33,
          22.601,
          19.774,
          25.698,
          20.543,
          22.38,
          27.2,
          22.961,
          21.879,
          21.797,
          22.218,
          25.872,
          21.132,
          23.342,
          22.012,
          22.751,
          26.394,
          24.697,
          29.129,
          20.456,
          25.527,
          20.556,
          25.749,
          19.651,
          19.098,
          23.311,
          22.611,
          20.405,
          19.657,
          22.745,
          22.156,
          21.41,
          20.322,
          28.187,
          25.478,
          19.797,
          21.051,
          21.918,
          20.008,
          28.717,
          26.214,
          20.125,
          21.365,
          22.465,
          22.875,
          21.883,
          28.946,
          20.319,
          25.292,
          25.219,
          27.651,
          25.968,
          24.675,
          18.86,
          20.178,
          21.483,
          21.045,
          21.146,
          25.514,
          20.365,
          19.712,
          23.544,
          23.244,
          21.367,
          19.354,
          18.835,
          23.381,
          22.385,
          20.13,
          22.832,
          20.444,
          24.327,
          26.639,
          25.184,
          25.352,
          20.791,
          20.994,
          21.243,
          20.232,
          21.494,
          20.414,
          19.614,
          26.343,
          19.283,
          19.731,
          21.383,
          22.407,
          26.714,
          21.431,
          25.472,
          19.523,
          21.973,
          26.166,
          26.219,
          21.112,
          23.544,
          23.652,
          23.626,
          25.455,
          21.031,
          23.06,
          22.332,
          22.242,
          19.27,
          19.608,
          25.003,
          20.531,
          20.532,
          19.957,
          19.65,
          19.626,
          21.099,
          20.674,
          26.094,
          23.401,
          19.139,
          20.768,
          25.989,
          28.324,
          24.365,
          23.144,
          19.843,
          19.95,
          22.33,
          19.574,
          23.128,
          21.02,
          22.511,
          19.457,
          21.948,
          20.483,
          18.868,
          20.799,
          20.921,
          21.182,
          22.817,
          22.06,
          25.066,
          19.856,
          22.713,
          21.031,
          22.734,
          24.723,
          25.54,
          null,
          22.443,
          22.946,
          19.28,
          20.087,
          19.613,
          22.892,
          22.699,
          18.889,
          22.125,
          21.269,
          21.483,
          20.462,
          19.853,
          21.377,
          20.462,
          19.587,
          20.394,
          22.778,
          27.671,
          22.133,
          22.117,
          19.319,
          25.649,
          20.628,
          26.524,
          24.908,
          19.794,
          26.349,
          18.714,
          23.13,
          22.553,
          22.522,
          26.643,
          20.074,
          26.72,
          20.743,
          25.468,
          26.142,
          22.933,
          22.684,
          25.415,
          20.859,
          19.948,
          26.209,
          24.942,
          21.2,
          23.023,
          19.888,
          21.884,
          20.875,
          22.379,
          26.223,
          28.789,
          25.844,
          22.409,
          26.441,
          19.655,
          29.53,
          21.169,
          21.124,
          22.791,
          28.184,
          24.273,
          23.229,
          21.058,
          20.613,
          19.341,
          19.733,
          25.388,
          23.012,
          21.144,
          22.207,
          24.927,
          20.251,
          23.239,
          19.983,
          19.245,
          19.314,
          24.963,
          19.5,
          21.051,
          20.114,
          20.75,
          24.825,
          21.875,
          20.765,
          22.842,
          22.616,
          26.475,
          25.842,
          28.426,
          22.718,
          23.907,
          19.942,
          27.689,
          21.129,
          21.187,
          25.043,
          21.15,
          20.443,
          25.286,
          20.314,
          20.47,
          22.982,
          22.731,
          20.519,
          26.185,
          21.128,
          19.951,
          19.809,
          19.9,
          22.749,
          21.567,
          22.624,
          25.388,
          21.057,
          25.216,
          19.723,
          22.257,
          27.81,
          26.048,
          21.948,
          23.513,
          21.42,
          22.208,
          19.347,
          25.798,
          19.417,
          19.539,
          19.381,
          19.802,
          19.443,
          21.28,
          19.789,
          25.375,
          25.762,
          19.322,
          23.093,
          25.892,
          25.485,
          23.122,
          19.828,
          22.925,
          25.769,
          25.409,
          21.949,
          23.153,
          19.896,
          21.827,
          21.327,
          21.983,
          21.518,
          25.25,
          21.802,
          26.209,
          21.563,
          23.359,
          20.723,
          25.261,
          19.642,
          22.696,
          21.058,
          22.349,
          21.913,
          19.772,
          20.935,
          19.41,
          25.61,
          22.905,
          23.014,
          20.94,
          22.24,
          20.005,
          20.331,
          24.741,
          19.623,
          18.774,
          19.033,
          21.862,
          20.991,
          21.276,
          22.284,
          26.167,
          19.644,
          18.712,
          18.805,
          23.173,
          25.937,
          20.64,
          25.753,
          19.308,
          28.583,
          18.909,
          20.691,
          20.325,
          19.304,
          25.985,
          24.038,
          26.063,
          26.208,
          21.087,
          20.939,
          19.623,
          20.976,
          24.278,
          28.675,
          29.079,
          19.64,
          20.674,
          22.391,
          25.406,
          24.499,
          22.398,
          26.033,
          25.896,
          20.371,
          20.296,
          22.341,
          22.587,
          21.968,
          22.406,
          23.796,
          25.915,
          23.498,
          20.773,
          22.939,
          20.107,
          25.759,
          25.59,
          22.298,
          21.779,
          26.32,
          19.329,
          28.278,
          21.164,
          21.337,
          20.385,
          19.525,
          26.069,
          19.348,
          22.443,
          20.719,
          21.69,
          19.598,
          23.048,
          19.666,
          22.911,
          27.614,
          19.356,
          21.221,
          24.575,
          19.336,
          22.008,
          22.453,
          23.171,
          19.328,
          21.104,
          22.785,
          20.139,
          24.944,
          22.622,
          19.829,
          27.975,
          23.944,
          24.573,
          21.299,
          20.16,
          20.357,
          21.824,
          20.935,
          25.98,
          28.311,
          19.889,
          23.194,
          26.04,
          22.363,
          20.514,
          22.523,
          23.513,
          18.932,
          21.225,
          25.546,
          25.85,
          19.756,
          27.749,
          22.63,
          19.159,
          23.117,
          23.121,
          22.404,
          20.726,
          23.181,
          21.587,
          22.215,
          21.593,
          20.253,
          26.265,
          20.621,
          22.512,
          19.7,
          21.084,
          20.21,
          22.677,
          21.107,
          19.23,
          24.119,
          26.177,
          26.214,
          20.131,
          19.898,
          22.632,
          24.832,
          19.955,
          23.491,
          22.514,
          23.636,
          22.037,
          23.624,
          20.642,
          20.841,
          24.875,
          21.378,
          22.213,
          23.615,
          24.902,
          22.336,
          21.39,
          25.544,
          22.599,
          24.402,
          21.877,
          22.102,
          19.517,
          26.334,
          20.59,
          20.081,
          20.592,
          20.336,
          22.607,
          23.001,
          20.58,
          19.276,
          19.888,
          20.315,
          19.371,
          25.817,
          22.961,
          27.938,
          22.398,
          20.856,
          28.625,
          22.078,
          20.823,
          20.815,
          22.897,
          23.281,
          22.347,
          26.03,
          19.089,
          22.372,
          21.687,
          19.63,
          22.444,
          20.486,
          28.754,
          21.55,
          21.531,
          27.056,
          19.565,
          25.728,
          22.696,
          25.918,
          19.084,
          23.369,
          20.992,
          22.299,
          19.517,
          26.005,
          26.258,
          21.041,
          21.445,
          21.117,
          25.969,
          21.87,
          25.422,
          20.43,
          19.221,
          22.931,
          20.371,
          25.895,
          25.831,
          20.286,
          23.836,
          25.553,
          25.7,
          21.557,
          21.114,
          23.532,
          19.591,
          20.474,
          22.077,
          19.943,
          23.159,
          20.466,
          26.044,
          25.614,
          25.372,
          21.22,
          21.031,
          24.898,
          26.442,
          23.192,
          23.257,
          21.537,
          24.395,
          25.649,
          25.515,
          19.831,
          22.371,
          23.311,
          23.279,
          22.667,
          21.294,
          20.413,
          20.821,
          22.053,
          19.174,
          21.502,
          23.053,
          23.333,
          25.561,
          23.306,
          23.63,
          25.261,
          19.878,
          19.844,
          21.742,
          20.009,
          20.464,
          22.735,
          20.516,
          22.138,
          24.829,
          19.46,
          19.296,
          19.523,
          22.59,
          19.402,
          23.347,
          20.956,
          21.151,
          20.441,
          20.879,
          18.728,
          19.625,
          19.93,
          20.021,
          23.782,
          25.87,
          26.221,
          22.048,
          20.634,
          27.742,
          23.436,
          25.823,
          25.014,
          21.172,
          26.333,
          25.506,
          23.232,
          27.927,
          21.265,
          19.09,
          19.67,
          20.198,
          21.452,
          26.105,
          25.953,
          18.979,
          21.539,
          20.825,
          25.344,
          25.143,
          19.12,
          26.164,
          20.66,
          26.118,
          22.831,
          25.586,
          20.957,
          19.691,
          20.82,
          21.659,
          25.976,
          19.771,
          19.703,
          19.818,
          22.597,
          20.408,
          22.75,
          19.639,
          22.326,
          22.729,
          18.793,
          21.625,
          23.29,
          21.952,
          20.814,
          23.428,
          19.377,
          25.882,
          25.54,
          22.211,
          19.577,
          22.537,
          20.605,
          23.146,
          20.109,
          21.03,
          21.894,
          19.723,
          25.693,
          19.632,
          19.888,
          21.476,
          25.627,
          19.825,
          25.599,
          19.507,
          26.193,
          20.884,
          23.832,
          25.798,
          23.333,
          25.085,
          24.529,
          22.534,
          25.985,
          22.857,
          22.111,
          20.283,
          23.275,
          20.744,
          21.798,
          20.915,
          19.739,
          26.973,
          27.154,
          25.911,
          25.668,
          26.334,
          21.268,
          25.147,
          28.302,
          20.237,
          25.469,
          26.044,
          27.885,
          23.554,
          25.728,
          20.452,
          25.852,
          20.921,
          28.313,
          22.671,
          18.768,
          24.996,
          20.381,
          20.988,
          19.747,
          19.447,
          19.903,
          21.65,
          21.015,
          21.969,
          25.414,
          22.046,
          25.92,
          19.18,
          22.065,
          22.355,
          21.348,
          20.741,
          22.614,
          21.231,
          22.733,
          19.442,
          19.886,
          23.364,
          20.371,
          26.469,
          29.114,
          22.018,
          20.87,
          19.656,
          20.468,
          22.06,
          19.458,
          21.845,
          22.777,
          19.858,
          20.242,
          21.585,
          23.365,
          22.168,
          26.21,
          21.621,
          19.714,
          22.029,
          26.185,
          26.535,
          18.703,
          19.94,
          22.437,
          20.811,
          20.05,
          20.706,
          19.492,
          19.379,
          22.569,
          19.238,
          22.288,
          19.722,
          25.672,
          22.605,
          20.877,
          25.745,
          20.684,
          22.746,
          23.455,
          19.131,
          20.819,
          22.562,
          20.079,
          29.328,
          23.233,
          25.59,
          19.917,
          23.027,
          20.191,
          23.507,
          22.727,
          24.976,
          20.378,
          21.199,
          26.393,
          21.807,
          25.795,
          20.57,
          22.801,
          21.116,
          28.085,
          19.884,
          20.514,
          21.546,
          19.941,
          23.12,
          22.587,
          26.122,
          26.582,
          19.685,
          19.367,
          25.797,
          23.041,
          19.568,
          20.809,
          20.079,
          25.727,
          21.753,
          22.963,
          22.434,
          26.914,
          20.649,
          23.21,
          25.016,
          22.719,
          21.887,
          26.46,
          26.513,
          24.719,
          21.911,
          25.316,
          27.259,
          28.395,
          18.221,
          21.415,
          22.339,
          26.686,
          19.262,
          26.574,
          22.775,
          19.124,
          22.553,
          20.708,
          26.365,
          25.129,
          26.021,
          19.577,
          23.182,
          19.465,
          22.79,
          24.661,
          20.171,
          19.776,
          27.527,
          20.22,
          22.592,
          20.368,
          21.115,
          22.388,
          22.689,
          20.194,
          22.176,
          26.479,
          18.909,
          19.475,
          21.009,
          20.463,
          20.66,
          20.102,
          19.615,
          24.514,
          26.335,
          25.549,
          23.02,
          27.104,
          22.472,
          20.123,
          23.154,
          22.347,
          23.761,
          21.879,
          28.423,
          19.404
         ],
         "xaxis": "x",
         "yaxis": "y"
        }
       ],
       "layout": {
        "barmode": "relative",
        "legend": {
         "title": {
          "text": "variable"
         },
         "tracegroupgap": 0
        },
        "margin": {
         "t": 60
        },
        "template": {
         "data": {
          "bar": [
           {
            "error_x": {
             "color": "#2a3f5f"
            },
            "error_y": {
             "color": "#2a3f5f"
            },
            "marker": {
             "line": {
              "color": "#E5ECF6",
              "width": 0.5
             },
             "pattern": {
              "fillmode": "overlay",
              "size": 10,
              "solidity": 0.2
             }
            },
            "type": "bar"
           }
          ],
          "barpolar": [
           {
            "marker": {
             "line": {
              "color": "#E5ECF6",
              "width": 0.5
             },
             "pattern": {
              "fillmode": "overlay",
              "size": 10,
              "solidity": 0.2
             }
            },
            "type": "barpolar"
           }
          ],
          "carpet": [
           {
            "aaxis": {
             "endlinecolor": "#2a3f5f",
             "gridcolor": "white",
             "linecolor": "white",
             "minorgridcolor": "white",
             "startlinecolor": "#2a3f5f"
            },
            "baxis": {
             "endlinecolor": "#2a3f5f",
             "gridcolor": "white",
             "linecolor": "white",
             "minorgridcolor": "white",
             "startlinecolor": "#2a3f5f"
            },
            "type": "carpet"
           }
          ],
          "choropleth": [
           {
            "colorbar": {
             "outlinewidth": 0,
             "ticks": ""
            },
            "type": "choropleth"
           }
          ],
          "contour": [
           {
            "colorbar": {
             "outlinewidth": 0,
             "ticks": ""
            },
            "colorscale": [
             [
              0,
              "#0d0887"
             ],
             [
              0.1111111111111111,
              "#46039f"
             ],
             [
              0.2222222222222222,
              "#7201a8"
             ],
             [
              0.3333333333333333,
              "#9c179e"
             ],
             [
              0.4444444444444444,
              "#bd3786"
             ],
             [
              0.5555555555555556,
              "#d8576b"
             ],
             [
              0.6666666666666666,
              "#ed7953"
             ],
             [
              0.7777777777777778,
              "#fb9f3a"
             ],
             [
              0.8888888888888888,
              "#fdca26"
             ],
             [
              1,
              "#f0f921"
             ]
            ],
            "type": "contour"
           }
          ],
          "contourcarpet": [
           {
            "colorbar": {
             "outlinewidth": 0,
             "ticks": ""
            },
            "type": "contourcarpet"
           }
          ],
          "heatmap": [
           {
            "colorbar": {
             "outlinewidth": 0,
             "ticks": ""
            },
            "colorscale": [
             [
              0,
              "#0d0887"
             ],
             [
              0.1111111111111111,
              "#46039f"
             ],
             [
              0.2222222222222222,
              "#7201a8"
             ],
             [
              0.3333333333333333,
              "#9c179e"
             ],
             [
              0.4444444444444444,
              "#bd3786"
             ],
             [
              0.5555555555555556,
              "#d8576b"
             ],
             [
              0.6666666666666666,
              "#ed7953"
             ],
             [
              0.7777777777777778,
              "#fb9f3a"
             ],
             [
              0.8888888888888888,
              "#fdca26"
             ],
             [
              1,
              "#f0f921"
             ]
            ],
            "type": "heatmap"
           }
          ],
          "heatmapgl": [
           {
            "colorbar": {
             "outlinewidth": 0,
             "ticks": ""
            },
            "colorscale": [
             [
              0,
              "#0d0887"
             ],
             [
              0.1111111111111111,
              "#46039f"
             ],
             [
              0.2222222222222222,
              "#7201a8"
             ],
             [
              0.3333333333333333,
              "#9c179e"
             ],
             [
              0.4444444444444444,
              "#bd3786"
             ],
             [
              0.5555555555555556,
              "#d8576b"
             ],
             [
              0.6666666666666666,
              "#ed7953"
             ],
             [
              0.7777777777777778,
              "#fb9f3a"
             ],
             [
              0.8888888888888888,
              "#fdca26"
             ],
             [
              1,
              "#f0f921"
             ]
            ],
            "type": "heatmapgl"
           }
          ],
          "histogram": [
           {
            "marker": {
             "pattern": {
              "fillmode": "overlay",
              "size": 10,
              "solidity": 0.2
             }
            },
            "type": "histogram"
           }
          ],
          "histogram2d": [
           {
            "colorbar": {
             "outlinewidth": 0,
             "ticks": ""
            },
            "colorscale": [
             [
              0,
              "#0d0887"
             ],
             [
              0.1111111111111111,
              "#46039f"
             ],
             [
              0.2222222222222222,
              "#7201a8"
             ],
             [
              0.3333333333333333,
              "#9c179e"
             ],
             [
              0.4444444444444444,
              "#bd3786"
             ],
             [
              0.5555555555555556,
              "#d8576b"
             ],
             [
              0.6666666666666666,
              "#ed7953"
             ],
             [
              0.7777777777777778,
              "#fb9f3a"
             ],
             [
              0.8888888888888888,
              "#fdca26"
             ],
             [
              1,
              "#f0f921"
             ]
            ],
            "type": "histogram2d"
           }
          ],
          "histogram2dcontour": [
           {
            "colorbar": {
             "outlinewidth": 0,
             "ticks": ""
            },
            "colorscale": [
             [
              0,
              "#0d0887"
             ],
             [
              0.1111111111111111,
              "#46039f"
             ],
             [
              0.2222222222222222,
              "#7201a8"
             ],
             [
              0.3333333333333333,
              "#9c179e"
             ],
             [
              0.4444444444444444,
              "#bd3786"
             ],
             [
              0.5555555555555556,
              "#d8576b"
             ],
             [
              0.6666666666666666,
              "#ed7953"
             ],
             [
              0.7777777777777778,
              "#fb9f3a"
             ],
             [
              0.8888888888888888,
              "#fdca26"
             ],
             [
              1,
              "#f0f921"
             ]
            ],
            "type": "histogram2dcontour"
           }
          ],
          "mesh3d": [
           {
            "colorbar": {
             "outlinewidth": 0,
             "ticks": ""
            },
            "type": "mesh3d"
           }
          ],
          "parcoords": [
           {
            "line": {
             "colorbar": {
              "outlinewidth": 0,
              "ticks": ""
             }
            },
            "type": "parcoords"
           }
          ],
          "pie": [
           {
            "automargin": true,
            "type": "pie"
           }
          ],
          "scatter": [
           {
            "fillpattern": {
             "fillmode": "overlay",
             "size": 10,
             "solidity": 0.2
            },
            "type": "scatter"
           }
          ],
          "scatter3d": [
           {
            "line": {
             "colorbar": {
              "outlinewidth": 0,
              "ticks": ""
             }
            },
            "marker": {
             "colorbar": {
              "outlinewidth": 0,
              "ticks": ""
             }
            },
            "type": "scatter3d"
           }
          ],
          "scattercarpet": [
           {
            "marker": {
             "colorbar": {
              "outlinewidth": 0,
              "ticks": ""
             }
            },
            "type": "scattercarpet"
           }
          ],
          "scattergeo": [
           {
            "marker": {
             "colorbar": {
              "outlinewidth": 0,
              "ticks": ""
             }
            },
            "type": "scattergeo"
           }
          ],
          "scattergl": [
           {
            "marker": {
             "colorbar": {
              "outlinewidth": 0,
              "ticks": ""
             }
            },
            "type": "scattergl"
           }
          ],
          "scattermapbox": [
           {
            "marker": {
             "colorbar": {
              "outlinewidth": 0,
              "ticks": ""
             }
            },
            "type": "scattermapbox"
           }
          ],
          "scatterpolar": [
           {
            "marker": {
             "colorbar": {
              "outlinewidth": 0,
              "ticks": ""
             }
            },
            "type": "scatterpolar"
           }
          ],
          "scatterpolargl": [
           {
            "marker": {
             "colorbar": {
              "outlinewidth": 0,
              "ticks": ""
             }
            },
            "type": "scatterpolargl"
           }
          ],
          "scatterternary": [
           {
            "marker": {
             "colorbar": {
              "outlinewidth": 0,
              "ticks": ""
             }
            },
            "type": "scatterternary"
           }
          ],
          "surface": [
           {
            "colorbar": {
             "outlinewidth": 0,
             "ticks": ""
            },
            "colorscale": [
             [
              0,
              "#0d0887"
             ],
             [
              0.1111111111111111,
              "#46039f"
             ],
             [
              0.2222222222222222,
              "#7201a8"
             ],
             [
              0.3333333333333333,
              "#9c179e"
             ],
             [
              0.4444444444444444,
              "#bd3786"
             ],
             [
              0.5555555555555556,
              "#d8576b"
             ],
             [
              0.6666666666666666,
              "#ed7953"
             ],
             [
              0.7777777777777778,
              "#fb9f3a"
             ],
             [
              0.8888888888888888,
              "#fdca26"
             ],
             [
              1,
              "#f0f921"
             ]
            ],
            "type": "surface"
           }
          ],
          "table": [
           {
            "cells": {
             "fill": {
              "color": "#EBF0F8"
             },
             "line": {
              "color": "white"
             }
            },
            "header": {
             "fill": {
              "color": "#C8D4E3"
             },
             "line": {
              "color": "white"
             }
            },
            "type": "table"
           }
          ]
         },
         "layout": {
          "annotationdefaults": {
           "arrowcolor": "#2a3f5f",
           "arrowhead": 0,
           "arrowwidth": 1
          },
          "autotypenumbers": "strict",
          "coloraxis": {
           "colorbar": {
            "outlinewidth": 0,
            "ticks": ""
           }
          },
          "colorscale": {
           "diverging": [
            [
             0,
             "#8e0152"
            ],
            [
             0.1,
             "#c51b7d"
            ],
            [
             0.2,
             "#de77ae"
            ],
            [
             0.3,
             "#f1b6da"
            ],
            [
             0.4,
             "#fde0ef"
            ],
            [
             0.5,
             "#f7f7f7"
            ],
            [
             0.6,
             "#e6f5d0"
            ],
            [
             0.7,
             "#b8e186"
            ],
            [
             0.8,
             "#7fbc41"
            ],
            [
             0.9,
             "#4d9221"
            ],
            [
             1,
             "#276419"
            ]
           ],
           "sequential": [
            [
             0,
             "#0d0887"
            ],
            [
             0.1111111111111111,
             "#46039f"
            ],
            [
             0.2222222222222222,
             "#7201a8"
            ],
            [
             0.3333333333333333,
             "#9c179e"
            ],
            [
             0.4444444444444444,
             "#bd3786"
            ],
            [
             0.5555555555555556,
             "#d8576b"
            ],
            [
             0.6666666666666666,
             "#ed7953"
            ],
            [
             0.7777777777777778,
             "#fb9f3a"
            ],
            [
             0.8888888888888888,
             "#fdca26"
            ],
            [
             1,
             "#f0f921"
            ]
           ],
           "sequentialminus": [
            [
             0,
             "#0d0887"
            ],
            [
             0.1111111111111111,
             "#46039f"
            ],
            [
             0.2222222222222222,
             "#7201a8"
            ],
            [
             0.3333333333333333,
             "#9c179e"
            ],
            [
             0.4444444444444444,
             "#bd3786"
            ],
            [
             0.5555555555555556,
             "#d8576b"
            ],
            [
             0.6666666666666666,
             "#ed7953"
            ],
            [
             0.7777777777777778,
             "#fb9f3a"
            ],
            [
             0.8888888888888888,
             "#fdca26"
            ],
            [
             1,
             "#f0f921"
            ]
           ]
          },
          "colorway": [
           "#636efa",
           "#EF553B",
           "#00cc96",
           "#ab63fa",
           "#FFA15A",
           "#19d3f3",
           "#FF6692",
           "#B6E880",
           "#FF97FF",
           "#FECB52"
          ],
          "font": {
           "color": "#2a3f5f"
          },
          "geo": {
           "bgcolor": "white",
           "lakecolor": "white",
           "landcolor": "#E5ECF6",
           "showlakes": true,
           "showland": true,
           "subunitcolor": "white"
          },
          "hoverlabel": {
           "align": "left"
          },
          "hovermode": "closest",
          "mapbox": {
           "style": "light"
          },
          "paper_bgcolor": "white",
          "plot_bgcolor": "#E5ECF6",
          "polar": {
           "angularaxis": {
            "gridcolor": "white",
            "linecolor": "white",
            "ticks": ""
           },
           "bgcolor": "#E5ECF6",
           "radialaxis": {
            "gridcolor": "white",
            "linecolor": "white",
            "ticks": ""
           }
          },
          "scene": {
           "xaxis": {
            "backgroundcolor": "#E5ECF6",
            "gridcolor": "white",
            "gridwidth": 2,
            "linecolor": "white",
            "showbackground": true,
            "ticks": "",
            "zerolinecolor": "white"
           },
           "yaxis": {
            "backgroundcolor": "#E5ECF6",
            "gridcolor": "white",
            "gridwidth": 2,
            "linecolor": "white",
            "showbackground": true,
            "ticks": "",
            "zerolinecolor": "white"
           },
           "zaxis": {
            "backgroundcolor": "#E5ECF6",
            "gridcolor": "white",
            "gridwidth": 2,
            "linecolor": "white",
            "showbackground": true,
            "ticks": "",
            "zerolinecolor": "white"
           }
          },
          "shapedefaults": {
           "line": {
            "color": "#2a3f5f"
           }
          },
          "ternary": {
           "aaxis": {
            "gridcolor": "white",
            "linecolor": "white",
            "ticks": ""
           },
           "baxis": {
            "gridcolor": "white",
            "linecolor": "white",
            "ticks": ""
           },
           "bgcolor": "#E5ECF6",
           "caxis": {
            "gridcolor": "white",
            "linecolor": "white",
            "ticks": ""
           }
          },
          "title": {
           "x": 0.05
          },
          "xaxis": {
           "automargin": true,
           "gridcolor": "white",
           "linecolor": "white",
           "ticks": "",
           "title": {
            "standoff": 15
           },
           "zerolinecolor": "white",
           "zerolinewidth": 2
          },
          "yaxis": {
           "automargin": true,
           "gridcolor": "white",
           "linecolor": "white",
           "ticks": "",
           "title": {
            "standoff": 15
           },
           "zerolinecolor": "white",
           "zerolinewidth": 2
          }
         }
        },
        "xaxis": {
         "anchor": "y",
         "domain": [
          0,
          1
         ],
         "title": {
          "text": "value"
         }
        },
        "yaxis": {
         "anchor": "x",
         "domain": [
          0,
          1
         ],
         "title": {
          "text": "count"
         }
        }
       }
      }
     },
     "metadata": {},
     "output_type": "display_data"
    }
   ],
   "source": [
    "import pandas as pd\n",
    "\n",
    "df = pd.read_csv(\"data/machine_data.csv\", delimiter=\";\", decimal=\",\")\n",
    "df[\"Strom / A\"].plot(kind=\"hist\", bins=100)"
   ]
  },
  {
   "cell_type": "markdown",
   "id": "14e91bc7",
   "metadata": {},
   "source": [
    "Zuletzt wollen wir uns noch anschauen, wie wir relative anstatt absolute Häufigkeiten angeben können. Nutzen Sie hierfür das ```histnorm```-Argument und setzen es auf ```\"probability\"```:"
   ]
  },
  {
   "cell_type": "code",
   "execution_count": 11,
   "id": "e043711f",
   "metadata": {},
   "outputs": [],
   "source": [
    "import pandas as pd\n",
    "import plotly.express as px\n",
    "\n",
    "df = pd.read_csv(\"data/machine_data.csv\", delimiter=\";\", decimal=\",\")\n",
    "fig = px.histogram(df, x=\"Strom / A\", histnorm=\"probability\")"
   ]
  },
  {
   "cell_type": "markdown",
   "id": "10fb24fe",
   "metadata": {},
   "source": [
    "Natürlich ergibt es noch Sinn, die anderen Merkmale zu visualisieren. Da Ihnen die Funktionsaufrufe hierfür aber nun bekannt sein sollten, möchten wir an dieser Stelle darauf verzichten. Stattdessen wollen wir unsere Häufigkeitsverteilungen in einigen Kenngrößen zusammenzufassen. Dafür nutzen wir pandas' ```describe()```-Funktion und setzen ```include``` auf ```\"all\"```:"
   ]
  },
  {
   "cell_type": "code",
   "execution_count": 12,
   "id": "ae3ffcab",
   "metadata": {},
   "outputs": [
    {
     "data": {
      "text/html": [
       "<div>\n",
       "<style scoped>\n",
       "    .dataframe tbody tr th:only-of-type {\n",
       "        vertical-align: middle;\n",
       "    }\n",
       "\n",
       "    .dataframe tbody tr th {\n",
       "        vertical-align: top;\n",
       "    }\n",
       "\n",
       "    .dataframe thead th {\n",
       "        text-align: right;\n",
       "    }\n",
       "</style>\n",
       "<table border=\"1\" class=\"dataframe\">\n",
       "  <thead>\n",
       "    <tr style=\"text-align: right;\">\n",
       "      <th></th>\n",
       "      <th>Maschine</th>\n",
       "      <th>Mode</th>\n",
       "      <th>Produkt</th>\n",
       "      <th>Strom / A</th>\n",
       "      <th>Drehmoment / Nm</th>\n",
       "      <th>Drehzahl / 1/min</th>\n",
       "      <th>Temp Umgebung / degC</th>\n",
       "      <th>Temp Umrichter / degC</th>\n",
       "      <th>Temp Werkzeug / degC</th>\n",
       "      <th>Bearbeitungszeit / s</th>\n",
       "    </tr>\n",
       "  </thead>\n",
       "  <tbody>\n",
       "    <tr>\n",
       "      <th>count</th>\n",
       "      <td>1000</td>\n",
       "      <td>999.000000</td>\n",
       "      <td>1000</td>\n",
       "      <td>999.000000</td>\n",
       "      <td>1000.000000</td>\n",
       "      <td>1000.000000</td>\n",
       "      <td>1000.000000</td>\n",
       "      <td>1000.000000</td>\n",
       "      <td>1000.000000</td>\n",
       "      <td>1000.000000</td>\n",
       "    </tr>\n",
       "    <tr>\n",
       "      <th>unique</th>\n",
       "      <td>3</td>\n",
       "      <td>NaN</td>\n",
       "      <td>3</td>\n",
       "      <td>NaN</td>\n",
       "      <td>NaN</td>\n",
       "      <td>NaN</td>\n",
       "      <td>NaN</td>\n",
       "      <td>NaN</td>\n",
       "      <td>NaN</td>\n",
       "      <td>NaN</td>\n",
       "    </tr>\n",
       "    <tr>\n",
       "      <th>top</th>\n",
       "      <td>C</td>\n",
       "      <td>NaN</td>\n",
       "      <td>Y</td>\n",
       "      <td>NaN</td>\n",
       "      <td>NaN</td>\n",
       "      <td>NaN</td>\n",
       "      <td>NaN</td>\n",
       "      <td>NaN</td>\n",
       "      <td>NaN</td>\n",
       "      <td>NaN</td>\n",
       "    </tr>\n",
       "    <tr>\n",
       "      <th>freq</th>\n",
       "      <td>416</td>\n",
       "      <td>NaN</td>\n",
       "      <td>541</td>\n",
       "      <td>NaN</td>\n",
       "      <td>NaN</td>\n",
       "      <td>NaN</td>\n",
       "      <td>NaN</td>\n",
       "      <td>NaN</td>\n",
       "      <td>NaN</td>\n",
       "      <td>NaN</td>\n",
       "    </tr>\n",
       "    <tr>\n",
       "      <th>mean</th>\n",
       "      <td>NaN</td>\n",
       "      <td>1.916917</td>\n",
       "      <td>NaN</td>\n",
       "      <td>22.501915</td>\n",
       "      <td>48.555380</td>\n",
       "      <td>1460.945000</td>\n",
       "      <td>20.984700</td>\n",
       "      <td>23.750500</td>\n",
       "      <td>95.196400</td>\n",
       "      <td>23.008900</td>\n",
       "    </tr>\n",
       "    <tr>\n",
       "      <th>std</th>\n",
       "      <td>NaN</td>\n",
       "      <td>0.689242</td>\n",
       "      <td>NaN</td>\n",
       "      <td>2.520593</td>\n",
       "      <td>3.692908</td>\n",
       "      <td>1.916154</td>\n",
       "      <td>1.374695</td>\n",
       "      <td>1.040876</td>\n",
       "      <td>5.688506</td>\n",
       "      <td>1.970897</td>\n",
       "    </tr>\n",
       "    <tr>\n",
       "      <th>min</th>\n",
       "      <td>NaN</td>\n",
       "      <td>1.000000</td>\n",
       "      <td>NaN</td>\n",
       "      <td>18.221000</td>\n",
       "      <td>41.430000</td>\n",
       "      <td>1456.000000</td>\n",
       "      <td>17.300000</td>\n",
       "      <td>20.300000</td>\n",
       "      <td>82.900000</td>\n",
       "      <td>19.900000</td>\n",
       "    </tr>\n",
       "    <tr>\n",
       "      <th>25%</th>\n",
       "      <td>NaN</td>\n",
       "      <td>1.000000</td>\n",
       "      <td>NaN</td>\n",
       "      <td>20.435500</td>\n",
       "      <td>45.527500</td>\n",
       "      <td>1460.000000</td>\n",
       "      <td>20.100000</td>\n",
       "      <td>23.075000</td>\n",
       "      <td>90.600000</td>\n",
       "      <td>21.400000</td>\n",
       "    </tr>\n",
       "    <tr>\n",
       "      <th>50%</th>\n",
       "      <td>NaN</td>\n",
       "      <td>2.000000</td>\n",
       "      <td>NaN</td>\n",
       "      <td>22.102000</td>\n",
       "      <td>47.515000</td>\n",
       "      <td>1461.000000</td>\n",
       "      <td>21.000000</td>\n",
       "      <td>23.700000</td>\n",
       "      <td>94.000000</td>\n",
       "      <td>22.400000</td>\n",
       "    </tr>\n",
       "    <tr>\n",
       "      <th>75%</th>\n",
       "      <td>NaN</td>\n",
       "      <td>2.000000</td>\n",
       "      <td>NaN</td>\n",
       "      <td>24.668000</td>\n",
       "      <td>51.602500</td>\n",
       "      <td>1462.000000</td>\n",
       "      <td>21.900000</td>\n",
       "      <td>24.400000</td>\n",
       "      <td>99.800000</td>\n",
       "      <td>25.300000</td>\n",
       "    </tr>\n",
       "    <tr>\n",
       "      <th>max</th>\n",
       "      <td>NaN</td>\n",
       "      <td>3.000000</td>\n",
       "      <td>NaN</td>\n",
       "      <td>29.530000</td>\n",
       "      <td>60.110000</td>\n",
       "      <td>1467.000000</td>\n",
       "      <td>26.000000</td>\n",
       "      <td>27.400000</td>\n",
       "      <td>113.100000</td>\n",
       "      <td>25.300000</td>\n",
       "    </tr>\n",
       "  </tbody>\n",
       "</table>\n",
       "</div>"
      ],
      "text/plain": [
       "       Maschine        Mode Produkt   Strom / A  Drehmoment / Nm  \\\n",
       "count      1000  999.000000    1000  999.000000      1000.000000   \n",
       "unique        3         NaN       3         NaN              NaN   \n",
       "top           C         NaN       Y         NaN              NaN   \n",
       "freq        416         NaN     541         NaN              NaN   \n",
       "mean        NaN    1.916917     NaN   22.501915        48.555380   \n",
       "std         NaN    0.689242     NaN    2.520593         3.692908   \n",
       "min         NaN    1.000000     NaN   18.221000        41.430000   \n",
       "25%         NaN    1.000000     NaN   20.435500        45.527500   \n",
       "50%         NaN    2.000000     NaN   22.102000        47.515000   \n",
       "75%         NaN    2.000000     NaN   24.668000        51.602500   \n",
       "max         NaN    3.000000     NaN   29.530000        60.110000   \n",
       "\n",
       "        Drehzahl / 1/min  Temp Umgebung / degC  Temp Umrichter / degC  \\\n",
       "count        1000.000000           1000.000000            1000.000000   \n",
       "unique               NaN                   NaN                    NaN   \n",
       "top                  NaN                   NaN                    NaN   \n",
       "freq                 NaN                   NaN                    NaN   \n",
       "mean         1460.945000             20.984700              23.750500   \n",
       "std             1.916154              1.374695               1.040876   \n",
       "min          1456.000000             17.300000              20.300000   \n",
       "25%          1460.000000             20.100000              23.075000   \n",
       "50%          1461.000000             21.000000              23.700000   \n",
       "75%          1462.000000             21.900000              24.400000   \n",
       "max          1467.000000             26.000000              27.400000   \n",
       "\n",
       "        Temp Werkzeug / degC  Bearbeitungszeit / s  \n",
       "count            1000.000000           1000.000000  \n",
       "unique                   NaN                   NaN  \n",
       "top                      NaN                   NaN  \n",
       "freq                     NaN                   NaN  \n",
       "mean               95.196400             23.008900  \n",
       "std                 5.688506              1.970897  \n",
       "min                82.900000             19.900000  \n",
       "25%                90.600000             21.400000  \n",
       "50%                94.000000             22.400000  \n",
       "75%                99.800000             25.300000  \n",
       "max               113.100000             25.300000  "
      ]
     },
     "execution_count": 12,
     "metadata": {},
     "output_type": "execute_result"
    }
   ],
   "source": [
    "import pandas as pd\n",
    "import plotly.express as px\n",
    "df = pd.read_csv(\"data/machine_data.csv\", delimiter=\";\", decimal=\",\")\n",
    "df.describe(include=\"all\")"
   ]
  },
  {
   "cell_type": "markdown",
   "id": "bfa834d6",
   "metadata": {},
   "source": [
    "Durch diesen Funktionsaufruf werden eine ganze Menge Kenngrößen ausgegeben. Unter ```count``` wird die Anzahl von nicht-fehlenden Werten angegeben (also von Werten, die nicht \"not a number\" bzw. ```NaN``` sind), unter ```unique``` wird die Anzahl der Kategorien bei nominalen und ordinalen Daten angegeben, unter ```top``` der Modus und unter ```freq``` die Häufigkeit des Modus. Während uns ```count``` einen Aufschluss über die Datenqualität gibt, liefern uns ```unique```, ```top``` und ```freq``` eigentlich keine zusätzliche Information im Vergleich zu unserer interaktiven Visualisierung. Interessanter ist die Angabe des arithmetischen Mittels ```mean```, der Standardabweichung ```std```, des Minimums ```min```, des unteren Quartils ```25%```, des mittleres Quartils bzw. Medians ```50%```, des oberen Quartils ```75%``` sowie des Maximums ```max```. Weitere Streuungsmaße wie die Varianz, die Spannweite oder der Interquartilsabstand können bei Bedarf aus diesen Kenngrößen einfach berechnet werden. Sie erinnern sich, dass jedes dieser Lage- und Streuungsmaße bestimmte Vor- und Nachteile aufweist. Eine allgemeine Empfehlung, welches Maß zu bevorzugen ist, kann man daher nicht abgeben."
   ]
  },
  {
   "cell_type": "markdown",
   "id": "b76a53a5",
   "metadata": {},
   "source": [
    "Wählen Sie nun ein metrisches Merkmal aus, bei dem es einen Unterschied ≥ 1 zwischen dem arithmetischen Mittel und dem Median gibt. Überlegen Sie sich, was Gründe für den Unterschied sein könnten. Überprüfen Sie Ihre Vermutungen dann durch eine passende Visualisierung!"
   ]
  },
  {
   "cell_type": "code",
   "execution_count": 13,
   "id": "28dbe3d9",
   "metadata": {},
   "outputs": [
    {
     "data": {
      "application/vnd.plotly.v1+json": {
       "config": {
        "plotlyServerURL": "https://plot.ly"
       },
       "data": [
        {
         "alignmentgroup": "True",
         "bingroup": "x",
         "histnorm": "probability",
         "hovertemplate": "Strom / A=%{x}<br>probability=%{y}<extra></extra>",
         "legendgroup": "",
         "marker": {
          "color": "#636efa",
          "pattern": {
           "shape": ""
          }
         },
         "name": "",
         "offsetgroup": "",
         "orientation": "v",
         "showlegend": false,
         "type": "histogram",
         "x": [
          22.782,
          19.793,
          25.581,
          28.145,
          25.544,
          21.426,
          22.786,
          23.021,
          22.255,
          26.195,
          19.847,
          20.524,
          26.221,
          26.272,
          21.45,
          22.419,
          25.2,
          19.752,
          19.385,
          25.683,
          19.59,
          20.919,
          20.541,
          21.357,
          25.944,
          27.73,
          25.289,
          21.289,
          26.049,
          20.681,
          20.909,
          21.812,
          22.118,
          21.245,
          20.972,
          21.212,
          26.164,
          23.126,
          20.814,
          27.926,
          23.695,
          22.58,
          21.269,
          20.489,
          20.77,
          25.079,
          19.198,
          20.451,
          22.842,
          20.208,
          20.413,
          23.376,
          21.654,
          19.155,
          19.555,
          20.399,
          26.312,
          20.338,
          26.872,
          22.52,
          26.699,
          27.957,
          22.55,
          25.038,
          23.559,
          26.521,
          21.219,
          21.84,
          20.936,
          24.66,
          22.859,
          26.452,
          20.844,
          19.955,
          20.208,
          21.128,
          22.776,
          21.506,
          26.097,
          19,
          25.953,
          23.025,
          22.55,
          24.787,
          19.902,
          19.887,
          19.791,
          23.058,
          19.451,
          25.821,
          19.633,
          21.047,
          22.349,
          22.459,
          21.479,
          19.283,
          22.562,
          27.201,
          19.535,
          22.463,
          21.174,
          26.36,
          18.903,
          20.646,
          22.334,
          19.52,
          25.99,
          22.244,
          19.723,
          22.843,
          20.774,
          24.695,
          20.322,
          19.401,
          23.201,
          22.778,
          25.135,
          19.485,
          20.398,
          20.238,
          23.323,
          26.33,
          22.601,
          19.774,
          25.698,
          20.543,
          22.38,
          27.2,
          22.961,
          21.879,
          21.797,
          22.218,
          25.872,
          21.132,
          23.342,
          22.012,
          22.751,
          26.394,
          24.697,
          29.129,
          20.456,
          25.527,
          20.556,
          25.749,
          19.651,
          19.098,
          23.311,
          22.611,
          20.405,
          19.657,
          22.745,
          22.156,
          21.41,
          20.322,
          28.187,
          25.478,
          19.797,
          21.051,
          21.918,
          20.008,
          28.717,
          26.214,
          20.125,
          21.365,
          22.465,
          22.875,
          21.883,
          28.946,
          20.319,
          25.292,
          25.219,
          27.651,
          25.968,
          24.675,
          18.86,
          20.178,
          21.483,
          21.045,
          21.146,
          25.514,
          20.365,
          19.712,
          23.544,
          23.244,
          21.367,
          19.354,
          18.835,
          23.381,
          22.385,
          20.13,
          22.832,
          20.444,
          24.327,
          26.639,
          25.184,
          25.352,
          20.791,
          20.994,
          21.243,
          20.232,
          21.494,
          20.414,
          19.614,
          26.343,
          19.283,
          19.731,
          21.383,
          22.407,
          26.714,
          21.431,
          25.472,
          19.523,
          21.973,
          26.166,
          26.219,
          21.112,
          23.544,
          23.652,
          23.626,
          25.455,
          21.031,
          23.06,
          22.332,
          22.242,
          19.27,
          19.608,
          25.003,
          20.531,
          20.532,
          19.957,
          19.65,
          19.626,
          21.099,
          20.674,
          26.094,
          23.401,
          19.139,
          20.768,
          25.989,
          28.324,
          24.365,
          23.144,
          19.843,
          19.95,
          22.33,
          19.574,
          23.128,
          21.02,
          22.511,
          19.457,
          21.948,
          20.483,
          18.868,
          20.799,
          20.921,
          21.182,
          22.817,
          22.06,
          25.066,
          19.856,
          22.713,
          21.031,
          22.734,
          24.723,
          25.54,
          null,
          22.443,
          22.946,
          19.28,
          20.087,
          19.613,
          22.892,
          22.699,
          18.889,
          22.125,
          21.269,
          21.483,
          20.462,
          19.853,
          21.377,
          20.462,
          19.587,
          20.394,
          22.778,
          27.671,
          22.133,
          22.117,
          19.319,
          25.649,
          20.628,
          26.524,
          24.908,
          19.794,
          26.349,
          18.714,
          23.13,
          22.553,
          22.522,
          26.643,
          20.074,
          26.72,
          20.743,
          25.468,
          26.142,
          22.933,
          22.684,
          25.415,
          20.859,
          19.948,
          26.209,
          24.942,
          21.2,
          23.023,
          19.888,
          21.884,
          20.875,
          22.379,
          26.223,
          28.789,
          25.844,
          22.409,
          26.441,
          19.655,
          29.53,
          21.169,
          21.124,
          22.791,
          28.184,
          24.273,
          23.229,
          21.058,
          20.613,
          19.341,
          19.733,
          25.388,
          23.012,
          21.144,
          22.207,
          24.927,
          20.251,
          23.239,
          19.983,
          19.245,
          19.314,
          24.963,
          19.5,
          21.051,
          20.114,
          20.75,
          24.825,
          21.875,
          20.765,
          22.842,
          22.616,
          26.475,
          25.842,
          28.426,
          22.718,
          23.907,
          19.942,
          27.689,
          21.129,
          21.187,
          25.043,
          21.15,
          20.443,
          25.286,
          20.314,
          20.47,
          22.982,
          22.731,
          20.519,
          26.185,
          21.128,
          19.951,
          19.809,
          19.9,
          22.749,
          21.567,
          22.624,
          25.388,
          21.057,
          25.216,
          19.723,
          22.257,
          27.81,
          26.048,
          21.948,
          23.513,
          21.42,
          22.208,
          19.347,
          25.798,
          19.417,
          19.539,
          19.381,
          19.802,
          19.443,
          21.28,
          19.789,
          25.375,
          25.762,
          19.322,
          23.093,
          25.892,
          25.485,
          23.122,
          19.828,
          22.925,
          25.769,
          25.409,
          21.949,
          23.153,
          19.896,
          21.827,
          21.327,
          21.983,
          21.518,
          25.25,
          21.802,
          26.209,
          21.563,
          23.359,
          20.723,
          25.261,
          19.642,
          22.696,
          21.058,
          22.349,
          21.913,
          19.772,
          20.935,
          19.41,
          25.61,
          22.905,
          23.014,
          20.94,
          22.24,
          20.005,
          20.331,
          24.741,
          19.623,
          18.774,
          19.033,
          21.862,
          20.991,
          21.276,
          22.284,
          26.167,
          19.644,
          18.712,
          18.805,
          23.173,
          25.937,
          20.64,
          25.753,
          19.308,
          28.583,
          18.909,
          20.691,
          20.325,
          19.304,
          25.985,
          24.038,
          26.063,
          26.208,
          21.087,
          20.939,
          19.623,
          20.976,
          24.278,
          28.675,
          29.079,
          19.64,
          20.674,
          22.391,
          25.406,
          24.499,
          22.398,
          26.033,
          25.896,
          20.371,
          20.296,
          22.341,
          22.587,
          21.968,
          22.406,
          23.796,
          25.915,
          23.498,
          20.773,
          22.939,
          20.107,
          25.759,
          25.59,
          22.298,
          21.779,
          26.32,
          19.329,
          28.278,
          21.164,
          21.337,
          20.385,
          19.525,
          26.069,
          19.348,
          22.443,
          20.719,
          21.69,
          19.598,
          23.048,
          19.666,
          22.911,
          27.614,
          19.356,
          21.221,
          24.575,
          19.336,
          22.008,
          22.453,
          23.171,
          19.328,
          21.104,
          22.785,
          20.139,
          24.944,
          22.622,
          19.829,
          27.975,
          23.944,
          24.573,
          21.299,
          20.16,
          20.357,
          21.824,
          20.935,
          25.98,
          28.311,
          19.889,
          23.194,
          26.04,
          22.363,
          20.514,
          22.523,
          23.513,
          18.932,
          21.225,
          25.546,
          25.85,
          19.756,
          27.749,
          22.63,
          19.159,
          23.117,
          23.121,
          22.404,
          20.726,
          23.181,
          21.587,
          22.215,
          21.593,
          20.253,
          26.265,
          20.621,
          22.512,
          19.7,
          21.084,
          20.21,
          22.677,
          21.107,
          19.23,
          24.119,
          26.177,
          26.214,
          20.131,
          19.898,
          22.632,
          24.832,
          19.955,
          23.491,
          22.514,
          23.636,
          22.037,
          23.624,
          20.642,
          20.841,
          24.875,
          21.378,
          22.213,
          23.615,
          24.902,
          22.336,
          21.39,
          25.544,
          22.599,
          24.402,
          21.877,
          22.102,
          19.517,
          26.334,
          20.59,
          20.081,
          20.592,
          20.336,
          22.607,
          23.001,
          20.58,
          19.276,
          19.888,
          20.315,
          19.371,
          25.817,
          22.961,
          27.938,
          22.398,
          20.856,
          28.625,
          22.078,
          20.823,
          20.815,
          22.897,
          23.281,
          22.347,
          26.03,
          19.089,
          22.372,
          21.687,
          19.63,
          22.444,
          20.486,
          28.754,
          21.55,
          21.531,
          27.056,
          19.565,
          25.728,
          22.696,
          25.918,
          19.084,
          23.369,
          20.992,
          22.299,
          19.517,
          26.005,
          26.258,
          21.041,
          21.445,
          21.117,
          25.969,
          21.87,
          25.422,
          20.43,
          19.221,
          22.931,
          20.371,
          25.895,
          25.831,
          20.286,
          23.836,
          25.553,
          25.7,
          21.557,
          21.114,
          23.532,
          19.591,
          20.474,
          22.077,
          19.943,
          23.159,
          20.466,
          26.044,
          25.614,
          25.372,
          21.22,
          21.031,
          24.898,
          26.442,
          23.192,
          23.257,
          21.537,
          24.395,
          25.649,
          25.515,
          19.831,
          22.371,
          23.311,
          23.279,
          22.667,
          21.294,
          20.413,
          20.821,
          22.053,
          19.174,
          21.502,
          23.053,
          23.333,
          25.561,
          23.306,
          23.63,
          25.261,
          19.878,
          19.844,
          21.742,
          20.009,
          20.464,
          22.735,
          20.516,
          22.138,
          24.829,
          19.46,
          19.296,
          19.523,
          22.59,
          19.402,
          23.347,
          20.956,
          21.151,
          20.441,
          20.879,
          18.728,
          19.625,
          19.93,
          20.021,
          23.782,
          25.87,
          26.221,
          22.048,
          20.634,
          27.742,
          23.436,
          25.823,
          25.014,
          21.172,
          26.333,
          25.506,
          23.232,
          27.927,
          21.265,
          19.09,
          19.67,
          20.198,
          21.452,
          26.105,
          25.953,
          18.979,
          21.539,
          20.825,
          25.344,
          25.143,
          19.12,
          26.164,
          20.66,
          26.118,
          22.831,
          25.586,
          20.957,
          19.691,
          20.82,
          21.659,
          25.976,
          19.771,
          19.703,
          19.818,
          22.597,
          20.408,
          22.75,
          19.639,
          22.326,
          22.729,
          18.793,
          21.625,
          23.29,
          21.952,
          20.814,
          23.428,
          19.377,
          25.882,
          25.54,
          22.211,
          19.577,
          22.537,
          20.605,
          23.146,
          20.109,
          21.03,
          21.894,
          19.723,
          25.693,
          19.632,
          19.888,
          21.476,
          25.627,
          19.825,
          25.599,
          19.507,
          26.193,
          20.884,
          23.832,
          25.798,
          23.333,
          25.085,
          24.529,
          22.534,
          25.985,
          22.857,
          22.111,
          20.283,
          23.275,
          20.744,
          21.798,
          20.915,
          19.739,
          26.973,
          27.154,
          25.911,
          25.668,
          26.334,
          21.268,
          25.147,
          28.302,
          20.237,
          25.469,
          26.044,
          27.885,
          23.554,
          25.728,
          20.452,
          25.852,
          20.921,
          28.313,
          22.671,
          18.768,
          24.996,
          20.381,
          20.988,
          19.747,
          19.447,
          19.903,
          21.65,
          21.015,
          21.969,
          25.414,
          22.046,
          25.92,
          19.18,
          22.065,
          22.355,
          21.348,
          20.741,
          22.614,
          21.231,
          22.733,
          19.442,
          19.886,
          23.364,
          20.371,
          26.469,
          29.114,
          22.018,
          20.87,
          19.656,
          20.468,
          22.06,
          19.458,
          21.845,
          22.777,
          19.858,
          20.242,
          21.585,
          23.365,
          22.168,
          26.21,
          21.621,
          19.714,
          22.029,
          26.185,
          26.535,
          18.703,
          19.94,
          22.437,
          20.811,
          20.05,
          20.706,
          19.492,
          19.379,
          22.569,
          19.238,
          22.288,
          19.722,
          25.672,
          22.605,
          20.877,
          25.745,
          20.684,
          22.746,
          23.455,
          19.131,
          20.819,
          22.562,
          20.079,
          29.328,
          23.233,
          25.59,
          19.917,
          23.027,
          20.191,
          23.507,
          22.727,
          24.976,
          20.378,
          21.199,
          26.393,
          21.807,
          25.795,
          20.57,
          22.801,
          21.116,
          28.085,
          19.884,
          20.514,
          21.546,
          19.941,
          23.12,
          22.587,
          26.122,
          26.582,
          19.685,
          19.367,
          25.797,
          23.041,
          19.568,
          20.809,
          20.079,
          25.727,
          21.753,
          22.963,
          22.434,
          26.914,
          20.649,
          23.21,
          25.016,
          22.719,
          21.887,
          26.46,
          26.513,
          24.719,
          21.911,
          25.316,
          27.259,
          28.395,
          18.221,
          21.415,
          22.339,
          26.686,
          19.262,
          26.574,
          22.775,
          19.124,
          22.553,
          20.708,
          26.365,
          25.129,
          26.021,
          19.577,
          23.182,
          19.465,
          22.79,
          24.661,
          20.171,
          19.776,
          27.527,
          20.22,
          22.592,
          20.368,
          21.115,
          22.388,
          22.689,
          20.194,
          22.176,
          26.479,
          18.909,
          19.475,
          21.009,
          20.463,
          20.66,
          20.102,
          19.615,
          24.514,
          26.335,
          25.549,
          23.02,
          27.104,
          22.472,
          20.123,
          23.154,
          22.347,
          23.761,
          21.879,
          28.423,
          19.404
         ],
         "xaxis": "x",
         "yaxis": "y"
        }
       ],
       "layout": {
        "annotations": [
         {
          "arrowhead": 7,
          "ax": 0,
          "ay": -40,
          "showarrow": true,
          "text": "Mean: 22.50",
          "x": 22.501914914914916,
          "xref": "x",
          "y": 0.1,
          "yref": "y"
         },
         {
          "arrowhead": 7,
          "ax": 0,
          "ay": -40,
          "showarrow": true,
          "text": "Median: 22.102",
          "x": 22.102,
          "xref": "x",
          "y": 0.1,
          "yref": "y"
         }
        ],
        "barmode": "relative",
        "legend": {
         "tracegroupgap": 0
        },
        "template": {
         "data": {
          "bar": [
           {
            "error_x": {
             "color": "#2a3f5f"
            },
            "error_y": {
             "color": "#2a3f5f"
            },
            "marker": {
             "line": {
              "color": "#E5ECF6",
              "width": 0.5
             },
             "pattern": {
              "fillmode": "overlay",
              "size": 10,
              "solidity": 0.2
             }
            },
            "type": "bar"
           }
          ],
          "barpolar": [
           {
            "marker": {
             "line": {
              "color": "#E5ECF6",
              "width": 0.5
             },
             "pattern": {
              "fillmode": "overlay",
              "size": 10,
              "solidity": 0.2
             }
            },
            "type": "barpolar"
           }
          ],
          "carpet": [
           {
            "aaxis": {
             "endlinecolor": "#2a3f5f",
             "gridcolor": "white",
             "linecolor": "white",
             "minorgridcolor": "white",
             "startlinecolor": "#2a3f5f"
            },
            "baxis": {
             "endlinecolor": "#2a3f5f",
             "gridcolor": "white",
             "linecolor": "white",
             "minorgridcolor": "white",
             "startlinecolor": "#2a3f5f"
            },
            "type": "carpet"
           }
          ],
          "choropleth": [
           {
            "colorbar": {
             "outlinewidth": 0,
             "ticks": ""
            },
            "type": "choropleth"
           }
          ],
          "contour": [
           {
            "colorbar": {
             "outlinewidth": 0,
             "ticks": ""
            },
            "colorscale": [
             [
              0,
              "#0d0887"
             ],
             [
              0.1111111111111111,
              "#46039f"
             ],
             [
              0.2222222222222222,
              "#7201a8"
             ],
             [
              0.3333333333333333,
              "#9c179e"
             ],
             [
              0.4444444444444444,
              "#bd3786"
             ],
             [
              0.5555555555555556,
              "#d8576b"
             ],
             [
              0.6666666666666666,
              "#ed7953"
             ],
             [
              0.7777777777777778,
              "#fb9f3a"
             ],
             [
              0.8888888888888888,
              "#fdca26"
             ],
             [
              1,
              "#f0f921"
             ]
            ],
            "type": "contour"
           }
          ],
          "contourcarpet": [
           {
            "colorbar": {
             "outlinewidth": 0,
             "ticks": ""
            },
            "type": "contourcarpet"
           }
          ],
          "heatmap": [
           {
            "colorbar": {
             "outlinewidth": 0,
             "ticks": ""
            },
            "colorscale": [
             [
              0,
              "#0d0887"
             ],
             [
              0.1111111111111111,
              "#46039f"
             ],
             [
              0.2222222222222222,
              "#7201a8"
             ],
             [
              0.3333333333333333,
              "#9c179e"
             ],
             [
              0.4444444444444444,
              "#bd3786"
             ],
             [
              0.5555555555555556,
              "#d8576b"
             ],
             [
              0.6666666666666666,
              "#ed7953"
             ],
             [
              0.7777777777777778,
              "#fb9f3a"
             ],
             [
              0.8888888888888888,
              "#fdca26"
             ],
             [
              1,
              "#f0f921"
             ]
            ],
            "type": "heatmap"
           }
          ],
          "heatmapgl": [
           {
            "colorbar": {
             "outlinewidth": 0,
             "ticks": ""
            },
            "colorscale": [
             [
              0,
              "#0d0887"
             ],
             [
              0.1111111111111111,
              "#46039f"
             ],
             [
              0.2222222222222222,
              "#7201a8"
             ],
             [
              0.3333333333333333,
              "#9c179e"
             ],
             [
              0.4444444444444444,
              "#bd3786"
             ],
             [
              0.5555555555555556,
              "#d8576b"
             ],
             [
              0.6666666666666666,
              "#ed7953"
             ],
             [
              0.7777777777777778,
              "#fb9f3a"
             ],
             [
              0.8888888888888888,
              "#fdca26"
             ],
             [
              1,
              "#f0f921"
             ]
            ],
            "type": "heatmapgl"
           }
          ],
          "histogram": [
           {
            "marker": {
             "pattern": {
              "fillmode": "overlay",
              "size": 10,
              "solidity": 0.2
             }
            },
            "type": "histogram"
           }
          ],
          "histogram2d": [
           {
            "colorbar": {
             "outlinewidth": 0,
             "ticks": ""
            },
            "colorscale": [
             [
              0,
              "#0d0887"
             ],
             [
              0.1111111111111111,
              "#46039f"
             ],
             [
              0.2222222222222222,
              "#7201a8"
             ],
             [
              0.3333333333333333,
              "#9c179e"
             ],
             [
              0.4444444444444444,
              "#bd3786"
             ],
             [
              0.5555555555555556,
              "#d8576b"
             ],
             [
              0.6666666666666666,
              "#ed7953"
             ],
             [
              0.7777777777777778,
              "#fb9f3a"
             ],
             [
              0.8888888888888888,
              "#fdca26"
             ],
             [
              1,
              "#f0f921"
             ]
            ],
            "type": "histogram2d"
           }
          ],
          "histogram2dcontour": [
           {
            "colorbar": {
             "outlinewidth": 0,
             "ticks": ""
            },
            "colorscale": [
             [
              0,
              "#0d0887"
             ],
             [
              0.1111111111111111,
              "#46039f"
             ],
             [
              0.2222222222222222,
              "#7201a8"
             ],
             [
              0.3333333333333333,
              "#9c179e"
             ],
             [
              0.4444444444444444,
              "#bd3786"
             ],
             [
              0.5555555555555556,
              "#d8576b"
             ],
             [
              0.6666666666666666,
              "#ed7953"
             ],
             [
              0.7777777777777778,
              "#fb9f3a"
             ],
             [
              0.8888888888888888,
              "#fdca26"
             ],
             [
              1,
              "#f0f921"
             ]
            ],
            "type": "histogram2dcontour"
           }
          ],
          "mesh3d": [
           {
            "colorbar": {
             "outlinewidth": 0,
             "ticks": ""
            },
            "type": "mesh3d"
           }
          ],
          "parcoords": [
           {
            "line": {
             "colorbar": {
              "outlinewidth": 0,
              "ticks": ""
             }
            },
            "type": "parcoords"
           }
          ],
          "pie": [
           {
            "automargin": true,
            "type": "pie"
           }
          ],
          "scatter": [
           {
            "fillpattern": {
             "fillmode": "overlay",
             "size": 10,
             "solidity": 0.2
            },
            "type": "scatter"
           }
          ],
          "scatter3d": [
           {
            "line": {
             "colorbar": {
              "outlinewidth": 0,
              "ticks": ""
             }
            },
            "marker": {
             "colorbar": {
              "outlinewidth": 0,
              "ticks": ""
             }
            },
            "type": "scatter3d"
           }
          ],
          "scattercarpet": [
           {
            "marker": {
             "colorbar": {
              "outlinewidth": 0,
              "ticks": ""
             }
            },
            "type": "scattercarpet"
           }
          ],
          "scattergeo": [
           {
            "marker": {
             "colorbar": {
              "outlinewidth": 0,
              "ticks": ""
             }
            },
            "type": "scattergeo"
           }
          ],
          "scattergl": [
           {
            "marker": {
             "colorbar": {
              "outlinewidth": 0,
              "ticks": ""
             }
            },
            "type": "scattergl"
           }
          ],
          "scattermapbox": [
           {
            "marker": {
             "colorbar": {
              "outlinewidth": 0,
              "ticks": ""
             }
            },
            "type": "scattermapbox"
           }
          ],
          "scatterpolar": [
           {
            "marker": {
             "colorbar": {
              "outlinewidth": 0,
              "ticks": ""
             }
            },
            "type": "scatterpolar"
           }
          ],
          "scatterpolargl": [
           {
            "marker": {
             "colorbar": {
              "outlinewidth": 0,
              "ticks": ""
             }
            },
            "type": "scatterpolargl"
           }
          ],
          "scatterternary": [
           {
            "marker": {
             "colorbar": {
              "outlinewidth": 0,
              "ticks": ""
             }
            },
            "type": "scatterternary"
           }
          ],
          "surface": [
           {
            "colorbar": {
             "outlinewidth": 0,
             "ticks": ""
            },
            "colorscale": [
             [
              0,
              "#0d0887"
             ],
             [
              0.1111111111111111,
              "#46039f"
             ],
             [
              0.2222222222222222,
              "#7201a8"
             ],
             [
              0.3333333333333333,
              "#9c179e"
             ],
             [
              0.4444444444444444,
              "#bd3786"
             ],
             [
              0.5555555555555556,
              "#d8576b"
             ],
             [
              0.6666666666666666,
              "#ed7953"
             ],
             [
              0.7777777777777778,
              "#fb9f3a"
             ],
             [
              0.8888888888888888,
              "#fdca26"
             ],
             [
              1,
              "#f0f921"
             ]
            ],
            "type": "surface"
           }
          ],
          "table": [
           {
            "cells": {
             "fill": {
              "color": "#EBF0F8"
             },
             "line": {
              "color": "white"
             }
            },
            "header": {
             "fill": {
              "color": "#C8D4E3"
             },
             "line": {
              "color": "white"
             }
            },
            "type": "table"
           }
          ]
         },
         "layout": {
          "annotationdefaults": {
           "arrowcolor": "#2a3f5f",
           "arrowhead": 0,
           "arrowwidth": 1
          },
          "autotypenumbers": "strict",
          "coloraxis": {
           "colorbar": {
            "outlinewidth": 0,
            "ticks": ""
           }
          },
          "colorscale": {
           "diverging": [
            [
             0,
             "#8e0152"
            ],
            [
             0.1,
             "#c51b7d"
            ],
            [
             0.2,
             "#de77ae"
            ],
            [
             0.3,
             "#f1b6da"
            ],
            [
             0.4,
             "#fde0ef"
            ],
            [
             0.5,
             "#f7f7f7"
            ],
            [
             0.6,
             "#e6f5d0"
            ],
            [
             0.7,
             "#b8e186"
            ],
            [
             0.8,
             "#7fbc41"
            ],
            [
             0.9,
             "#4d9221"
            ],
            [
             1,
             "#276419"
            ]
           ],
           "sequential": [
            [
             0,
             "#0d0887"
            ],
            [
             0.1111111111111111,
             "#46039f"
            ],
            [
             0.2222222222222222,
             "#7201a8"
            ],
            [
             0.3333333333333333,
             "#9c179e"
            ],
            [
             0.4444444444444444,
             "#bd3786"
            ],
            [
             0.5555555555555556,
             "#d8576b"
            ],
            [
             0.6666666666666666,
             "#ed7953"
            ],
            [
             0.7777777777777778,
             "#fb9f3a"
            ],
            [
             0.8888888888888888,
             "#fdca26"
            ],
            [
             1,
             "#f0f921"
            ]
           ],
           "sequentialminus": [
            [
             0,
             "#0d0887"
            ],
            [
             0.1111111111111111,
             "#46039f"
            ],
            [
             0.2222222222222222,
             "#7201a8"
            ],
            [
             0.3333333333333333,
             "#9c179e"
            ],
            [
             0.4444444444444444,
             "#bd3786"
            ],
            [
             0.5555555555555556,
             "#d8576b"
            ],
            [
             0.6666666666666666,
             "#ed7953"
            ],
            [
             0.7777777777777778,
             "#fb9f3a"
            ],
            [
             0.8888888888888888,
             "#fdca26"
            ],
            [
             1,
             "#f0f921"
            ]
           ]
          },
          "colorway": [
           "#636efa",
           "#EF553B",
           "#00cc96",
           "#ab63fa",
           "#FFA15A",
           "#19d3f3",
           "#FF6692",
           "#B6E880",
           "#FF97FF",
           "#FECB52"
          ],
          "font": {
           "color": "#2a3f5f"
          },
          "geo": {
           "bgcolor": "white",
           "lakecolor": "white",
           "landcolor": "#E5ECF6",
           "showlakes": true,
           "showland": true,
           "subunitcolor": "white"
          },
          "hoverlabel": {
           "align": "left"
          },
          "hovermode": "closest",
          "mapbox": {
           "style": "light"
          },
          "paper_bgcolor": "white",
          "plot_bgcolor": "#E5ECF6",
          "polar": {
           "angularaxis": {
            "gridcolor": "white",
            "linecolor": "white",
            "ticks": ""
           },
           "bgcolor": "#E5ECF6",
           "radialaxis": {
            "gridcolor": "white",
            "linecolor": "white",
            "ticks": ""
           }
          },
          "scene": {
           "xaxis": {
            "backgroundcolor": "#E5ECF6",
            "gridcolor": "white",
            "gridwidth": 2,
            "linecolor": "white",
            "showbackground": true,
            "ticks": "",
            "zerolinecolor": "white"
           },
           "yaxis": {
            "backgroundcolor": "#E5ECF6",
            "gridcolor": "white",
            "gridwidth": 2,
            "linecolor": "white",
            "showbackground": true,
            "ticks": "",
            "zerolinecolor": "white"
           },
           "zaxis": {
            "backgroundcolor": "#E5ECF6",
            "gridcolor": "white",
            "gridwidth": 2,
            "linecolor": "white",
            "showbackground": true,
            "ticks": "",
            "zerolinecolor": "white"
           }
          },
          "shapedefaults": {
           "line": {
            "color": "#2a3f5f"
           }
          },
          "ternary": {
           "aaxis": {
            "gridcolor": "white",
            "linecolor": "white",
            "ticks": ""
           },
           "baxis": {
            "gridcolor": "white",
            "linecolor": "white",
            "ticks": ""
           },
           "bgcolor": "#E5ECF6",
           "caxis": {
            "gridcolor": "white",
            "linecolor": "white",
            "ticks": ""
           }
          },
          "title": {
           "x": 0.05
          },
          "xaxis": {
           "automargin": true,
           "gridcolor": "white",
           "linecolor": "white",
           "ticks": "",
           "title": {
            "standoff": 15
           },
           "zerolinecolor": "white",
           "zerolinewidth": 2
          },
          "yaxis": {
           "automargin": true,
           "gridcolor": "white",
           "linecolor": "white",
           "ticks": "",
           "title": {
            "standoff": 15
           },
           "zerolinecolor": "white",
           "zerolinewidth": 2
          }
         }
        },
        "title": {
         "text": "Histogramm von Strom / A"
        },
        "xaxis": {
         "anchor": "y",
         "domain": [
          0,
          1
         ],
         "title": {
          "text": "Strom / A"
         }
        },
        "yaxis": {
         "anchor": "x",
         "domain": [
          0,
          1
         ],
         "title": {
          "text": "probability"
         }
        }
       }
      }
     },
     "metadata": {},
     "output_type": "display_data"
    }
   ],
   "source": [
    "import pandas as pd\n",
    "import plotly.express as px\n",
    "\n",
    "df = pd.read_csv(\"data/machine_data.csv\", delimiter=\";\", decimal=\",\")\n",
    "\n",
    "metrisches_merkmal = \"Strom / A\"\n",
    "\n",
    "mean_value = df[metrisches_merkmal].mean()\n",
    "median_value = df[metrisches_merkmal].median()\n",
    "\n",
    "fig = px.histogram(df, x=metrisches_merkmal, histnorm=\"probability\", title=f'Histogramm von {metrisches_merkmal}')\n",
    "fig.update_layout(\n",
    "    annotations=[\n",
    "        dict(\n",
    "            x=mean_value,\n",
    "            y=0.1,\n",
    "            xref=\"x\",\n",
    "            yref=\"y\",\n",
    "            text=f'Mean: {mean_value:.2f}',\n",
    "            showarrow=True,\n",
    "            arrowhead=7,\n",
    "            ax=0,\n",
    "            ay=-40\n",
    "        ),\n",
    "        dict(\n",
    "            x=median_value,\n",
    "            y=0.1,\n",
    "            xref=\"x\",\n",
    "            yref=\"y\",\n",
    "            text=f'Median: {median_value}',\n",
    "            showarrow=True,\n",
    "            arrowhead=7,\n",
    "            ax=0,\n",
    "            ay=-40\n",
    "        )\n",
    "    ]\n",
    ")\n",
    "\n",
    "fig.show()"
   ]
  },
  {
   "cell_type": "markdown",
   "id": "1932789a",
   "metadata": {},
   "source": [
    "## Korrelationen untersuchen"
   ]
  },
  {
   "cell_type": "markdown",
   "id": "97d3c87f",
   "metadata": {},
   "source": [
    "Wir hoffen, dass wir Sie bereits von den Fähigkeiten von pandas und Plotly für die explorative Datenanalyse überzeugen konnten. Sie haben gesehen, dass es für die Darstellung eines Säulen- oder Balkendiagramms oder eines Histogramms jeweils nur einer einzigen Zeile Code bedarf; auch Lage- und Streuungsmaße können mit nur einer einzigen Zeile Code ausgegeben werden (bzw. drei Zeilen Code, wenn man auch unsere Implementierung für ordinale Merkmale verwenden möchte). Richtig interessant wird es oft aber erst, wenn wir nach weiteren Mustern und Zusammenhängen in den Daten suchen. Dazu müssen wir uns mehr als nur ein Merkmal zur gleichen Zeit anschauen. Wir gehen im Folgenden davon aus, dass wir nach unserer explorativen Analyse noch eine gezielte Analyse zu interessanten Muster und Zusammenhängen planen. Um Aussagen über unsere Stichprobe hinaus treffen zu können, müssen wir unsere Erkenntnisse später auf einem unabhängigen Datensatz testen können und daher an dieser Stelle unsere Daten in einen Explorations- und einen Testdatensatz aufteilen. Wir nutzen dazu eine einfache Randomisierung. Wir wählen also mit der ```sample()```-Funktion einen bestimmten Bruchteil unserer Daten zufällig zum Explorieren aus, zum Beispiel 75% bzw. ```0.75```. Um eine reproduzierbare Aufteilung zu erhalten, fixieren wir zudem den [Startwert des Zufallszahlengenerators](https://de.wikipedia.org/wiki/Seed_key), zum Beispiel auf ```42```:"
   ]
  },
  {
   "cell_type": "code",
   "execution_count": 14,
   "id": "85d45340",
   "metadata": {},
   "outputs": [
    {
     "data": {
      "text/html": [
       "<div>\n",
       "<style scoped>\n",
       "    .dataframe tbody tr th:only-of-type {\n",
       "        vertical-align: middle;\n",
       "    }\n",
       "\n",
       "    .dataframe tbody tr th {\n",
       "        vertical-align: top;\n",
       "    }\n",
       "\n",
       "    .dataframe thead th {\n",
       "        text-align: right;\n",
       "    }\n",
       "</style>\n",
       "<table border=\"1\" class=\"dataframe\">\n",
       "  <thead>\n",
       "    <tr style=\"text-align: right;\">\n",
       "      <th></th>\n",
       "      <th>Maschine</th>\n",
       "      <th>Mode</th>\n",
       "      <th>Produkt</th>\n",
       "      <th>Strom / A</th>\n",
       "      <th>Drehmoment / Nm</th>\n",
       "      <th>Drehzahl / 1/min</th>\n",
       "      <th>Temp Umgebung / degC</th>\n",
       "      <th>Temp Umrichter / degC</th>\n",
       "      <th>Temp Werkzeug / degC</th>\n",
       "      <th>Bearbeitungszeit / s</th>\n",
       "    </tr>\n",
       "  </thead>\n",
       "  <tbody>\n",
       "    <tr>\n",
       "      <th>521</th>\n",
       "      <td>A</td>\n",
       "      <td>1.0</td>\n",
       "      <td>Y</td>\n",
       "      <td>19.328</td>\n",
       "      <td>43.92</td>\n",
       "      <td>1461</td>\n",
       "      <td>22.6</td>\n",
       "      <td>23.5</td>\n",
       "      <td>88.6</td>\n",
       "      <td>25.3</td>\n",
       "    </tr>\n",
       "    <tr>\n",
       "      <th>737</th>\n",
       "      <td>C</td>\n",
       "      <td>1.0</td>\n",
       "      <td>Y</td>\n",
       "      <td>21.265</td>\n",
       "      <td>43.37</td>\n",
       "      <td>1459</td>\n",
       "      <td>19.8</td>\n",
       "      <td>23.0</td>\n",
       "      <td>86.7</td>\n",
       "      <td>25.3</td>\n",
       "    </tr>\n",
       "    <tr>\n",
       "      <th>740</th>\n",
       "      <td>A</td>\n",
       "      <td>1.0</td>\n",
       "      <td>Y</td>\n",
       "      <td>20.198</td>\n",
       "      <td>45.96</td>\n",
       "      <td>1459</td>\n",
       "      <td>19.2</td>\n",
       "      <td>23.2</td>\n",
       "      <td>90.9</td>\n",
       "      <td>25.3</td>\n",
       "    </tr>\n",
       "    <tr>\n",
       "      <th>660</th>\n",
       "      <td>C</td>\n",
       "      <td>3.0</td>\n",
       "      <td>X</td>\n",
       "      <td>25.700</td>\n",
       "      <td>52.28</td>\n",
       "      <td>1462</td>\n",
       "      <td>22.8</td>\n",
       "      <td>25.5</td>\n",
       "      <td>102.4</td>\n",
       "      <td>19.9</td>\n",
       "    </tr>\n",
       "    <tr>\n",
       "      <th>411</th>\n",
       "      <td>C</td>\n",
       "      <td>1.0</td>\n",
       "      <td>Y</td>\n",
       "      <td>21.949</td>\n",
       "      <td>44.61</td>\n",
       "      <td>1464</td>\n",
       "      <td>18.9</td>\n",
       "      <td>22.5</td>\n",
       "      <td>87.9</td>\n",
       "      <td>25.3</td>\n",
       "    </tr>\n",
       "    <tr>\n",
       "      <th>...</th>\n",
       "      <td>...</td>\n",
       "      <td>...</td>\n",
       "      <td>...</td>\n",
       "      <td>...</td>\n",
       "      <td>...</td>\n",
       "      <td>...</td>\n",
       "      <td>...</td>\n",
       "      <td>...</td>\n",
       "      <td>...</td>\n",
       "      <td>...</td>\n",
       "    </tr>\n",
       "    <tr>\n",
       "      <th>641</th>\n",
       "      <td>A</td>\n",
       "      <td>2.0</td>\n",
       "      <td>Y</td>\n",
       "      <td>22.299</td>\n",
       "      <td>50.61</td>\n",
       "      <td>1463</td>\n",
       "      <td>19.8</td>\n",
       "      <td>22.6</td>\n",
       "      <td>97.6</td>\n",
       "      <td>23.8</td>\n",
       "    </tr>\n",
       "    <tr>\n",
       "      <th>915</th>\n",
       "      <td>C</td>\n",
       "      <td>2.0</td>\n",
       "      <td>X</td>\n",
       "      <td>22.801</td>\n",
       "      <td>46.49</td>\n",
       "      <td>1459</td>\n",
       "      <td>20.6</td>\n",
       "      <td>23.2</td>\n",
       "      <td>91.9</td>\n",
       "      <td>21.4</td>\n",
       "    </tr>\n",
       "    <tr>\n",
       "      <th>752</th>\n",
       "      <td>C</td>\n",
       "      <td>3.0</td>\n",
       "      <td>X</td>\n",
       "      <td>26.118</td>\n",
       "      <td>53.16</td>\n",
       "      <td>1462</td>\n",
       "      <td>20.4</td>\n",
       "      <td>22.7</td>\n",
       "      <td>101.1</td>\n",
       "      <td>19.9</td>\n",
       "    </tr>\n",
       "    <tr>\n",
       "      <th>806</th>\n",
       "      <td>A</td>\n",
       "      <td>1.0</td>\n",
       "      <td>Y</td>\n",
       "      <td>20.283</td>\n",
       "      <td>46.11</td>\n",
       "      <td>1461</td>\n",
       "      <td>19.3</td>\n",
       "      <td>23.3</td>\n",
       "      <td>91.0</td>\n",
       "      <td>25.3</td>\n",
       "    </tr>\n",
       "    <tr>\n",
       "      <th>919</th>\n",
       "      <td>B</td>\n",
       "      <td>2.0</td>\n",
       "      <td>X</td>\n",
       "      <td>20.514</td>\n",
       "      <td>45.86</td>\n",
       "      <td>1461</td>\n",
       "      <td>21.5</td>\n",
       "      <td>24.2</td>\n",
       "      <td>91.9</td>\n",
       "      <td>22.4</td>\n",
       "    </tr>\n",
       "  </tbody>\n",
       "</table>\n",
       "<p>750 rows × 10 columns</p>\n",
       "</div>"
      ],
      "text/plain": [
       "    Maschine Mode Produkt  Strom / A  Drehmoment / Nm  Drehzahl / 1/min  \\\n",
       "521        A  1.0       Y     19.328            43.92              1461   \n",
       "737        C  1.0       Y     21.265            43.37              1459   \n",
       "740        A  1.0       Y     20.198            45.96              1459   \n",
       "660        C  3.0       X     25.700            52.28              1462   \n",
       "411        C  1.0       Y     21.949            44.61              1464   \n",
       "..       ...  ...     ...        ...              ...               ...   \n",
       "641        A  2.0       Y     22.299            50.61              1463   \n",
       "915        C  2.0       X     22.801            46.49              1459   \n",
       "752        C  3.0       X     26.118            53.16              1462   \n",
       "806        A  1.0       Y     20.283            46.11              1461   \n",
       "919        B  2.0       X     20.514            45.86              1461   \n",
       "\n",
       "     Temp Umgebung / degC  Temp Umrichter / degC  Temp Werkzeug / degC  \\\n",
       "521                  22.6                   23.5                  88.6   \n",
       "737                  19.8                   23.0                  86.7   \n",
       "740                  19.2                   23.2                  90.9   \n",
       "660                  22.8                   25.5                 102.4   \n",
       "411                  18.9                   22.5                  87.9   \n",
       "..                    ...                    ...                   ...   \n",
       "641                  19.8                   22.6                  97.6   \n",
       "915                  20.6                   23.2                  91.9   \n",
       "752                  20.4                   22.7                 101.1   \n",
       "806                  19.3                   23.3                  91.0   \n",
       "919                  21.5                   24.2                  91.9   \n",
       "\n",
       "     Bearbeitungszeit / s  \n",
       "521                  25.3  \n",
       "737                  25.3  \n",
       "740                  25.3  \n",
       "660                  19.9  \n",
       "411                  25.3  \n",
       "..                    ...  \n",
       "641                  23.8  \n",
       "915                  21.4  \n",
       "752                  19.9  \n",
       "806                  25.3  \n",
       "919                  22.4  \n",
       "\n",
       "[750 rows x 10 columns]"
      ]
     },
     "execution_count": 14,
     "metadata": {},
     "output_type": "execute_result"
    }
   ],
   "source": [
    "import pandas as pd\n",
    "\n",
    "df = pd.read_csv(\"data/machine_data.csv\", delimiter=\";\", decimal=\",\")\n",
    "df[\"Maschine\"] = pd.Categorical(df[\"Maschine\"])\n",
    "df[\"Produkt\"] = pd.Categorical(df[\"Produkt\"])\n",
    "df[\"Mode\"] = pd.Categorical(df[\"Mode\"], ordered=True)\n",
    "\n",
    "exploration_data = df.sample(frac=0.75, random_state=42)\n",
    "exploration_data"
   ]
  },
  {
   "cell_type": "markdown",
   "id": "34488870",
   "metadata": {},
   "source": [
    "### Zusammenhang von Merkmalen\n",
    "\n",
    "Nachdem wir nun einen Explorationsdatensatz erstellt haben, können wir uns den Zusammenhang von Merkmalen für diesen Datensatz anschauen. Hierzu erstellen wir ein [Streudiagramm](https://plotly.github.io/plotly.py-docs/generated/plotly.express.scatter.html), zum Beispiel für die Stromaufnahme in Ampere und das Drehmoment in Newtonmeter:"
   ]
  },
  {
   "cell_type": "code",
   "execution_count": 15,
   "id": "93e46ad5",
   "metadata": {},
   "outputs": [
    {
     "data": {
      "application/vnd.plotly.v1+json": {
       "config": {
        "plotlyServerURL": "https://plot.ly"
       },
       "data": [
        {
         "hovertemplate": "Strom / A=%{x}<br>Drehmoment / Nm=%{y}<extra></extra>",
         "legendgroup": "",
         "marker": {
          "color": "#636efa",
          "symbol": "circle"
         },
         "mode": "markers",
         "name": "",
         "orientation": "v",
         "showlegend": false,
         "type": "scatter",
         "x": [
          19.328,
          21.265,
          20.198,
          25.7,
          21.949,
          23.257,
          21.687,
          27.614,
          20.87,
          22.751,
          19.739,
          22.776,
          22.696,
          20.368,
          20.649,
          20.079,
          20.462,
          19.492,
          19.703,
          25.844,
          19.756,
          18.86,
          20.519,
          19.829,
          25.472,
          23.401,
          26.36,
          19.615,
          25.59,
          25.316,
          21.051,
          29.129,
          23.281,
          28.278,
          22.731,
          21.243,
          22.667,
          20.642,
          23.233,
          22.52,
          24.273,
          22.562,
          23.023,
          21.115,
          20.074,
          20.462,
          26.122,
          20.081,
          20.331,
          19.903,
          19.23,
          22.437,
          21.031,
          19.955,
          21.357,
          20.909,
          22.078,
          19.847,
          23.06,
          20.237,
          22.553,
          19.555,
          20.514,
          21.431,
          22.607,
          19.174,
          21.114,
          19.858,
          22.859,
          22.523,
          22.244,
          25.759,
          24.902,
          21.452,
          19.794,
          20.628,
          19.221,
          27.926,
          23.615,
          20.859,
          21.537,
          21.219,
          21.269,
          21.84,
          28.789,
          25.85,
          28.423,
          23.347,
          22.831,
          28.184,
          25.216,
          18.805,
          21.104,
          23.626,
          25.693,
          20.94,
          20.408,
          19.451,
          25.038,
          20.452,
          21.151,
          20.765,
          22.434,
          22.817,
          25.728,
          26.258,
          23.121,
          20.708,
          20.319,
          28.085,
          27.975,
          27.885,
          20.102,
          26.334,
          19.791,
          19.41,
          21.367,
          22.176,
          21.824,
          18.714,
          25.745,
          19.642,
          19.402,
          22.713,
          20.768,
          22.215,
          23.624,
          20.991,
          20.242,
          25.085,
          26.334,
          22.614,
          null,
          22.347,
          23.944,
          20.399,
          23.323,
          21.112,
          27.73,
          20.844,
          20.77,
          21.02,
          19.93,
          19.587,
          20.684,
          20.57,
          20.915,
          22.33,
          26.044,
          26.441,
          26.005,
          21.918,
          20.194,
          21.913,
          22.719,
          25.985,
          26.209,
          23.306,
          26.699,
          19.379,
          24.402,
          22.326,
          21.87,
          25.422,
          22.777,
          23.159,
          26.643,
          20.413,
          21.884,
          24.942,
          21.129,
          26.033,
          20.774,
          25.549,
          22.406,
          25.043,
          20.921,
          19.856,
          22.534,
          23.192,
          25.59,
          26.044,
          22.749,
          22.622,
          22.065,
          26.394,
          25.842,
          20.443,
          21.887,
          19.12,
          27.259,
          28.313,
          25.831,
          20.232,
          26.166,
          22.925,
          19.341,
          26.714,
          27.938,
          26.097,
          20.681,
          20.935,
          23.333,
          23.181,
          19.447,
          21.877,
          22.875,
          19.884,
          22.298,
          23.554,
          26.521,
          25.527,
          26.582,
          25.852,
          25.895,
          20.613,
          19.591,
          19.457,
          22.727,
          24.829,
          22.684,
          25.506,
          22.388,
          20.208,
          19.131,
          25.581,
          23.513,
          21.875,
          23.027,
          25.98,
          24.963,
          23.154,
          20.371,
          19.898,
          21.245,
          21.812,
          19.626,
          19.577,
          24.327,
          19.733,
          28.145,
          19.283,
          19.356,
          23.333,
          25.415,
          22.843,
          19.772,
          21.506,
          19.902,
          22.117,
          22.55,
          27.104,
          19.888,
          22.746,
          21.28,
          29.53,
          22.453,
          21.116,
          23.12,
          21.426,
          25.014,
          26.208,
          27.201,
          22.443,
          22.718,
          21.585,
          25.798,
          25.388,
          21.55,
          21.057,
          20.773,
          20.398,
          29.328,
          21.948,
          22.785,
          26.195,
          20.791,
          20.336,
          23.025,
          20.109,
          21.378,
          23.832,
          28.324,
          26.524,
          19.523,
          20.441,
          19.942,
          19.644,
          20.531,
          18.221,
          21.911,
          20.884,
          21.337,
          26.063,
          21.187,
          19.623,
          22.963,
          22.349,
          23.021,
          25.478,
          22.363,
          24.741,
          20.296,
          23.359,
          22.211,
          28.395,
          25.388,
          22.632,
          21.753,
          20.21,
          22.599,
          24.573,
          23.636,
          22.138,
          26.167,
          25.937,
          20.532,
          22.842,
          27.742,
          21.973,
          19,
          20.405,
          25.468,
          22.444,
          25.54,
          22.443,
          19.245,
          21.968,
          19.523,
          21.132,
          20.009,
          21.2,
          20.021,
          20.486,
          22.782,
          22.379,
          20.516,
          25.546,
          21.621,
          20.16,
          24.499,
          25.892,
          25.968,
          20.543,
          19.539,
          26.209,
          19.159,
          19.917,
          19.633,
          23.21,
          19.712,
          22.125,
          23.455,
          24.66,
          24.908,
          22.218,
          26.72,
          25.261,
          22.791,
          19.651,
          20.723,
          22.514,
          22.012,
          18.712,
          22.465,
          26.049,
          20.814,
          26.639,
          23.513,
          19.442,
          25.292,
          22.735,
          20.456,
          24.675,
          22.786,
          21.539,
          22.398,
          19.955,
          21.199,
          27.154,
          25.989,
          19.098,
          19.825,
          26.094,
          21.031,
          22.587,
          21.164,
          25.872,
          23.02,
          23.428,
          19.354,
          22.58,
          25.561,
          19.723,
          22.213,
          26.312,
          25.485,
          18.774,
          20.82,
          21.879,
          25.944,
          20.939,
          23.194,
          21.299,
          20.823,
          23.053,
          19.685,
          24.927,
          23.376,
          20.719,
          24.575,
          21.546,
          20.605,
          25.54,
          21.268,
          19.296,
          25.515,
          24.996,
          22.008,
          22.284,
          19.385,
          20.956,
          22.341,
          22.677,
          25.61,
          20.314,
          24.787,
          27.957,
          19.084,
          22.699,
          22.133,
          27.689,
          26.475,
          19.308,
          19.853,
          26.221,
          23.544,
          20.47,
          20.05,
          20.856,
          22.242,
          26.177,
          27.527,
          22.931,
          18.932,
          22.037,
          27.056,
          21.483,
          20.474,
          21.22,
          20.841,
          19.714,
          19.417,
          21.365,
          22.511,
          19.565,
          22.569,
          20.466,
          19.809,
          23.153,
          20.208,
          19.401,
          19.517,
          25.129,
          22.208,
          22.334,
          23.201,
          21.518,
          24.944,
          28.583,
          25.769,
          22.349,
          19.568,
          25.821,
          21.144,
          26.335,
          19.941,
          25.727,
          23.001,
          25.544,
          25.817,
          21.479,
          20.524,
          19.802,
          20.357,
          20.489,
          21.269,
          23.229,
          28.946,
          26.32,
          26.535,
          22.102,
          19.691,
          21.174,
          22.696,
          21.146,
          21.862,
          21.983,
          22.168,
          20.706,
          24.395,
          21.045,
          19.381,
          26.393,
          25.599,
          26.365,
          22.371,
          19.723,
          22.775,
          20.66,
          22.06,
          19.889,
          23.012,
          22.419,
          21.169,
          21.659,
          22.332,
          25.514,
          20.463,
          20.541,
          28.426,
          22.077,
          20.468,
          23.239,
          20.935,
          22.63,
          20.381,
          26.343,
          28.754,
          22.459,
          21.587,
          20.936,
          22.347,
          27.671,
          19.18,
          22.905,
          20.322,
          21.128,
          25.823,
          21.276,
          22.385,
          22.892,
          19.139,
          23.796,
          19.485,
          26.46,
          22.911,
          25.728,
          22.336,
          22.38,
          25.135,
          19.64,
          21.502,
          20.338,
          19.458,
          21.807,
          22.982,
          19.28,
          19.198,
          24.825,
          25.352,
          19.404,
          20.988,
          27.927,
          24.723,
          19.033,
          24.898,
          22.933,
          19.983,
          22.79,
          19.657,
          25.698,
          19.723,
          20.413,
          22.616,
          19.367,
          20.556,
          24.278,
          19.789,
          22.372,
          22.409,
          25.683,
          21.798,
          21.476,
          20.744,
          19.828,
          28.311,
          22.897,
          20.814,
          20.178,
          19.574,
          20.921,
          19.943,
          25.586,
          22.018,
          28.187,
          19.319,
          20.592,
          21.107,
          25.953,
          19.752,
          27.2,
          19.655,
          21.182,
          20.286,
          23.182,
          22.832,
          22.778,
          28.625,
          20.58,
          20.365,
          20.743,
          25.976,
          22.59,
          23.782,
          23.311,
          26.479,
          19.336,
          20.66,
          25.079,
          20.378,
          21.051,
          22.733,
          27.651,
          25.2,
          19.666,
          22.842,
          20.22,
          25.016,
          21.221,
          22.339,
          25.896,
          22.778,
          20.879,
          18.703,
          19.608,
          25.289,
          19.262,
          22.24,
          21.415,
          21.15,
          19.957,
          23.126,
          19.465,
          19.951,
          20.976,
          24.661,
          21.231,
          20.464,
          25.414,
          25.184,
          23.364,
          21.845,
          19.525,
          19.776,
          22.671,
          23.491,
          20.171,
          20.125,
          24.976,
          21.41,
          24.529,
          20.123,
          20.957,
          24.695,
          25.003,
          21.294,
          20.646,
          21.563,
          21.802,
          26.164,
          24.875,
          22.537,
          25.372,
          20.238,
          19.155,
          22.156,
          23.093,
          24.719,
          22.407,
          23.836,
          25.92,
          19.818,
          22.255,
          23.275,
          26.164,
          23.173,
          20.43,
          20.799,
          26.142,
          20.825,
          24.119,
          26.03,
          21.172,
          20.877,
          22.734,
          19.371,
          22.522,
          21.827,
          22.745,
          19.632,
          20.992,
          25.672,
          27.749,
          19.238,
          25.915,
          22.611,
          23.311,
          19.625,
          20.809,
          19.67,
          25.553,
          20.75,
          24.038,
          21.124,
          18.835,
          19.774,
          19.886,
          19.888,
          25.749,
          22.553,
          20.994,
          20.315,
          21.377,
          26.349,
          25.375,
          22.601,
          23.244,
          19.614,
          20.005,
          23.128,
          21.327,
          20.079,
          22.75,
          23.507,
          19.747,
          22.288,
          21.879,
          25.918,
          19.322,
          21.03,
          21.625,
          23.232,
          25.795,
          25.455,
          22.299,
          22.801,
          26.118,
          20.283,
          20.514
         ],
         "xaxis": "x",
         "y": [
          43.92,
          43.37,
          45.96,
          52.28,
          44.61,
          47.39,
          44.2,
          56.1,
          46.64,
          51.73,
          44.94,
          46.32,
          46.24,
          46.41,
          46.26,
          45.65,
          46.56,
          44.28,
          44.71,
          52.57,
          44.91,
          42.78,
          46.72,
          44.96,
          51.84,
          47.63,
          53.71,
          44.62,
          52.23,
          51.65,
          47.73,
          59.18,
          47.44,
          57.56,
          46.29,
          47.5,
          51.57,
          46.9,
          52.06,
          50.37,
          49.51,
          45.86,
          46.8,
          47.15,
          45.64,
          45.69,
          53.06,
          45.59,
          46.18,
          45.12,
          43.79,
          45.63,
          47.06,
          45.45,
          47.61,
          46.85,
          50.31,
          45.14,
          46.95,
          46.05,
          45.97,
          44.43,
          45.93,
          48.65,
          51.4,
          43.63,
          47.97,
          45.1,
          51.06,
          45.88,
          50.55,
          52.49,
          50.67,
          47.81,
          45.02,
          46.9,
          43.69,
          56.84,
          48.17,
          47.37,
          43.77,
          47.41,
          48.28,
          49.7,
          58.6,
          52.64,
          57.85,
          47.69,
          51.93,
          57.37,
          51.35,
          42.76,
          47.22,
          53.6,
          52.34,
          47.56,
          45.68,
          44.29,
          50.96,
          46.38,
          47.28,
          47.19,
          50.18,
          46.35,
          52.35,
          53.59,
          51.64,
          46.97,
          46.21,
          57.36,
          56.93,
          56.83,
          45.75,
          53.63,
          44.96,
          44.24,
          48.59,
          49.51,
          48.78,
          42.58,
          52.4,
          44.59,
          44.03,
          51.54,
          46.37,
          49.67,
          48.02,
          47.01,
          46.05,
          51.15,
          53.6,
          46.07,
          48.07,
          49.99,
          48.75,
          46.41,
          47.62,
          47.2,
          56.4,
          46.59,
          46.51,
          42.8,
          45.26,
          44.55,
          47.02,
          46,
          46.78,
          45.46,
          53.03,
          53.85,
          52.88,
          48.9,
          45.92,
          44.59,
          50.9,
          52.99,
          53.45,
          52.01,
          54.42,
          44.03,
          49.65,
          50.78,
          44.6,
          51.71,
          51.79,
          51.75,
          54.32,
          45.69,
          44.56,
          50.83,
          47.24,
          52.95,
          47.18,
          51.9,
          51,
          50.99,
          47.5,
          45.14,
          51.22,
          51.88,
          52.03,
          52.92,
          46.32,
          46.01,
          50.22,
          53.68,
          52.64,
          46.46,
          49.06,
          43.58,
          55.63,
          57.59,
          52.6,
          45.98,
          53.33,
          46.69,
          44.02,
          54.47,
          56.77,
          53.12,
          47.02,
          42.68,
          47.55,
          51.78,
          44.25,
          44.44,
          46.59,
          45.21,
          45.33,
          52.61,
          53.96,
          52.1,
          54.2,
          52.78,
          52.7,
          46.08,
          44.58,
          44.33,
          50.81,
          50.45,
          50.7,
          52.01,
          45.59,
          45.97,
          43.54,
          52,
          48,
          49.75,
          51.49,
          52.83,
          50.83,
          47.19,
          45.46,
          45.1,
          47.51,
          44.4,
          44.57,
          44.5,
          49.59,
          44.84,
          57.3,
          43.84,
          43.94,
          52.25,
          51.82,
          50.99,
          44.85,
          48.91,
          45.29,
          45.1,
          50.4,
          55.19,
          45.24,
          50.89,
          47.52,
          60.11,
          45.72,
          47.2,
          47.06,
          48.64,
          50.91,
          53.31,
          55.47,
          51.03,
          46.32,
          48.34,
          52.57,
          51.64,
          43.86,
          47.09,
          47.15,
          46.37,
          59.86,
          49.81,
          46.4,
          53.29,
          46.44,
          46.24,
          51.43,
          45.69,
          47.76,
          48.5,
          57.66,
          53.94,
          44.29,
          46.57,
          45.32,
          44.77,
          46.64,
          41.43,
          49.72,
          46.66,
          47.71,
          53.04,
          47.25,
          44.56,
          46.71,
          45.51,
          46.85,
          51.91,
          45.43,
          50.28,
          46.04,
          47.59,
          45.31,
          57.92,
          51.73,
          46.08,
          44.27,
          45.85,
          46.08,
          50.07,
          48.02,
          45.17,
          53.29,
          52.79,
          46.71,
          51.14,
          56.52,
          50.03,
          43.22,
          46.4,
          51.79,
          50.96,
          52.07,
          51.07,
          43.76,
          50.01,
          44.3,
          48.1,
          45.53,
          47.44,
          45.52,
          46.51,
          51.79,
          50.82,
          46.01,
          52.08,
          44.05,
          45.74,
          49.99,
          52.67,
          52.8,
          45.98,
          44.46,
          53.32,
          43.64,
          45.36,
          44.62,
          51.94,
          44.79,
          50.16,
          47.85,
          50.31,
          50.66,
          50.38,
          54.44,
          51.37,
          46.39,
          44.74,
          47.06,
          50.37,
          49.21,
          42.59,
          50.06,
          53.15,
          47.32,
          54.3,
          47.91,
          44.16,
          51.52,
          46.3,
          46.51,
          50.31,
          50.92,
          43.81,
          45.53,
          45.34,
          48.13,
          55.34,
          52.92,
          43.31,
          44.99,
          53.18,
          47.07,
          45.89,
          47.38,
          52.72,
          52.5,
          53.25,
          44.08,
          51.41,
          52.13,
          44.93,
          49.74,
          53.58,
          51.86,
          42.75,
          47.39,
          44.58,
          52.81,
          46.82,
          52.69,
          47.54,
          46.68,
          46.89,
          44.74,
          50.75,
          47.51,
          47.18,
          50.09,
          43.9,
          45.97,
          52.07,
          47.52,
          43.86,
          51.99,
          50.83,
          44.93,
          50.64,
          44.06,
          47.61,
          45.51,
          51.57,
          52.05,
          46.21,
          50.53,
          56.93,
          43.31,
          50.73,
          50.32,
          56.44,
          53.97,
          43.84,
          45.08,
          53.46,
          48.03,
          46.51,
          45.6,
          46.55,
          49.79,
          53.39,
          56.12,
          51.32,
          42.99,
          44.9,
          55.14,
          48.91,
          46.54,
          48.23,
          47.48,
          44.77,
          44.19,
          48.63,
          45.83,
          44.57,
          45.94,
          46.51,
          44.99,
          47.07,
          45.94,
          44.16,
          44.42,
          51.13,
          45.14,
          50.94,
          51.82,
          48.92,
          50.85,
          58.37,
          52.44,
          50.79,
          44.49,
          52.7,
          48.03,
          53.67,
          45.34,
          52.4,
          52.23,
          52.01,
          52.66,
          48.79,
          46.69,
          44.98,
          46.29,
          46.59,
          48.26,
          47.24,
          58.91,
          53.49,
          54.02,
          44.98,
          44.83,
          47.34,
          50.8,
          47.25,
          44.6,
          49.93,
          50.32,
          46.38,
          49.67,
          47.84,
          44.01,
          53.52,
          52.13,
          53.64,
          49.98,
          44.93,
          50.92,
          46.28,
          44.88,
          45.09,
          51.44,
          50.92,
          47.27,
          49.21,
          49.89,
          52.09,
          46.57,
          46.67,
          57.89,
          50.19,
          46.45,
          47.38,
          47.59,
          46.07,
          46.29,
          53.69,
          58.56,
          51.06,
          43.94,
          47.58,
          45.56,
          56.27,
          43.51,
          51.13,
          45.55,
          47.2,
          52.66,
          48.29,
          50.06,
          46.64,
          43.48,
          54.08,
          44.26,
          53.89,
          52.19,
          52.42,
          45.52,
          50.93,
          51.16,
          44.64,
          48.03,
          46.28,
          44.26,
          49.52,
          51.53,
          43.88,
          43.69,
          50.54,
          51.49,
          44.1,
          42.72,
          56.89,
          50.27,
          43.16,
          50.64,
          46.8,
          45.5,
          46.44,
          44.76,
          52.35,
          44.65,
          46.38,
          51.54,
          44.08,
          46.76,
          49.49,
          44.93,
          50.83,
          50.97,
          52.29,
          44.4,
          43.75,
          46.39,
          45.09,
          57.7,
          52.15,
          46.58,
          45.76,
          44.49,
          46.78,
          45.31,
          51.97,
          44.91,
          57.45,
          43.93,
          46.82,
          47.2,
          52.76,
          44.97,
          55.41,
          44.75,
          47.32,
          46.21,
          52.72,
          46.5,
          51.71,
          58.43,
          46.03,
          46.31,
          47.12,
          52.91,
          46,
          48.46,
          52.94,
          53.93,
          43.94,
          46.89,
          51.15,
          46.4,
          47.9,
          51.79,
          56.2,
          51.33,
          44.68,
          51.1,
          46.07,
          50.98,
          47.46,
          50.77,
          52.65,
          50.91,
          47.46,
          42.53,
          44.48,
          51.58,
          43.63,
          45.3,
          47.75,
          47.23,
          45.4,
          47.19,
          44.25,
          45.38,
          47.56,
          50.31,
          47.51,
          45.73,
          51.78,
          51.23,
          47.58,
          44.44,
          44.41,
          45.01,
          46.13,
          47.84,
          45.87,
          45.04,
          50.87,
          47.79,
          49.95,
          45.67,
          46.82,
          50.33,
          50.97,
          43.37,
          46.96,
          48.3,
          44.37,
          53.32,
          50.68,
          50.45,
          51.59,
          45.28,
          43.59,
          45.13,
          47,
          50.38,
          50.92,
          48.61,
          52.72,
          45.07,
          49.69,
          47.4,
          53.19,
          47.17,
          46.5,
          47.28,
          53.3,
          47.38,
          49.01,
          53,
          47.99,
          47.5,
          46.45,
          44.07,
          50.35,
          49.58,
          51.75,
          44.65,
          47.63,
          52.37,
          56.49,
          43.76,
          52.86,
          46.05,
          52.05,
          44.59,
          47.24,
          44.73,
          52.1,
          46.27,
          48.99,
          43,
          42.88,
          44.89,
          45.2,
          45.22,
          52.46,
          50.44,
          46.96,
          46.19,
          43.57,
          53.6,
          51.66,
          46.06,
          47.3,
          44.56,
          45.59,
          51.77,
          48.6,
          45.49,
          51.62,
          52.58,
          44.87,
          49.87,
          48.88,
          52.8,
          43.88,
          47.75,
          48.31,
          52.09,
          52.44,
          51.87,
          50.61,
          46.49,
          53.16,
          46.11,
          45.86
         ],
         "yaxis": "y"
        }
       ],
       "layout": {
        "legend": {
         "tracegroupgap": 0
        },
        "margin": {
         "t": 60
        },
        "template": {
         "data": {
          "bar": [
           {
            "error_x": {
             "color": "#2a3f5f"
            },
            "error_y": {
             "color": "#2a3f5f"
            },
            "marker": {
             "line": {
              "color": "#E5ECF6",
              "width": 0.5
             },
             "pattern": {
              "fillmode": "overlay",
              "size": 10,
              "solidity": 0.2
             }
            },
            "type": "bar"
           }
          ],
          "barpolar": [
           {
            "marker": {
             "line": {
              "color": "#E5ECF6",
              "width": 0.5
             },
             "pattern": {
              "fillmode": "overlay",
              "size": 10,
              "solidity": 0.2
             }
            },
            "type": "barpolar"
           }
          ],
          "carpet": [
           {
            "aaxis": {
             "endlinecolor": "#2a3f5f",
             "gridcolor": "white",
             "linecolor": "white",
             "minorgridcolor": "white",
             "startlinecolor": "#2a3f5f"
            },
            "baxis": {
             "endlinecolor": "#2a3f5f",
             "gridcolor": "white",
             "linecolor": "white",
             "minorgridcolor": "white",
             "startlinecolor": "#2a3f5f"
            },
            "type": "carpet"
           }
          ],
          "choropleth": [
           {
            "colorbar": {
             "outlinewidth": 0,
             "ticks": ""
            },
            "type": "choropleth"
           }
          ],
          "contour": [
           {
            "colorbar": {
             "outlinewidth": 0,
             "ticks": ""
            },
            "colorscale": [
             [
              0,
              "#0d0887"
             ],
             [
              0.1111111111111111,
              "#46039f"
             ],
             [
              0.2222222222222222,
              "#7201a8"
             ],
             [
              0.3333333333333333,
              "#9c179e"
             ],
             [
              0.4444444444444444,
              "#bd3786"
             ],
             [
              0.5555555555555556,
              "#d8576b"
             ],
             [
              0.6666666666666666,
              "#ed7953"
             ],
             [
              0.7777777777777778,
              "#fb9f3a"
             ],
             [
              0.8888888888888888,
              "#fdca26"
             ],
             [
              1,
              "#f0f921"
             ]
            ],
            "type": "contour"
           }
          ],
          "contourcarpet": [
           {
            "colorbar": {
             "outlinewidth": 0,
             "ticks": ""
            },
            "type": "contourcarpet"
           }
          ],
          "heatmap": [
           {
            "colorbar": {
             "outlinewidth": 0,
             "ticks": ""
            },
            "colorscale": [
             [
              0,
              "#0d0887"
             ],
             [
              0.1111111111111111,
              "#46039f"
             ],
             [
              0.2222222222222222,
              "#7201a8"
             ],
             [
              0.3333333333333333,
              "#9c179e"
             ],
             [
              0.4444444444444444,
              "#bd3786"
             ],
             [
              0.5555555555555556,
              "#d8576b"
             ],
             [
              0.6666666666666666,
              "#ed7953"
             ],
             [
              0.7777777777777778,
              "#fb9f3a"
             ],
             [
              0.8888888888888888,
              "#fdca26"
             ],
             [
              1,
              "#f0f921"
             ]
            ],
            "type": "heatmap"
           }
          ],
          "heatmapgl": [
           {
            "colorbar": {
             "outlinewidth": 0,
             "ticks": ""
            },
            "colorscale": [
             [
              0,
              "#0d0887"
             ],
             [
              0.1111111111111111,
              "#46039f"
             ],
             [
              0.2222222222222222,
              "#7201a8"
             ],
             [
              0.3333333333333333,
              "#9c179e"
             ],
             [
              0.4444444444444444,
              "#bd3786"
             ],
             [
              0.5555555555555556,
              "#d8576b"
             ],
             [
              0.6666666666666666,
              "#ed7953"
             ],
             [
              0.7777777777777778,
              "#fb9f3a"
             ],
             [
              0.8888888888888888,
              "#fdca26"
             ],
             [
              1,
              "#f0f921"
             ]
            ],
            "type": "heatmapgl"
           }
          ],
          "histogram": [
           {
            "marker": {
             "pattern": {
              "fillmode": "overlay",
              "size": 10,
              "solidity": 0.2
             }
            },
            "type": "histogram"
           }
          ],
          "histogram2d": [
           {
            "colorbar": {
             "outlinewidth": 0,
             "ticks": ""
            },
            "colorscale": [
             [
              0,
              "#0d0887"
             ],
             [
              0.1111111111111111,
              "#46039f"
             ],
             [
              0.2222222222222222,
              "#7201a8"
             ],
             [
              0.3333333333333333,
              "#9c179e"
             ],
             [
              0.4444444444444444,
              "#bd3786"
             ],
             [
              0.5555555555555556,
              "#d8576b"
             ],
             [
              0.6666666666666666,
              "#ed7953"
             ],
             [
              0.7777777777777778,
              "#fb9f3a"
             ],
             [
              0.8888888888888888,
              "#fdca26"
             ],
             [
              1,
              "#f0f921"
             ]
            ],
            "type": "histogram2d"
           }
          ],
          "histogram2dcontour": [
           {
            "colorbar": {
             "outlinewidth": 0,
             "ticks": ""
            },
            "colorscale": [
             [
              0,
              "#0d0887"
             ],
             [
              0.1111111111111111,
              "#46039f"
             ],
             [
              0.2222222222222222,
              "#7201a8"
             ],
             [
              0.3333333333333333,
              "#9c179e"
             ],
             [
              0.4444444444444444,
              "#bd3786"
             ],
             [
              0.5555555555555556,
              "#d8576b"
             ],
             [
              0.6666666666666666,
              "#ed7953"
             ],
             [
              0.7777777777777778,
              "#fb9f3a"
             ],
             [
              0.8888888888888888,
              "#fdca26"
             ],
             [
              1,
              "#f0f921"
             ]
            ],
            "type": "histogram2dcontour"
           }
          ],
          "mesh3d": [
           {
            "colorbar": {
             "outlinewidth": 0,
             "ticks": ""
            },
            "type": "mesh3d"
           }
          ],
          "parcoords": [
           {
            "line": {
             "colorbar": {
              "outlinewidth": 0,
              "ticks": ""
             }
            },
            "type": "parcoords"
           }
          ],
          "pie": [
           {
            "automargin": true,
            "type": "pie"
           }
          ],
          "scatter": [
           {
            "fillpattern": {
             "fillmode": "overlay",
             "size": 10,
             "solidity": 0.2
            },
            "type": "scatter"
           }
          ],
          "scatter3d": [
           {
            "line": {
             "colorbar": {
              "outlinewidth": 0,
              "ticks": ""
             }
            },
            "marker": {
             "colorbar": {
              "outlinewidth": 0,
              "ticks": ""
             }
            },
            "type": "scatter3d"
           }
          ],
          "scattercarpet": [
           {
            "marker": {
             "colorbar": {
              "outlinewidth": 0,
              "ticks": ""
             }
            },
            "type": "scattercarpet"
           }
          ],
          "scattergeo": [
           {
            "marker": {
             "colorbar": {
              "outlinewidth": 0,
              "ticks": ""
             }
            },
            "type": "scattergeo"
           }
          ],
          "scattergl": [
           {
            "marker": {
             "colorbar": {
              "outlinewidth": 0,
              "ticks": ""
             }
            },
            "type": "scattergl"
           }
          ],
          "scattermapbox": [
           {
            "marker": {
             "colorbar": {
              "outlinewidth": 0,
              "ticks": ""
             }
            },
            "type": "scattermapbox"
           }
          ],
          "scatterpolar": [
           {
            "marker": {
             "colorbar": {
              "outlinewidth": 0,
              "ticks": ""
             }
            },
            "type": "scatterpolar"
           }
          ],
          "scatterpolargl": [
           {
            "marker": {
             "colorbar": {
              "outlinewidth": 0,
              "ticks": ""
             }
            },
            "type": "scatterpolargl"
           }
          ],
          "scatterternary": [
           {
            "marker": {
             "colorbar": {
              "outlinewidth": 0,
              "ticks": ""
             }
            },
            "type": "scatterternary"
           }
          ],
          "surface": [
           {
            "colorbar": {
             "outlinewidth": 0,
             "ticks": ""
            },
            "colorscale": [
             [
              0,
              "#0d0887"
             ],
             [
              0.1111111111111111,
              "#46039f"
             ],
             [
              0.2222222222222222,
              "#7201a8"
             ],
             [
              0.3333333333333333,
              "#9c179e"
             ],
             [
              0.4444444444444444,
              "#bd3786"
             ],
             [
              0.5555555555555556,
              "#d8576b"
             ],
             [
              0.6666666666666666,
              "#ed7953"
             ],
             [
              0.7777777777777778,
              "#fb9f3a"
             ],
             [
              0.8888888888888888,
              "#fdca26"
             ],
             [
              1,
              "#f0f921"
             ]
            ],
            "type": "surface"
           }
          ],
          "table": [
           {
            "cells": {
             "fill": {
              "color": "#EBF0F8"
             },
             "line": {
              "color": "white"
             }
            },
            "header": {
             "fill": {
              "color": "#C8D4E3"
             },
             "line": {
              "color": "white"
             }
            },
            "type": "table"
           }
          ]
         },
         "layout": {
          "annotationdefaults": {
           "arrowcolor": "#2a3f5f",
           "arrowhead": 0,
           "arrowwidth": 1
          },
          "autotypenumbers": "strict",
          "coloraxis": {
           "colorbar": {
            "outlinewidth": 0,
            "ticks": ""
           }
          },
          "colorscale": {
           "diverging": [
            [
             0,
             "#8e0152"
            ],
            [
             0.1,
             "#c51b7d"
            ],
            [
             0.2,
             "#de77ae"
            ],
            [
             0.3,
             "#f1b6da"
            ],
            [
             0.4,
             "#fde0ef"
            ],
            [
             0.5,
             "#f7f7f7"
            ],
            [
             0.6,
             "#e6f5d0"
            ],
            [
             0.7,
             "#b8e186"
            ],
            [
             0.8,
             "#7fbc41"
            ],
            [
             0.9,
             "#4d9221"
            ],
            [
             1,
             "#276419"
            ]
           ],
           "sequential": [
            [
             0,
             "#0d0887"
            ],
            [
             0.1111111111111111,
             "#46039f"
            ],
            [
             0.2222222222222222,
             "#7201a8"
            ],
            [
             0.3333333333333333,
             "#9c179e"
            ],
            [
             0.4444444444444444,
             "#bd3786"
            ],
            [
             0.5555555555555556,
             "#d8576b"
            ],
            [
             0.6666666666666666,
             "#ed7953"
            ],
            [
             0.7777777777777778,
             "#fb9f3a"
            ],
            [
             0.8888888888888888,
             "#fdca26"
            ],
            [
             1,
             "#f0f921"
            ]
           ],
           "sequentialminus": [
            [
             0,
             "#0d0887"
            ],
            [
             0.1111111111111111,
             "#46039f"
            ],
            [
             0.2222222222222222,
             "#7201a8"
            ],
            [
             0.3333333333333333,
             "#9c179e"
            ],
            [
             0.4444444444444444,
             "#bd3786"
            ],
            [
             0.5555555555555556,
             "#d8576b"
            ],
            [
             0.6666666666666666,
             "#ed7953"
            ],
            [
             0.7777777777777778,
             "#fb9f3a"
            ],
            [
             0.8888888888888888,
             "#fdca26"
            ],
            [
             1,
             "#f0f921"
            ]
           ]
          },
          "colorway": [
           "#636efa",
           "#EF553B",
           "#00cc96",
           "#ab63fa",
           "#FFA15A",
           "#19d3f3",
           "#FF6692",
           "#B6E880",
           "#FF97FF",
           "#FECB52"
          ],
          "font": {
           "color": "#2a3f5f"
          },
          "geo": {
           "bgcolor": "white",
           "lakecolor": "white",
           "landcolor": "#E5ECF6",
           "showlakes": true,
           "showland": true,
           "subunitcolor": "white"
          },
          "hoverlabel": {
           "align": "left"
          },
          "hovermode": "closest",
          "mapbox": {
           "style": "light"
          },
          "paper_bgcolor": "white",
          "plot_bgcolor": "#E5ECF6",
          "polar": {
           "angularaxis": {
            "gridcolor": "white",
            "linecolor": "white",
            "ticks": ""
           },
           "bgcolor": "#E5ECF6",
           "radialaxis": {
            "gridcolor": "white",
            "linecolor": "white",
            "ticks": ""
           }
          },
          "scene": {
           "xaxis": {
            "backgroundcolor": "#E5ECF6",
            "gridcolor": "white",
            "gridwidth": 2,
            "linecolor": "white",
            "showbackground": true,
            "ticks": "",
            "zerolinecolor": "white"
           },
           "yaxis": {
            "backgroundcolor": "#E5ECF6",
            "gridcolor": "white",
            "gridwidth": 2,
            "linecolor": "white",
            "showbackground": true,
            "ticks": "",
            "zerolinecolor": "white"
           },
           "zaxis": {
            "backgroundcolor": "#E5ECF6",
            "gridcolor": "white",
            "gridwidth": 2,
            "linecolor": "white",
            "showbackground": true,
            "ticks": "",
            "zerolinecolor": "white"
           }
          },
          "shapedefaults": {
           "line": {
            "color": "#2a3f5f"
           }
          },
          "ternary": {
           "aaxis": {
            "gridcolor": "white",
            "linecolor": "white",
            "ticks": ""
           },
           "baxis": {
            "gridcolor": "white",
            "linecolor": "white",
            "ticks": ""
           },
           "bgcolor": "#E5ECF6",
           "caxis": {
            "gridcolor": "white",
            "linecolor": "white",
            "ticks": ""
           }
          },
          "title": {
           "x": 0.05
          },
          "xaxis": {
           "automargin": true,
           "gridcolor": "white",
           "linecolor": "white",
           "ticks": "",
           "title": {
            "standoff": 15
           },
           "zerolinecolor": "white",
           "zerolinewidth": 2
          },
          "yaxis": {
           "automargin": true,
           "gridcolor": "white",
           "linecolor": "white",
           "ticks": "",
           "title": {
            "standoff": 15
           },
           "zerolinecolor": "white",
           "zerolinewidth": 2
          }
         }
        },
        "xaxis": {
         "anchor": "y",
         "domain": [
          0,
          1
         ],
         "title": {
          "text": "Strom / A"
         }
        },
        "yaxis": {
         "anchor": "x",
         "domain": [
          0,
          1
         ],
         "title": {
          "text": "Drehmoment / Nm"
         }
        }
       }
      }
     },
     "metadata": {},
     "output_type": "display_data"
    }
   ],
   "source": [
    "exploration_data.plot(kind=\"scatter\", x=\"Strom / A\", y=\"Drehmoment / Nm\")"
   ]
  },
  {
   "cell_type": "markdown",
   "id": "3b894e69",
   "metadata": {},
   "source": [
    "Für die Maschinen müssen wir den Code etwas umständlicher formulieren, da sich die Plot-Funktion mit kategorischen Variablen etwas schwer tun kann..."
   ]
  },
  {
   "cell_type": "code",
   "execution_count": 16,
   "id": "2b890af8",
   "metadata": {},
   "outputs": [
    {
     "data": {
      "image/png": "[encoded data removed]",
      "text/plain": [
       "<Figure size 640x480 with 1 Axes>"
      ]
     },
     "metadata": {},
     "output_type": "display_data"
    }
   ],
   "source": [
    "import matplotlib.pyplot as plt\n",
    "groups = exploration_data.groupby('Maschine')\n",
    "\n",
    "fig, ax = plt.subplots()\n",
    "for name, group in groups:\n",
    "    ax.plot(group['Strom / A'], group['Drehmoment / Nm'], marker='o', linestyle='', ms=12, label=name)\n",
    "_ = ax.legend()"
   ]
  },
  {
   "cell_type": "markdown",
   "id": "8c52b2ed",
   "metadata": {},
   "source": [
    "Die beiden Streudiagramme zeigen, dass sich die drei geraden Linien durch die verschiedenen Maschinen ergeben. Testen Sie als nächstes den Zusammenhang zwischen der Stromaufnahme in Ampere und der Werkzeug-Temperatur in °Celsius. Was können Sie erkennen?"
   ]
  },
  {
   "cell_type": "code",
   "execution_count": 18,
   "id": "aa3e5496",
   "metadata": {},
   "outputs": [
    {
     "data": {
      "image/png": "[encoded data removed]",
      "text/plain": [
       "<Figure size 640x480 with 1 Axes>"
      ]
     },
     "metadata": {},
     "output_type": "display_data"
    }
   ],
   "source": [
    "import matplotlib.pyplot as plt\n",
    "\n",
    "exploration_data =  pd.read_csv(\"data/machine_data.csv\",delimiter=\";\", decimal=\",\")\n",
    "groups = exploration_data.groupby('Maschine')\n",
    "\n",
    "fig, ax = plt.subplots()\n",
    "for name, group in groups:\n",
    "    ax.plot(group['Strom / A'], group['Drehmoment / Nm'], marker='o', linestyle='', ms=12, label=name)\n",
    "_ = ax.legend()\n",
    "\n",
    "plt.show()\n",
    "\n"
   ]
  },
  {
   "cell_type": "markdown",
   "id": "4ce78555",
   "metadata": {},
   "source": [
    "Um Ihnen eine bessere Intuition über die Größe und Richtung eines Zusammenhangs zu geben, haben wir eine Auswahl an Streudiagrammen mit unterschiedlichen Zusammenhängen zusammengestellt. Versuchen Sie, die unten aufgeführten Zusammenhänge einzuschätzen. Ist der folgende Zusammenhang groß oder klein, positiv oder negativ?\n",
    "\n",
    "<img src=\"./img/corr_10.svg\" height=200>"
   ]
  },
  {
   "cell_type": "markdown",
   "id": "b4b7d7a6",
   "metadata": {},
   "source": [
    "Wie sieht es bei dem nächsten Zusammenhang aus?\n",
    "\n",
    "<img src=\"./img/corr_-10.svg\" height=200>"
   ]
  },
  {
   "cell_type": "markdown",
   "id": "5cc03013",
   "metadata": {},
   "source": [
    "Überlegen Sie, wie ein Streudiagramm aussehen würde, wenn es keinen Zusammenhang zwischen den Merkmalen gäbe. Beschreiben Sie dann den folgenden Zusammenhang:\n",
    "\n",
    "<img src=\"./img/corr_00.svg\" height=200>"
   ]
  },
  {
   "cell_type": "markdown",
   "id": "010ce112",
   "metadata": {},
   "source": [
    "Schätzen Sie zum Schluss noch diesen Zusammenhang ein:\n",
    "\n",
    "<img src=\"./img/corr_08.svg\" height=200>"
   ]
  },
  {
   "cell_type": "markdown",
   "id": "72e07aba",
   "metadata": {},
   "source": [
    "Möchten Sie Ihre Intuition über die Größe von Zusammenhängen (mit dem Korrelationskoeffizienten nach Pearson) noch weiter ausbauen, empfehlen wir Ihnen das Online-Spiel [Guess the Correlation](http://guessthecorrelation.com/). "
   ]
  },
  {
   "cell_type": "markdown",
   "id": "ca6434ad",
   "metadata": {},
   "source": [
    "## Korrelationen und Transformationen"
   ]
  },
  {
   "cell_type": "markdown",
   "id": "f11af625",
   "metadata": {},
   "source": [
    "Mit dem besseren Verständnis über die Stärke und Richtung von Zusammenhängen können wir uns nun direkt die Korrelationskoeffizienten nach Pearson für unsere metrischen Merkmale anschauen. Dazu benutzen wir die ```corr()```-Funktion (zur Bestimmung der Korrelationen) in Verbindung mit ```\"plt.imshow\"``` (kurz für _image show_) und passenden Farben (```\"RdBu_r\"```) zur Erstellung einer [Heatmap](https://plotly.github.io/plotly.py-docs/generated/plotly.express.imshow.html). Versuchen Sie, sich anhand der Farben und Ihrem Wissen über den Pearsons Correlation einen Reim aus der Matrix zu machen:"
   ]
  },
  {
   "cell_type": "code",
   "execution_count": 25,
   "id": "6276737b",
   "metadata": {},
   "outputs": [
    {
     "data": {
      "image/png": "[encoded data removed]",
      "text/plain": [
       "<Figure size 640x480 with 1 Axes>"
      ]
     },
     "metadata": {},
     "output_type": "display_data"
    }
   ],
   "source": [
    "import numpy as np\n",
    "\n",
    "numeric_cols = exploration_data.select_dtypes(include=[np.number])\n",
    "corr = numeric_cols.corr()\n",
    "plt.imshow(corr, cmap=\"RdBu\")\n",
    "_ = plt.yticks(range(len(corr)), corr.index)"
   ]
  },
  {
   "cell_type": "markdown",
   "id": "f5dfd8b3",
   "metadata": {},
   "source": [
    "Die Matrix ist etwas schwer zu lesen und es ist mühsam, die Label ordentlich an die Achsen zu schreiben. Dankenswerterweise gibt es unzählige Möglichkeiten, mit ```pandas``` und den zugehörigen Visualisierungsbibliotheken wie z.B. ```plotly```, ```matplotlib``` und ```seaborn``` ansprechende Visualisierungen zu gestalten. Die Kunst liegt vor allem darin, die Bibliotheken auseinander zu halten und die richtige auszuwählen, z.B. um eine geclusterte Heatmap zu erzeugen:"
   ]
  },
  {
   "cell_type": "code",
   "execution_count": 26,
   "id": "967b2c7a",
   "metadata": {},
   "outputs": [
    {
     "data": {
      "text/html": [
       "<style type=\"text/css\">\n",
       "#T_c1ee0_row0_col0, #T_c1ee0_row1_col1, #T_c1ee0_row2_col2, #T_c1ee0_row3_col3, #T_c1ee0_row4_col4, #T_c1ee0_row5_col5, #T_c1ee0_row6_col6, #T_c1ee0_row7_col7, #T_c1ee0_row8_col8 {\n",
       "  background-color: #b40426;\n",
       "  color: #f1f1f1;\n",
       "}\n",
       "#T_c1ee0_row0_col1, #T_c1ee0_row6_col0 {\n",
       "  background-color: #d44e41;\n",
       "  color: #f1f1f1;\n",
       "}\n",
       "#T_c1ee0_row0_col2 {\n",
       "  background-color: #d85646;\n",
       "  color: #f1f1f1;\n",
       "}\n",
       "#T_c1ee0_row0_col3, #T_c1ee0_row0_col4 {\n",
       "  background-color: #3f53c6;\n",
       "  color: #f1f1f1;\n",
       "}\n",
       "#T_c1ee0_row0_col5, #T_c1ee0_row2_col5 {\n",
       "  background-color: #a1c0ff;\n",
       "  color: #000000;\n",
       "}\n",
       "#T_c1ee0_row0_col6 {\n",
       "  background-color: #d95847;\n",
       "  color: #f1f1f1;\n",
       "}\n",
       "#T_c1ee0_row0_col7, #T_c1ee0_row1_col4, #T_c1ee0_row1_col8, #T_c1ee0_row7_col0, #T_c1ee0_row7_col2, #T_c1ee0_row7_col3, #T_c1ee0_row7_col6, #T_c1ee0_row8_col1, #T_c1ee0_row8_col5 {\n",
       "  background-color: #3b4cc0;\n",
       "  color: #f1f1f1;\n",
       "}\n",
       "#T_c1ee0_row0_col8 {\n",
       "  background-color: #6687ed;\n",
       "  color: #f1f1f1;\n",
       "}\n",
       "#T_c1ee0_row1_col0, #T_c1ee0_row2_col0 {\n",
       "  background-color: #d24b40;\n",
       "  color: #f1f1f1;\n",
       "}\n",
       "#T_c1ee0_row1_col2 {\n",
       "  background-color: #c83836;\n",
       "  color: #f1f1f1;\n",
       "}\n",
       "#T_c1ee0_row1_col3 {\n",
       "  background-color: #3d50c3;\n",
       "  color: #f1f1f1;\n",
       "}\n",
       "#T_c1ee0_row1_col5, #T_c1ee0_row4_col2 {\n",
       "  background-color: #a5c3fe;\n",
       "  color: #000000;\n",
       "}\n",
       "#T_c1ee0_row1_col6 {\n",
       "  background-color: #cb3e38;\n",
       "  color: #f1f1f1;\n",
       "}\n",
       "#T_c1ee0_row1_col7 {\n",
       "  background-color: #6788ee;\n",
       "  color: #f1f1f1;\n",
       "}\n",
       "#T_c1ee0_row2_col1 {\n",
       "  background-color: #c53334;\n",
       "  color: #f1f1f1;\n",
       "}\n",
       "#T_c1ee0_row2_col3, #T_c1ee0_row7_col5 {\n",
       "  background-color: #3c4ec2;\n",
       "  color: #f1f1f1;\n",
       "}\n",
       "#T_c1ee0_row2_col4, #T_c1ee0_row5_col3, #T_c1ee0_row6_col3, #T_c1ee0_row8_col6 {\n",
       "  background-color: #4055c8;\n",
       "  color: #f1f1f1;\n",
       "}\n",
       "#T_c1ee0_row2_col6, #T_c1ee0_row6_col2 {\n",
       "  background-color: #b70d28;\n",
       "  color: #f1f1f1;\n",
       "}\n",
       "#T_c1ee0_row2_col7, #T_c1ee0_row6_col7 {\n",
       "  background-color: #7699f6;\n",
       "  color: #f1f1f1;\n",
       "}\n",
       "#T_c1ee0_row2_col8 {\n",
       "  background-color: #7396f5;\n",
       "  color: #f1f1f1;\n",
       "}\n",
       "#T_c1ee0_row3_col0 {\n",
       "  background-color: #d3dbe7;\n",
       "  color: #000000;\n",
       "}\n",
       "#T_c1ee0_row3_col1, #T_c1ee0_row4_col0 {\n",
       "  background-color: #cdd9ec;\n",
       "  color: #000000;\n",
       "}\n",
       "#T_c1ee0_row3_col2 {\n",
       "  background-color: #aac7fd;\n",
       "  color: #000000;\n",
       "}\n",
       "#T_c1ee0_row3_col4, #T_c1ee0_row7_col4 {\n",
       "  background-color: #506bda;\n",
       "  color: #f1f1f1;\n",
       "}\n",
       "#T_c1ee0_row3_col5 {\n",
       "  background-color: #688aef;\n",
       "  color: #f1f1f1;\n",
       "}\n",
       "#T_c1ee0_row3_col6 {\n",
       "  background-color: #aec9fc;\n",
       "  color: #000000;\n",
       "}\n",
       "#T_c1ee0_row3_col7, #T_c1ee0_row6_col5 {\n",
       "  background-color: #d1dae9;\n",
       "  color: #000000;\n",
       "}\n",
       "#T_c1ee0_row3_col8 {\n",
       "  background-color: #cfdaea;\n",
       "  color: #000000;\n",
       "}\n",
       "#T_c1ee0_row4_col1 {\n",
       "  background-color: #c4d5f3;\n",
       "  color: #000000;\n",
       "}\n",
       "#T_c1ee0_row4_col3 {\n",
       "  background-color: #445acc;\n",
       "  color: #f1f1f1;\n",
       "}\n",
       "#T_c1ee0_row4_col5 {\n",
       "  background-color: #f7b89c;\n",
       "  color: #000000;\n",
       "}\n",
       "#T_c1ee0_row4_col6 {\n",
       "  background-color: #bfd3f6;\n",
       "  color: #000000;\n",
       "}\n",
       "#T_c1ee0_row4_col7 {\n",
       "  background-color: #d6dce4;\n",
       "  color: #000000;\n",
       "}\n",
       "#T_c1ee0_row4_col8 {\n",
       "  background-color: #d8dce2;\n",
       "  color: #000000;\n",
       "}\n",
       "#T_c1ee0_row5_col0 {\n",
       "  background-color: #ecd3c5;\n",
       "  color: #000000;\n",
       "}\n",
       "#T_c1ee0_row5_col1 {\n",
       "  background-color: #ebd3c6;\n",
       "  color: #000000;\n",
       "}\n",
       "#T_c1ee0_row5_col2 {\n",
       "  background-color: #d4dbe6;\n",
       "  color: #000000;\n",
       "}\n",
       "#T_c1ee0_row5_col4 {\n",
       "  background-color: #f5c1a9;\n",
       "  color: #000000;\n",
       "}\n",
       "#T_c1ee0_row5_col6 {\n",
       "  background-color: #efcebd;\n",
       "  color: #000000;\n",
       "}\n",
       "#T_c1ee0_row5_col7 {\n",
       "  background-color: #b9d0f9;\n",
       "  color: #000000;\n",
       "}\n",
       "#T_c1ee0_row5_col8 {\n",
       "  background-color: #b1cbfc;\n",
       "  color: #000000;\n",
       "}\n",
       "#T_c1ee0_row6_col1 {\n",
       "  background-color: #c73635;\n",
       "  color: #f1f1f1;\n",
       "}\n",
       "#T_c1ee0_row6_col4 {\n",
       "  background-color: #6384eb;\n",
       "  color: #f1f1f1;\n",
       "}\n",
       "#T_c1ee0_row6_col8 {\n",
       "  background-color: #7295f4;\n",
       "  color: #f1f1f1;\n",
       "}\n",
       "#T_c1ee0_row7_col1 {\n",
       "  background-color: #5d7ce6;\n",
       "  color: #f1f1f1;\n",
       "}\n",
       "#T_c1ee0_row7_col8 {\n",
       "  background-color: #f6a385;\n",
       "  color: #000000;\n",
       "}\n",
       "#T_c1ee0_row8_col0 {\n",
       "  background-color: #6f92f3;\n",
       "  color: #f1f1f1;\n",
       "}\n",
       "#T_c1ee0_row8_col2 {\n",
       "  background-color: #4257c9;\n",
       "  color: #f1f1f1;\n",
       "}\n",
       "#T_c1ee0_row8_col3 {\n",
       "  background-color: #4358cb;\n",
       "  color: #f1f1f1;\n",
       "}\n",
       "#T_c1ee0_row8_col4 {\n",
       "  background-color: #6180e9;\n",
       "  color: #f1f1f1;\n",
       "}\n",
       "#T_c1ee0_row8_col7 {\n",
       "  background-color: #f5a081;\n",
       "  color: #000000;\n",
       "}\n",
       "</style>\n",
       "<table id=\"T_c1ee0\">\n",
       "  <thead>\n",
       "    <tr>\n",
       "      <th class=\"blank level0\" >&nbsp;</th>\n",
       "      <th id=\"T_c1ee0_level0_col0\" class=\"col_heading level0 col0\" >Mode</th>\n",
       "      <th id=\"T_c1ee0_level0_col1\" class=\"col_heading level0 col1\" >Strom / A</th>\n",
       "      <th id=\"T_c1ee0_level0_col2\" class=\"col_heading level0 col2\" >Drehmoment / Nm</th>\n",
       "      <th id=\"T_c1ee0_level0_col3\" class=\"col_heading level0 col3\" >Drehzahl / 1/min</th>\n",
       "      <th id=\"T_c1ee0_level0_col4\" class=\"col_heading level0 col4\" >Temp Umgebung / degC</th>\n",
       "      <th id=\"T_c1ee0_level0_col5\" class=\"col_heading level0 col5\" >Temp Umrichter / degC</th>\n",
       "      <th id=\"T_c1ee0_level0_col6\" class=\"col_heading level0 col6\" >Temp Werkzeug / degC</th>\n",
       "      <th id=\"T_c1ee0_level0_col7\" class=\"col_heading level0 col7\" >Bearbeitungszeit / s</th>\n",
       "      <th id=\"T_c1ee0_level0_col8\" class=\"col_heading level0 col8\" >Spannung / V</th>\n",
       "    </tr>\n",
       "  </thead>\n",
       "  <tbody>\n",
       "    <tr>\n",
       "      <th id=\"T_c1ee0_level0_row0\" class=\"row_heading level0 row0\" >Mode</th>\n",
       "      <td id=\"T_c1ee0_row0_col0\" class=\"data row0 col0\" >1.000000</td>\n",
       "      <td id=\"T_c1ee0_row0_col1\" class=\"data row0 col1\" >0.835772</td>\n",
       "      <td id=\"T_c1ee0_row0_col2\" class=\"data row0 col2\" >0.839966</td>\n",
       "      <td id=\"T_c1ee0_row0_col3\" class=\"data row0 col3\" >0.006522</td>\n",
       "      <td id=\"T_c1ee0_row0_col4\" class=\"data row0 col4\" >-0.035425</td>\n",
       "      <td id=\"T_c1ee0_row0_col5\" class=\"data row0 col5\" >0.193015</td>\n",
       "      <td id=\"T_c1ee0_row0_col6\" class=\"data row0 col6\" >0.831052</td>\n",
       "      <td id=\"T_c1ee0_row0_col7\" class=\"data row0 col7\" >-0.856040</td>\n",
       "      <td id=\"T_c1ee0_row0_col8\" class=\"data row0 col8\" >-0.547725</td>\n",
       "    </tr>\n",
       "    <tr>\n",
       "      <th id=\"T_c1ee0_level0_row1\" class=\"row_heading level0 row1\" >Strom / A</th>\n",
       "      <td id=\"T_c1ee0_row1_col0\" class=\"data row1 col0\" >0.835772</td>\n",
       "      <td id=\"T_c1ee0_row1_col1\" class=\"data row1 col1\" >1.000000</td>\n",
       "      <td id=\"T_c1ee0_row1_col2\" class=\"data row1 col2\" >0.912103</td>\n",
       "      <td id=\"T_c1ee0_row1_col3\" class=\"data row1 col3\" >-0.001132</td>\n",
       "      <td id=\"T_c1ee0_row1_col4\" class=\"data row1 col4\" >-0.054343</td>\n",
       "      <td id=\"T_c1ee0_row1_col5\" class=\"data row1 col5\" >0.210063</td>\n",
       "      <td id=\"T_c1ee0_row1_col6\" class=\"data row1 col6\" >0.902496</td>\n",
       "      <td id=\"T_c1ee0_row1_col7\" class=\"data row1 col7\" >-0.591317</td>\n",
       "      <td id=\"T_c1ee0_row1_col8\" class=\"data row1 col8\" >-0.792864</td>\n",
       "    </tr>\n",
       "    <tr>\n",
       "      <th id=\"T_c1ee0_level0_row2\" class=\"row_heading level0 row2\" >Drehmoment / Nm</th>\n",
       "      <td id=\"T_c1ee0_row2_col0\" class=\"data row2 col0\" >0.839966</td>\n",
       "      <td id=\"T_c1ee0_row2_col1\" class=\"data row2 col1\" >0.912103</td>\n",
       "      <td id=\"T_c1ee0_row2_col2\" class=\"data row2 col2\" >1.000000</td>\n",
       "      <td id=\"T_c1ee0_row2_col3\" class=\"data row2 col3\" >-0.006293</td>\n",
       "      <td id=\"T_c1ee0_row2_col4\" class=\"data row2 col4\" >-0.030835</td>\n",
       "      <td id=\"T_c1ee0_row2_col5\" class=\"data row2 col5\" >0.194336</td>\n",
       "      <td id=\"T_c1ee0_row2_col6\" class=\"data row2 col6\" >0.982286</td>\n",
       "      <td id=\"T_c1ee0_row2_col7\" class=\"data row2 col7\" >-0.513077</td>\n",
       "      <td id=\"T_c1ee0_row2_col8\" class=\"data row2 col8\" >-0.475290</td>\n",
       "    </tr>\n",
       "    <tr>\n",
       "      <th id=\"T_c1ee0_level0_row3\" class=\"row_heading level0 row3\" >Drehzahl / 1/min</th>\n",
       "      <td id=\"T_c1ee0_row3_col0\" class=\"data row3 col0\" >0.006522</td>\n",
       "      <td id=\"T_c1ee0_row3_col1\" class=\"data row3 col1\" >-0.001132</td>\n",
       "      <td id=\"T_c1ee0_row3_col2\" class=\"data row3 col2\" >-0.006293</td>\n",
       "      <td id=\"T_c1ee0_row3_col3\" class=\"data row3 col3\" >1.000000</td>\n",
       "      <td id=\"T_c1ee0_row3_col4\" class=\"data row3 col4\" >0.022899</td>\n",
       "      <td id=\"T_c1ee0_row3_col5\" class=\"data row3 col5\" >0.008019</td>\n",
       "      <td id=\"T_c1ee0_row3_col6\" class=\"data row3 col6\" >0.009744</td>\n",
       "      <td id=\"T_c1ee0_row3_col7\" class=\"data row3 col7\" >-0.012222</td>\n",
       "      <td id=\"T_c1ee0_row3_col8\" class=\"data row3 col8\" >0.018289</td>\n",
       "    </tr>\n",
       "    <tr>\n",
       "      <th id=\"T_c1ee0_level0_row4\" class=\"row_heading level0 row4\" >Temp Umgebung / degC</th>\n",
       "      <td id=\"T_c1ee0_row4_col0\" class=\"data row4 col0\" >-0.035425</td>\n",
       "      <td id=\"T_c1ee0_row4_col1\" class=\"data row4 col1\" >-0.054343</td>\n",
       "      <td id=\"T_c1ee0_row4_col2\" class=\"data row4 col2\" >-0.030835</td>\n",
       "      <td id=\"T_c1ee0_row4_col3\" class=\"data row4 col3\" >0.022899</td>\n",
       "      <td id=\"T_c1ee0_row4_col4\" class=\"data row4 col4\" >1.000000</td>\n",
       "      <td id=\"T_c1ee0_row4_col5\" class=\"data row4 col5\" >0.613823</td>\n",
       "      <td id=\"T_c1ee0_row4_col6\" class=\"data row4 col6\" >0.084915</td>\n",
       "      <td id=\"T_c1ee0_row4_col7\" class=\"data row4 col7\" >0.021571</td>\n",
       "      <td id=\"T_c1ee0_row4_col8\" class=\"data row4 col8\" >0.074822</td>\n",
       "    </tr>\n",
       "    <tr>\n",
       "      <th id=\"T_c1ee0_level0_row5\" class=\"row_heading level0 row5\" >Temp Umrichter / degC</th>\n",
       "      <td id=\"T_c1ee0_row5_col0\" class=\"data row5 col0\" >0.193015</td>\n",
       "      <td id=\"T_c1ee0_row5_col1\" class=\"data row5 col1\" >0.210063</td>\n",
       "      <td id=\"T_c1ee0_row5_col2\" class=\"data row5 col2\" >0.194336</td>\n",
       "      <td id=\"T_c1ee0_row5_col3\" class=\"data row5 col3\" >0.008019</td>\n",
       "      <td id=\"T_c1ee0_row5_col4\" class=\"data row5 col4\" >0.613823</td>\n",
       "      <td id=\"T_c1ee0_row5_col5\" class=\"data row5 col5\" >1.000000</td>\n",
       "      <td id=\"T_c1ee0_row5_col6\" class=\"data row5 col6\" >0.367212</td>\n",
       "      <td id=\"T_c1ee0_row5_col7\" class=\"data row5 col7\" >-0.153698</td>\n",
       "      <td id=\"T_c1ee0_row5_col8\" class=\"data row5 col8\" >-0.160730</td>\n",
       "    </tr>\n",
       "    <tr>\n",
       "      <th id=\"T_c1ee0_level0_row6\" class=\"row_heading level0 row6\" >Temp Werkzeug / degC</th>\n",
       "      <td id=\"T_c1ee0_row6_col0\" class=\"data row6 col0\" >0.831052</td>\n",
       "      <td id=\"T_c1ee0_row6_col1\" class=\"data row6 col1\" >0.902496</td>\n",
       "      <td id=\"T_c1ee0_row6_col2\" class=\"data row6 col2\" >0.982286</td>\n",
       "      <td id=\"T_c1ee0_row6_col3\" class=\"data row6 col3\" >0.009744</td>\n",
       "      <td id=\"T_c1ee0_row6_col4\" class=\"data row6 col4\" >0.084915</td>\n",
       "      <td id=\"T_c1ee0_row6_col5\" class=\"data row6 col5\" >0.367212</td>\n",
       "      <td id=\"T_c1ee0_row6_col6\" class=\"data row6 col6\" >1.000000</td>\n",
       "      <td id=\"T_c1ee0_row6_col7\" class=\"data row6 col7\" >-0.514064</td>\n",
       "      <td id=\"T_c1ee0_row6_col8\" class=\"data row6 col8\" >-0.480132</td>\n",
       "    </tr>\n",
       "    <tr>\n",
       "      <th id=\"T_c1ee0_level0_row7\" class=\"row_heading level0 row7\" >Bearbeitungszeit / s</th>\n",
       "      <td id=\"T_c1ee0_row7_col0\" class=\"data row7 col0\" >-0.856040</td>\n",
       "      <td id=\"T_c1ee0_row7_col1\" class=\"data row7 col1\" >-0.591317</td>\n",
       "      <td id=\"T_c1ee0_row7_col2\" class=\"data row7 col2\" >-0.513077</td>\n",
       "      <td id=\"T_c1ee0_row7_col3\" class=\"data row7 col3\" >-0.012222</td>\n",
       "      <td id=\"T_c1ee0_row7_col4\" class=\"data row7 col4\" >0.021571</td>\n",
       "      <td id=\"T_c1ee0_row7_col5\" class=\"data row7 col5\" >-0.153698</td>\n",
       "      <td id=\"T_c1ee0_row7_col6\" class=\"data row7 col6\" >-0.514064</td>\n",
       "      <td id=\"T_c1ee0_row7_col7\" class=\"data row7 col7\" >1.000000</td>\n",
       "      <td id=\"T_c1ee0_row7_col8\" class=\"data row7 col8\" >0.503361</td>\n",
       "    </tr>\n",
       "    <tr>\n",
       "      <th id=\"T_c1ee0_level0_row8\" class=\"row_heading level0 row8\" >Spannung / V</th>\n",
       "      <td id=\"T_c1ee0_row8_col0\" class=\"data row8 col0\" >-0.547725</td>\n",
       "      <td id=\"T_c1ee0_row8_col1\" class=\"data row8 col1\" >-0.792864</td>\n",
       "      <td id=\"T_c1ee0_row8_col2\" class=\"data row8 col2\" >-0.475290</td>\n",
       "      <td id=\"T_c1ee0_row8_col3\" class=\"data row8 col3\" >0.018289</td>\n",
       "      <td id=\"T_c1ee0_row8_col4\" class=\"data row8 col4\" >0.074822</td>\n",
       "      <td id=\"T_c1ee0_row8_col5\" class=\"data row8 col5\" >-0.160730</td>\n",
       "      <td id=\"T_c1ee0_row8_col6\" class=\"data row8 col6\" >-0.480132</td>\n",
       "      <td id=\"T_c1ee0_row8_col7\" class=\"data row8 col7\" >0.503361</td>\n",
       "      <td id=\"T_c1ee0_row8_col8\" class=\"data row8 col8\" >1.000000</td>\n",
       "    </tr>\n",
       "  </tbody>\n",
       "</table>\n"
      ],
      "text/plain": [
       "<pandas.io.formats.style.Styler at 0x1594d60f9d0>"
      ]
     },
     "execution_count": 26,
     "metadata": {},
     "output_type": "execute_result"
    }
   ],
   "source": [
    "corr.style.background_gradient(cmap ='coolwarm')"
   ]
  },
  {
   "cell_type": "markdown",
   "id": "95bfe4d6",
   "metadata": {},
   "source": [
    "Deckt sich die berechnete Korrelation mit Ihren Erkenntnissen aus den Streudiagrammen? Fallen Ihnen noch weitere interessante Zusammenhänge auf? Manchmal ergeben sich interessante Zusammenhänge erst, wenn man verschiedene Merkmale miteinander kombiniert. So können wir zum Beispiel die Spannung aus der Drehzahl, dem Drehmoment und der Stromstärke [berechnen](https://en.wikipedia.org/wiki/Electric_motor). Lassen Sie uns hierzu eine neue Spalte in unserer Tabelle anlegen:"
   ]
  },
  {
   "cell_type": "code",
   "execution_count": 31,
   "id": "c24fd3f2",
   "metadata": {},
   "outputs": [],
   "source": [
    "exploration_data[\"Spannung / V\"] = (2 * 3.14 / 60 * exploration_data[\"Drehzahl / 1/min\"] *\n",
    "exploration_data[\"Drehmoment / Nm\"] / exploration_data[\"Strom / A\"])"
   ]
  },
  {
   "cell_type": "markdown",
   "id": "828a1941",
   "metadata": {},
   "source": [
    "Nun können wir die Korrelationskoeffizienten nach Pearson für unser neues Merkmal noch einmal darstellen:"
   ]
  },
  {
   "cell_type": "code",
   "execution_count": 34,
   "id": "7dcddf9d",
   "metadata": {},
   "outputs": [
    {
     "data": {
      "text/html": [
       "<style type=\"text/css\">\n",
       "#T_f8187_row0_col0, #T_f8187_row1_col1, #T_f8187_row2_col2, #T_f8187_row3_col3, #T_f8187_row4_col4, #T_f8187_row5_col5, #T_f8187_row6_col6, #T_f8187_row7_col7, #T_f8187_row8_col8 {\n",
       "  background-color: #b40426;\n",
       "  color: #f1f1f1;\n",
       "}\n",
       "#T_f8187_row0_col1, #T_f8187_row6_col0 {\n",
       "  background-color: #d44e41;\n",
       "  color: #f1f1f1;\n",
       "}\n",
       "#T_f8187_row0_col2 {\n",
       "  background-color: #d85646;\n",
       "  color: #f1f1f1;\n",
       "}\n",
       "#T_f8187_row0_col3, #T_f8187_row0_col4 {\n",
       "  background-color: #3f53c6;\n",
       "  color: #f1f1f1;\n",
       "}\n",
       "#T_f8187_row0_col5, #T_f8187_row2_col5 {\n",
       "  background-color: #a1c0ff;\n",
       "  color: #000000;\n",
       "}\n",
       "#T_f8187_row0_col6 {\n",
       "  background-color: #d95847;\n",
       "  color: #f1f1f1;\n",
       "}\n",
       "#T_f8187_row0_col7, #T_f8187_row1_col4, #T_f8187_row1_col8, #T_f8187_row7_col0, #T_f8187_row7_col2, #T_f8187_row7_col3, #T_f8187_row7_col6, #T_f8187_row8_col1, #T_f8187_row8_col5 {\n",
       "  background-color: #3b4cc0;\n",
       "  color: #f1f1f1;\n",
       "}\n",
       "#T_f8187_row0_col8 {\n",
       "  background-color: #6687ed;\n",
       "  color: #f1f1f1;\n",
       "}\n",
       "#T_f8187_row1_col0, #T_f8187_row2_col0 {\n",
       "  background-color: #d24b40;\n",
       "  color: #f1f1f1;\n",
       "}\n",
       "#T_f8187_row1_col2 {\n",
       "  background-color: #c83836;\n",
       "  color: #f1f1f1;\n",
       "}\n",
       "#T_f8187_row1_col3 {\n",
       "  background-color: #3d50c3;\n",
       "  color: #f1f1f1;\n",
       "}\n",
       "#T_f8187_row1_col5, #T_f8187_row4_col2 {\n",
       "  background-color: #a5c3fe;\n",
       "  color: #000000;\n",
       "}\n",
       "#T_f8187_row1_col6 {\n",
       "  background-color: #cb3e38;\n",
       "  color: #f1f1f1;\n",
       "}\n",
       "#T_f8187_row1_col7 {\n",
       "  background-color: #6788ee;\n",
       "  color: #f1f1f1;\n",
       "}\n",
       "#T_f8187_row2_col1 {\n",
       "  background-color: #c53334;\n",
       "  color: #f1f1f1;\n",
       "}\n",
       "#T_f8187_row2_col3, #T_f8187_row7_col5 {\n",
       "  background-color: #3c4ec2;\n",
       "  color: #f1f1f1;\n",
       "}\n",
       "#T_f8187_row2_col4, #T_f8187_row5_col3, #T_f8187_row6_col3, #T_f8187_row8_col6 {\n",
       "  background-color: #4055c8;\n",
       "  color: #f1f1f1;\n",
       "}\n",
       "#T_f8187_row2_col6, #T_f8187_row6_col2 {\n",
       "  background-color: #b70d28;\n",
       "  color: #f1f1f1;\n",
       "}\n",
       "#T_f8187_row2_col7, #T_f8187_row6_col7 {\n",
       "  background-color: #7699f6;\n",
       "  color: #f1f1f1;\n",
       "}\n",
       "#T_f8187_row2_col8 {\n",
       "  background-color: #7396f5;\n",
       "  color: #f1f1f1;\n",
       "}\n",
       "#T_f8187_row3_col0 {\n",
       "  background-color: #d3dbe7;\n",
       "  color: #000000;\n",
       "}\n",
       "#T_f8187_row3_col1, #T_f8187_row4_col0 {\n",
       "  background-color: #cdd9ec;\n",
       "  color: #000000;\n",
       "}\n",
       "#T_f8187_row3_col2 {\n",
       "  background-color: #aac7fd;\n",
       "  color: #000000;\n",
       "}\n",
       "#T_f8187_row3_col4, #T_f8187_row7_col4 {\n",
       "  background-color: #506bda;\n",
       "  color: #f1f1f1;\n",
       "}\n",
       "#T_f8187_row3_col5 {\n",
       "  background-color: #688aef;\n",
       "  color: #f1f1f1;\n",
       "}\n",
       "#T_f8187_row3_col6 {\n",
       "  background-color: #aec9fc;\n",
       "  color: #000000;\n",
       "}\n",
       "#T_f8187_row3_col7, #T_f8187_row6_col5 {\n",
       "  background-color: #d1dae9;\n",
       "  color: #000000;\n",
       "}\n",
       "#T_f8187_row3_col8 {\n",
       "  background-color: #cfdaea;\n",
       "  color: #000000;\n",
       "}\n",
       "#T_f8187_row4_col1 {\n",
       "  background-color: #c4d5f3;\n",
       "  color: #000000;\n",
       "}\n",
       "#T_f8187_row4_col3 {\n",
       "  background-color: #445acc;\n",
       "  color: #f1f1f1;\n",
       "}\n",
       "#T_f8187_row4_col5 {\n",
       "  background-color: #f7b89c;\n",
       "  color: #000000;\n",
       "}\n",
       "#T_f8187_row4_col6 {\n",
       "  background-color: #bfd3f6;\n",
       "  color: #000000;\n",
       "}\n",
       "#T_f8187_row4_col7 {\n",
       "  background-color: #d6dce4;\n",
       "  color: #000000;\n",
       "}\n",
       "#T_f8187_row4_col8 {\n",
       "  background-color: #d8dce2;\n",
       "  color: #000000;\n",
       "}\n",
       "#T_f8187_row5_col0 {\n",
       "  background-color: #ecd3c5;\n",
       "  color: #000000;\n",
       "}\n",
       "#T_f8187_row5_col1 {\n",
       "  background-color: #ebd3c6;\n",
       "  color: #000000;\n",
       "}\n",
       "#T_f8187_row5_col2 {\n",
       "  background-color: #d4dbe6;\n",
       "  color: #000000;\n",
       "}\n",
       "#T_f8187_row5_col4 {\n",
       "  background-color: #f5c1a9;\n",
       "  color: #000000;\n",
       "}\n",
       "#T_f8187_row5_col6 {\n",
       "  background-color: #efcebd;\n",
       "  color: #000000;\n",
       "}\n",
       "#T_f8187_row5_col7 {\n",
       "  background-color: #b9d0f9;\n",
       "  color: #000000;\n",
       "}\n",
       "#T_f8187_row5_col8 {\n",
       "  background-color: #b1cbfc;\n",
       "  color: #000000;\n",
       "}\n",
       "#T_f8187_row6_col1 {\n",
       "  background-color: #c73635;\n",
       "  color: #f1f1f1;\n",
       "}\n",
       "#T_f8187_row6_col4 {\n",
       "  background-color: #6384eb;\n",
       "  color: #f1f1f1;\n",
       "}\n",
       "#T_f8187_row6_col8 {\n",
       "  background-color: #7295f4;\n",
       "  color: #f1f1f1;\n",
       "}\n",
       "#T_f8187_row7_col1 {\n",
       "  background-color: #5d7ce6;\n",
       "  color: #f1f1f1;\n",
       "}\n",
       "#T_f8187_row7_col8 {\n",
       "  background-color: #f6a385;\n",
       "  color: #000000;\n",
       "}\n",
       "#T_f8187_row8_col0 {\n",
       "  background-color: #6f92f3;\n",
       "  color: #f1f1f1;\n",
       "}\n",
       "#T_f8187_row8_col2 {\n",
       "  background-color: #4257c9;\n",
       "  color: #f1f1f1;\n",
       "}\n",
       "#T_f8187_row8_col3 {\n",
       "  background-color: #4358cb;\n",
       "  color: #f1f1f1;\n",
       "}\n",
       "#T_f8187_row8_col4 {\n",
       "  background-color: #6180e9;\n",
       "  color: #f1f1f1;\n",
       "}\n",
       "#T_f8187_row8_col7 {\n",
       "  background-color: #f5a081;\n",
       "  color: #000000;\n",
       "}\n",
       "</style>\n",
       "<table id=\"T_f8187\">\n",
       "  <thead>\n",
       "    <tr>\n",
       "      <th class=\"blank level0\" >&nbsp;</th>\n",
       "      <th id=\"T_f8187_level0_col0\" class=\"col_heading level0 col0\" >Mode</th>\n",
       "      <th id=\"T_f8187_level0_col1\" class=\"col_heading level0 col1\" >Strom / A</th>\n",
       "      <th id=\"T_f8187_level0_col2\" class=\"col_heading level0 col2\" >Drehmoment / Nm</th>\n",
       "      <th id=\"T_f8187_level0_col3\" class=\"col_heading level0 col3\" >Drehzahl / 1/min</th>\n",
       "      <th id=\"T_f8187_level0_col4\" class=\"col_heading level0 col4\" >Temp Umgebung / degC</th>\n",
       "      <th id=\"T_f8187_level0_col5\" class=\"col_heading level0 col5\" >Temp Umrichter / degC</th>\n",
       "      <th id=\"T_f8187_level0_col6\" class=\"col_heading level0 col6\" >Temp Werkzeug / degC</th>\n",
       "      <th id=\"T_f8187_level0_col7\" class=\"col_heading level0 col7\" >Bearbeitungszeit / s</th>\n",
       "      <th id=\"T_f8187_level0_col8\" class=\"col_heading level0 col8\" >Spannung / V</th>\n",
       "    </tr>\n",
       "  </thead>\n",
       "  <tbody>\n",
       "    <tr>\n",
       "      <th id=\"T_f8187_level0_row0\" class=\"row_heading level0 row0\" >Mode</th>\n",
       "      <td id=\"T_f8187_row0_col0\" class=\"data row0 col0\" >1.000000</td>\n",
       "      <td id=\"T_f8187_row0_col1\" class=\"data row0 col1\" >0.835772</td>\n",
       "      <td id=\"T_f8187_row0_col2\" class=\"data row0 col2\" >0.839966</td>\n",
       "      <td id=\"T_f8187_row0_col3\" class=\"data row0 col3\" >0.006522</td>\n",
       "      <td id=\"T_f8187_row0_col4\" class=\"data row0 col4\" >-0.035425</td>\n",
       "      <td id=\"T_f8187_row0_col5\" class=\"data row0 col5\" >0.193015</td>\n",
       "      <td id=\"T_f8187_row0_col6\" class=\"data row0 col6\" >0.831052</td>\n",
       "      <td id=\"T_f8187_row0_col7\" class=\"data row0 col7\" >-0.856040</td>\n",
       "      <td id=\"T_f8187_row0_col8\" class=\"data row0 col8\" >-0.547725</td>\n",
       "    </tr>\n",
       "    <tr>\n",
       "      <th id=\"T_f8187_level0_row1\" class=\"row_heading level0 row1\" >Strom / A</th>\n",
       "      <td id=\"T_f8187_row1_col0\" class=\"data row1 col0\" >0.835772</td>\n",
       "      <td id=\"T_f8187_row1_col1\" class=\"data row1 col1\" >1.000000</td>\n",
       "      <td id=\"T_f8187_row1_col2\" class=\"data row1 col2\" >0.912103</td>\n",
       "      <td id=\"T_f8187_row1_col3\" class=\"data row1 col3\" >-0.001132</td>\n",
       "      <td id=\"T_f8187_row1_col4\" class=\"data row1 col4\" >-0.054343</td>\n",
       "      <td id=\"T_f8187_row1_col5\" class=\"data row1 col5\" >0.210063</td>\n",
       "      <td id=\"T_f8187_row1_col6\" class=\"data row1 col6\" >0.902496</td>\n",
       "      <td id=\"T_f8187_row1_col7\" class=\"data row1 col7\" >-0.591317</td>\n",
       "      <td id=\"T_f8187_row1_col8\" class=\"data row1 col8\" >-0.792864</td>\n",
       "    </tr>\n",
       "    <tr>\n",
       "      <th id=\"T_f8187_level0_row2\" class=\"row_heading level0 row2\" >Drehmoment / Nm</th>\n",
       "      <td id=\"T_f8187_row2_col0\" class=\"data row2 col0\" >0.839966</td>\n",
       "      <td id=\"T_f8187_row2_col1\" class=\"data row2 col1\" >0.912103</td>\n",
       "      <td id=\"T_f8187_row2_col2\" class=\"data row2 col2\" >1.000000</td>\n",
       "      <td id=\"T_f8187_row2_col3\" class=\"data row2 col3\" >-0.006293</td>\n",
       "      <td id=\"T_f8187_row2_col4\" class=\"data row2 col4\" >-0.030835</td>\n",
       "      <td id=\"T_f8187_row2_col5\" class=\"data row2 col5\" >0.194336</td>\n",
       "      <td id=\"T_f8187_row2_col6\" class=\"data row2 col6\" >0.982286</td>\n",
       "      <td id=\"T_f8187_row2_col7\" class=\"data row2 col7\" >-0.513077</td>\n",
       "      <td id=\"T_f8187_row2_col8\" class=\"data row2 col8\" >-0.475290</td>\n",
       "    </tr>\n",
       "    <tr>\n",
       "      <th id=\"T_f8187_level0_row3\" class=\"row_heading level0 row3\" >Drehzahl / 1/min</th>\n",
       "      <td id=\"T_f8187_row3_col0\" class=\"data row3 col0\" >0.006522</td>\n",
       "      <td id=\"T_f8187_row3_col1\" class=\"data row3 col1\" >-0.001132</td>\n",
       "      <td id=\"T_f8187_row3_col2\" class=\"data row3 col2\" >-0.006293</td>\n",
       "      <td id=\"T_f8187_row3_col3\" class=\"data row3 col3\" >1.000000</td>\n",
       "      <td id=\"T_f8187_row3_col4\" class=\"data row3 col4\" >0.022899</td>\n",
       "      <td id=\"T_f8187_row3_col5\" class=\"data row3 col5\" >0.008019</td>\n",
       "      <td id=\"T_f8187_row3_col6\" class=\"data row3 col6\" >0.009744</td>\n",
       "      <td id=\"T_f8187_row3_col7\" class=\"data row3 col7\" >-0.012222</td>\n",
       "      <td id=\"T_f8187_row3_col8\" class=\"data row3 col8\" >0.018289</td>\n",
       "    </tr>\n",
       "    <tr>\n",
       "      <th id=\"T_f8187_level0_row4\" class=\"row_heading level0 row4\" >Temp Umgebung / degC</th>\n",
       "      <td id=\"T_f8187_row4_col0\" class=\"data row4 col0\" >-0.035425</td>\n",
       "      <td id=\"T_f8187_row4_col1\" class=\"data row4 col1\" >-0.054343</td>\n",
       "      <td id=\"T_f8187_row4_col2\" class=\"data row4 col2\" >-0.030835</td>\n",
       "      <td id=\"T_f8187_row4_col3\" class=\"data row4 col3\" >0.022899</td>\n",
       "      <td id=\"T_f8187_row4_col4\" class=\"data row4 col4\" >1.000000</td>\n",
       "      <td id=\"T_f8187_row4_col5\" class=\"data row4 col5\" >0.613823</td>\n",
       "      <td id=\"T_f8187_row4_col6\" class=\"data row4 col6\" >0.084915</td>\n",
       "      <td id=\"T_f8187_row4_col7\" class=\"data row4 col7\" >0.021571</td>\n",
       "      <td id=\"T_f8187_row4_col8\" class=\"data row4 col8\" >0.074822</td>\n",
       "    </tr>\n",
       "    <tr>\n",
       "      <th id=\"T_f8187_level0_row5\" class=\"row_heading level0 row5\" >Temp Umrichter / degC</th>\n",
       "      <td id=\"T_f8187_row5_col0\" class=\"data row5 col0\" >0.193015</td>\n",
       "      <td id=\"T_f8187_row5_col1\" class=\"data row5 col1\" >0.210063</td>\n",
       "      <td id=\"T_f8187_row5_col2\" class=\"data row5 col2\" >0.194336</td>\n",
       "      <td id=\"T_f8187_row5_col3\" class=\"data row5 col3\" >0.008019</td>\n",
       "      <td id=\"T_f8187_row5_col4\" class=\"data row5 col4\" >0.613823</td>\n",
       "      <td id=\"T_f8187_row5_col5\" class=\"data row5 col5\" >1.000000</td>\n",
       "      <td id=\"T_f8187_row5_col6\" class=\"data row5 col6\" >0.367212</td>\n",
       "      <td id=\"T_f8187_row5_col7\" class=\"data row5 col7\" >-0.153698</td>\n",
       "      <td id=\"T_f8187_row5_col8\" class=\"data row5 col8\" >-0.160730</td>\n",
       "    </tr>\n",
       "    <tr>\n",
       "      <th id=\"T_f8187_level0_row6\" class=\"row_heading level0 row6\" >Temp Werkzeug / degC</th>\n",
       "      <td id=\"T_f8187_row6_col0\" class=\"data row6 col0\" >0.831052</td>\n",
       "      <td id=\"T_f8187_row6_col1\" class=\"data row6 col1\" >0.902496</td>\n",
       "      <td id=\"T_f8187_row6_col2\" class=\"data row6 col2\" >0.982286</td>\n",
       "      <td id=\"T_f8187_row6_col3\" class=\"data row6 col3\" >0.009744</td>\n",
       "      <td id=\"T_f8187_row6_col4\" class=\"data row6 col4\" >0.084915</td>\n",
       "      <td id=\"T_f8187_row6_col5\" class=\"data row6 col5\" >0.367212</td>\n",
       "      <td id=\"T_f8187_row6_col6\" class=\"data row6 col6\" >1.000000</td>\n",
       "      <td id=\"T_f8187_row6_col7\" class=\"data row6 col7\" >-0.514064</td>\n",
       "      <td id=\"T_f8187_row6_col8\" class=\"data row6 col8\" >-0.480132</td>\n",
       "    </tr>\n",
       "    <tr>\n",
       "      <th id=\"T_f8187_level0_row7\" class=\"row_heading level0 row7\" >Bearbeitungszeit / s</th>\n",
       "      <td id=\"T_f8187_row7_col0\" class=\"data row7 col0\" >-0.856040</td>\n",
       "      <td id=\"T_f8187_row7_col1\" class=\"data row7 col1\" >-0.591317</td>\n",
       "      <td id=\"T_f8187_row7_col2\" class=\"data row7 col2\" >-0.513077</td>\n",
       "      <td id=\"T_f8187_row7_col3\" class=\"data row7 col3\" >-0.012222</td>\n",
       "      <td id=\"T_f8187_row7_col4\" class=\"data row7 col4\" >0.021571</td>\n",
       "      <td id=\"T_f8187_row7_col5\" class=\"data row7 col5\" >-0.153698</td>\n",
       "      <td id=\"T_f8187_row7_col6\" class=\"data row7 col6\" >-0.514064</td>\n",
       "      <td id=\"T_f8187_row7_col7\" class=\"data row7 col7\" >1.000000</td>\n",
       "      <td id=\"T_f8187_row7_col8\" class=\"data row7 col8\" >0.503361</td>\n",
       "    </tr>\n",
       "    <tr>\n",
       "      <th id=\"T_f8187_level0_row8\" class=\"row_heading level0 row8\" >Spannung / V</th>\n",
       "      <td id=\"T_f8187_row8_col0\" class=\"data row8 col0\" >-0.547725</td>\n",
       "      <td id=\"T_f8187_row8_col1\" class=\"data row8 col1\" >-0.792864</td>\n",
       "      <td id=\"T_f8187_row8_col2\" class=\"data row8 col2\" >-0.475290</td>\n",
       "      <td id=\"T_f8187_row8_col3\" class=\"data row8 col3\" >0.018289</td>\n",
       "      <td id=\"T_f8187_row8_col4\" class=\"data row8 col4\" >0.074822</td>\n",
       "      <td id=\"T_f8187_row8_col5\" class=\"data row8 col5\" >-0.160730</td>\n",
       "      <td id=\"T_f8187_row8_col6\" class=\"data row8 col6\" >-0.480132</td>\n",
       "      <td id=\"T_f8187_row8_col7\" class=\"data row8 col7\" >0.503361</td>\n",
       "      <td id=\"T_f8187_row8_col8\" class=\"data row8 col8\" >1.000000</td>\n",
       "    </tr>\n",
       "  </tbody>\n",
       "</table>\n"
      ],
      "text/plain": [
       "<pandas.io.formats.style.Styler at 0x1594d617090>"
      ]
     },
     "execution_count": 34,
     "metadata": {},
     "output_type": "execute_result"
    }
   ],
   "source": [
    "import numpy as np\n",
    "\n",
    "numeric_cols = exploration_data.select_dtypes(include=[np.number])\n",
    "corr = numeric_cols.corr()\n",
    "corr.style.background_gradient(cmap ='coolwarm')"
   ]
  },
  {
   "cell_type": "markdown",
   "id": "57ae4acc",
   "metadata": {},
   "source": [
    "Ergeben sich durch unser neues Merkmal neue interessante Zusammenhänge? Versuchen Sie nun selbst, eine Hypothese darüber aufzustellen, welche Merkmalskombination interessante Zusammenhänge zeigen könnte. Ohne Wissen über mechatronische Systeme erwarten wir natürlich nicht, dass Ihre Hypothese plausibel ist. Für unsere Zwecke würde daher auch die Hypothese genügen, dass sich durch die Multiplikation oder Division zweier beliebiger Merkmale möglicherweise ein neues interessantes Merkmal ergeben könnte. Legen Sie in der Tabelle dann eine neue Spalte für Ihr Merkmal an und lassen Sie sich die Korrelationskoeffizienten nach Pearson in einer Heatmap ausgeben. Nicht-benötige Spalten können Sie bei Bedarf mit ```del exploration_data[\"...\"]``` löschen, indem sie ```...``` durch den Spaltennamen ersetzen. Achtung - solche Befehle können Sie offensichtlich nicht wiederholt ausfüllen."
   ]
  },
  {
   "cell_type": "code",
   "execution_count": 36,
   "id": "e6df38f6",
   "metadata": {},
   "outputs": [],
   "source": [
    "# del exploration_data[\"Spannung / V\"]"
   ]
  },
  {
   "cell_type": "markdown",
   "id": "02993568",
   "metadata": {},
   "source": [
    "**Prima!**\n",
    "Sie haben mit dieser Übung einiges erreicht. Sie können nun sowohl Säulen- oder Balkendiagramme, Histogramme, Streudiagramme als auch Heatmaps in Plotly visualisieren, um einen Datensatz zu erkunden - alles in jeweils nur einer einzigen Zeile Code. Sie haben zudem die wichtigsten Funktionsargumente kennengelernt und haben einige davon auch selbst angepasst. Dass Sie auch eigene Hypothesen aufstellen und testen können, eröffnet Ihnen die Möglichkeit, Ihre eigenen Annahmen auch ohne eine gezielte Datenanalyse auf die Probe zu stellen. "
   ]
  },
  {
   "cell_type": "markdown",
   "id": "fe10b405",
   "metadata": {},
   "source": []
  }
 ],
 "metadata": {
  "kernelspec": {
   "display_name": "Python 3 (ipykernel)",
   "language": "python",
   "name": "python3"
  },
  "language_info": {
   "codemirror_mode": {
    "name": "ipython",
    "version": 3
   },
   "file_extension": ".py",
   "mimetype": "text/x-python",
   "name": "python",
   "nbconvert_exporter": "python",
   "pygments_lexer": "ipython3",
   "version": "3.11.5"
  },
  "vscode": {
   "interpreter": {
    "hash": "ad2bdc8ecc057115af97d19610ffacc2b4e99fae6737bb82f5d7fb13d2f2c186"
   }
  }
 },
 "nbformat": 4,
 "nbformat_minor": 5
}
